{
 "cells": [
  {
   "cell_type": "markdown",
   "source": "# Predicción Lluvia en Australia",
   "metadata": {
    "cell_id": "f57d70a9f4d843debfd05b81246b2902",
    "tags": [],
    "is_collapsed": false,
    "deepnote_cell_type": "text-cell-h1"
   }
  },
  {
   "cell_type": "markdown",
   "source": "La tarea es desarrollar un modelo de aprendizaje que prediga de manera binaria (sí/no) si el día de mañana lloverá (columna RainTomorrow) en una o varias de las ciudades australianas que existen en los datos (columna Location).",
   "metadata": {
    "cell_id": "679d0138d6bb4a2ba9b0dd494cb457b9",
    "tags": [],
    "is_collapsed": false,
    "deepnote_cell_type": "text-cell-p"
   }
  },
  {
   "cell_type": "code",
   "metadata": {
    "cell_id": "5bc546e0148e4a9d88ddbacd7a55db30",
    "tags": [],
    "deepnote_to_be_reexecuted": false,
    "source_hash": "5783f003",
    "execution_start": 1649251103217,
    "execution_millis": 2843,
    "deepnote_cell_type": "code",
    "deepnote_cell_height": 215.40625
   },
   "source": "!pip install geopy==2.2.0",
   "execution_count": 1,
   "outputs": [
    {
     "name": "stdout",
     "text": "Requirement already satisfied: geopy==2.2.0 in /root/venv/lib/python3.9/site-packages (2.2.0)\nRequirement already satisfied: geographiclib<2,>=1.49 in /root/venv/lib/python3.9/site-packages (from geopy==2.2.0) (1.52)\n\u001b[33mWARNING: You are using pip version 21.2.3; however, version 22.0.4 is available.\nYou should consider upgrading via the '/root/venv/bin/python -m pip install --upgrade pip' command.\u001b[0m\n",
     "output_type": "stream"
    }
   ]
  },
  {
   "cell_type": "code",
   "metadata": {
    "cell_id": "6b582c419e5148798b39d84aeea87c28",
    "tags": [],
    "deepnote_to_be_reexecuted": false,
    "source_hash": "576e38bd",
    "execution_start": 1649251106064,
    "execution_millis": 1981,
    "deepnote_cell_type": "code",
    "deepnote_cell_height": 351.65625
   },
   "source": "import numpy as np \nimport pandas as pd \nimport geopandas as gpd\nimport seaborn as sns\nimport matplotlib.pyplot as plt\nfrom plotly.subplots import make_subplots\nimport plotly.graph_objects as go\nimport folium\nfrom folium import Choropleth, Circle, Marker\nfrom folium.plugins import HeatMap, MarkerCluster\n\nfrom geopy.geocoders import Nominatim\nimport time\nimport math\n\n#from mlp_toolkits.Basemap.test import Basemap",
   "execution_count": 2,
   "outputs": []
  },
  {
   "cell_type": "markdown",
   "source": "## Análisis Exploratorio de Datos",
   "metadata": {
    "cell_id": "b6c0e9b8425848d2907e156d81bd7852",
    "tags": [],
    "is_collapsed": false,
    "deepnote_cell_type": "text-cell-h2"
   }
  },
  {
   "cell_type": "code",
   "metadata": {
    "cell_id": "7b0d7e254f184a6998ee622b23608549",
    "tags": [],
    "deepnote_to_be_reexecuted": false,
    "source_hash": "2f672e53",
    "execution_start": 1649251108049,
    "execution_millis": 465,
    "deepnote_cell_type": "code",
    "deepnote_cell_height": 473
   },
   "source": "# Importar el dataset (.csv)\n\nrain = pd.read_csv('/work/weatherAUS.csv')\nrain.head(5)",
   "execution_count": 3,
   "outputs": [
    {
     "output_type": "execute_result",
     "execution_count": 3,
     "data": {
      "application/vnd.deepnote.dataframe.v3+json": {
       "column_count": 23,
       "row_count": 5,
       "columns": [
        {
         "name": "Date",
         "dtype": "object",
         "stats": {
          "unique_count": 5,
          "nan_count": 0,
          "categories": [
           {
            "name": "2008-12-01",
            "count": 1
           },
           {
            "name": "2008-12-02",
            "count": 1
           },
           {
            "name": "3 others",
            "count": 3
           }
          ]
         }
        },
        {
         "name": "Location",
         "dtype": "object",
         "stats": {
          "unique_count": 1,
          "nan_count": 0,
          "categories": [
           {
            "name": "Albury",
            "count": 5
           }
          ]
         }
        },
        {
         "name": "MinTemp",
         "dtype": "float64",
         "stats": {
          "unique_count": 5,
          "nan_count": 0,
          "min": "7.4",
          "max": "17.5",
          "histogram": [
           {
            "bin_start": 7.4,
            "bin_end": 8.41,
            "count": 1
           },
           {
            "bin_start": 8.41,
            "bin_end": 9.42,
            "count": 1
           },
           {
            "bin_start": 9.42,
            "bin_end": 10.43,
            "count": 0
           },
           {
            "bin_start": 10.43,
            "bin_end": 11.440000000000001,
            "count": 0
           },
           {
            "bin_start": 11.440000000000001,
            "bin_end": 12.45,
            "count": 0
           },
           {
            "bin_start": 12.45,
            "bin_end": 13.46,
            "count": 2
           },
           {
            "bin_start": 13.46,
            "bin_end": 14.47,
            "count": 0
           },
           {
            "bin_start": 14.47,
            "bin_end": 15.48,
            "count": 0
           },
           {
            "bin_start": 15.48,
            "bin_end": 16.490000000000002,
            "count": 0
           },
           {
            "bin_start": 16.490000000000002,
            "bin_end": 17.5,
            "count": 1
           }
          ]
         }
        },
        {
         "name": "MaxTemp",
         "dtype": "float64",
         "stats": {
          "unique_count": 5,
          "nan_count": 0,
          "min": "22.9",
          "max": "32.3",
          "histogram": [
           {
            "bin_start": 22.9,
            "bin_end": 23.84,
            "count": 1
           },
           {
            "bin_start": 23.84,
            "bin_end": 24.779999999999998,
            "count": 0
           },
           {
            "bin_start": 24.779999999999998,
            "bin_end": 25.72,
            "count": 2
           },
           {
            "bin_start": 25.72,
            "bin_end": 26.659999999999997,
            "count": 0
           },
           {
            "bin_start": 26.659999999999997,
            "bin_end": 27.599999999999998,
            "count": 0
           },
           {
            "bin_start": 27.599999999999998,
            "bin_end": 28.54,
            "count": 1
           },
           {
            "bin_start": 28.54,
            "bin_end": 29.479999999999997,
            "count": 0
           },
           {
            "bin_start": 29.479999999999997,
            "bin_end": 30.419999999999998,
            "count": 0
           },
           {
            "bin_start": 30.419999999999998,
            "bin_end": 31.36,
            "count": 0
           },
           {
            "bin_start": 31.36,
            "bin_end": 32.3,
            "count": 1
           }
          ]
         }
        },
        {
         "name": "Rainfall",
         "dtype": "float64",
         "stats": {
          "unique_count": 3,
          "nan_count": 0,
          "min": "0.0",
          "max": "1.0",
          "histogram": [
           {
            "bin_start": 0,
            "bin_end": 0.1,
            "count": 3
           },
           {
            "bin_start": 0.1,
            "bin_end": 0.2,
            "count": 0
           },
           {
            "bin_start": 0.2,
            "bin_end": 0.30000000000000004,
            "count": 0
           },
           {
            "bin_start": 0.30000000000000004,
            "bin_end": 0.4,
            "count": 0
           },
           {
            "bin_start": 0.4,
            "bin_end": 0.5,
            "count": 0
           },
           {
            "bin_start": 0.5,
            "bin_end": 0.6000000000000001,
            "count": 1
           },
           {
            "bin_start": 0.6000000000000001,
            "bin_end": 0.7000000000000001,
            "count": 0
           },
           {
            "bin_start": 0.7000000000000001,
            "bin_end": 0.8,
            "count": 0
           },
           {
            "bin_start": 0.8,
            "bin_end": 0.9,
            "count": 0
           },
           {
            "bin_start": 0.9,
            "bin_end": 1,
            "count": 1
           }
          ]
         }
        },
        {
         "name": "Evaporation",
         "dtype": "float64",
         "stats": {
          "unique_count": 0,
          "nan_count": 5,
          "min": null,
          "max": null,
          "histogram": [
           {
            "bin_start": 0,
            "bin_end": 0.1,
            "count": 0
           },
           {
            "bin_start": 0.1,
            "bin_end": 0.2,
            "count": 0
           },
           {
            "bin_start": 0.2,
            "bin_end": 0.30000000000000004,
            "count": 0
           },
           {
            "bin_start": 0.30000000000000004,
            "bin_end": 0.4,
            "count": 0
           },
           {
            "bin_start": 0.4,
            "bin_end": 0.5,
            "count": 0
           },
           {
            "bin_start": 0.5,
            "bin_end": 0.6000000000000001,
            "count": 0
           },
           {
            "bin_start": 0.6000000000000001,
            "bin_end": 0.7000000000000001,
            "count": 0
           },
           {
            "bin_start": 0.7000000000000001,
            "bin_end": 0.8,
            "count": 0
           },
           {
            "bin_start": 0.8,
            "bin_end": 0.9,
            "count": 0
           },
           {
            "bin_start": 0.9,
            "bin_end": 1,
            "count": 0
           }
          ]
         }
        },
        {
         "name": "Sunshine",
         "dtype": "float64",
         "stats": {
          "unique_count": 0,
          "nan_count": 5,
          "min": null,
          "max": null,
          "histogram": [
           {
            "bin_start": 0,
            "bin_end": 0.1,
            "count": 0
           },
           {
            "bin_start": 0.1,
            "bin_end": 0.2,
            "count": 0
           },
           {
            "bin_start": 0.2,
            "bin_end": 0.30000000000000004,
            "count": 0
           },
           {
            "bin_start": 0.30000000000000004,
            "bin_end": 0.4,
            "count": 0
           },
           {
            "bin_start": 0.4,
            "bin_end": 0.5,
            "count": 0
           },
           {
            "bin_start": 0.5,
            "bin_end": 0.6000000000000001,
            "count": 0
           },
           {
            "bin_start": 0.6000000000000001,
            "bin_end": 0.7000000000000001,
            "count": 0
           },
           {
            "bin_start": 0.7000000000000001,
            "bin_end": 0.8,
            "count": 0
           },
           {
            "bin_start": 0.8,
            "bin_end": 0.9,
            "count": 0
           },
           {
            "bin_start": 0.9,
            "bin_end": 1,
            "count": 0
           }
          ]
         }
        },
        {
         "name": "WindGustDir",
         "dtype": "object",
         "stats": {
          "unique_count": 4,
          "nan_count": 0,
          "categories": [
           {
            "name": "W",
            "count": 2
           },
           {
            "name": "WNW",
            "count": 1
           },
           {
            "name": "2 others",
            "count": 2
           }
          ]
         }
        },
        {
         "name": "WindGustSpeed",
         "dtype": "float64",
         "stats": {
          "unique_count": 4,
          "nan_count": 0,
          "min": "24.0",
          "max": "46.0",
          "histogram": [
           {
            "bin_start": 24,
            "bin_end": 26.2,
            "count": 1
           },
           {
            "bin_start": 26.2,
            "bin_end": 28.4,
            "count": 0
           },
           {
            "bin_start": 28.4,
            "bin_end": 30.6,
            "count": 0
           },
           {
            "bin_start": 30.6,
            "bin_end": 32.8,
            "count": 0
           },
           {
            "bin_start": 32.8,
            "bin_end": 35,
            "count": 0
           },
           {
            "bin_start": 35,
            "bin_end": 37.2,
            "count": 0
           },
           {
            "bin_start": 37.2,
            "bin_end": 39.400000000000006,
            "count": 0
           },
           {
            "bin_start": 39.400000000000006,
            "bin_end": 41.6,
            "count": 1
           },
           {
            "bin_start": 41.6,
            "bin_end": 43.8,
            "count": 0
           },
           {
            "bin_start": 43.8,
            "bin_end": 46,
            "count": 3
           }
          ]
         }
        },
        {
         "name": "WindDir9am",
         "dtype": "object",
         "stats": {
          "unique_count": 4,
          "nan_count": 0,
          "categories": [
           {
            "name": "W",
            "count": 2
           },
           {
            "name": "NNW",
            "count": 1
           },
           {
            "name": "2 others",
            "count": 2
           }
          ]
         }
        },
        {
         "name": "WindDir3pm",
         "dtype": "object",
         "stats": {
          "unique_count": 4,
          "nan_count": 0,
          "categories": [
           {
            "name": "WSW",
            "count": 2
           },
           {
            "name": "WNW",
            "count": 1
           },
           {
            "name": "2 others",
            "count": 2
           }
          ]
         }
        },
        {
         "name": "WindSpeed9am",
         "dtype": "float64",
         "stats": {
          "unique_count": 5,
          "nan_count": 0,
          "min": "4.0",
          "max": "20.0",
          "histogram": [
           {
            "bin_start": 4,
            "bin_end": 5.6,
            "count": 1
           },
           {
            "bin_start": 5.6,
            "bin_end": 7.2,
            "count": 1
           },
           {
            "bin_start": 7.2,
            "bin_end": 8.8,
            "count": 0
           },
           {
            "bin_start": 8.8,
            "bin_end": 10.4,
            "count": 0
           },
           {
            "bin_start": 10.4,
            "bin_end": 12,
            "count": 1
           },
           {
            "bin_start": 12,
            "bin_end": 13.600000000000001,
            "count": 0
           },
           {
            "bin_start": 13.600000000000001,
            "bin_end": 15.200000000000001,
            "count": 0
           },
           {
            "bin_start": 15.200000000000001,
            "bin_end": 16.8,
            "count": 0
           },
           {
            "bin_start": 16.8,
            "bin_end": 18.4,
            "count": 0
           },
           {
            "bin_start": 18.4,
            "bin_end": 20,
            "count": 2
           }
          ]
         }
        },
        {
         "name": "WindSpeed3pm",
         "dtype": "float64",
         "stats": {
          "unique_count": 5,
          "nan_count": 0,
          "min": "9.0",
          "max": "26.0",
          "histogram": [
           {
            "bin_start": 9,
            "bin_end": 10.7,
            "count": 1
           },
           {
            "bin_start": 10.7,
            "bin_end": 12.4,
            "count": 0
           },
           {
            "bin_start": 12.4,
            "bin_end": 14.1,
            "count": 0
           },
           {
            "bin_start": 14.1,
            "bin_end": 15.8,
            "count": 0
           },
           {
            "bin_start": 15.8,
            "bin_end": 17.5,
            "count": 0
           },
           {
            "bin_start": 17.5,
            "bin_end": 19.2,
            "count": 0
           },
           {
            "bin_start": 19.2,
            "bin_end": 20.9,
            "count": 1
           },
           {
            "bin_start": 20.9,
            "bin_end": 22.6,
            "count": 1
           },
           {
            "bin_start": 22.6,
            "bin_end": 24.299999999999997,
            "count": 1
           },
           {
            "bin_start": 24.299999999999997,
            "bin_end": 26,
            "count": 1
           }
          ]
         }
        },
        {
         "name": "Humidity9am",
         "dtype": "float64",
         "stats": {
          "unique_count": 5,
          "nan_count": 0,
          "min": "38.0",
          "max": "82.0",
          "histogram": [
           {
            "bin_start": 38,
            "bin_end": 42.4,
            "count": 1
           },
           {
            "bin_start": 42.4,
            "bin_end": 46.8,
            "count": 2
           },
           {
            "bin_start": 46.8,
            "bin_end": 51.2,
            "count": 0
           },
           {
            "bin_start": 51.2,
            "bin_end": 55.6,
            "count": 0
           },
           {
            "bin_start": 55.6,
            "bin_end": 60,
            "count": 0
           },
           {
            "bin_start": 60,
            "bin_end": 64.4,
            "count": 0
           },
           {
            "bin_start": 64.4,
            "bin_end": 68.80000000000001,
            "count": 0
           },
           {
            "bin_start": 68.80000000000001,
            "bin_end": 73.2,
            "count": 1
           },
           {
            "bin_start": 73.2,
            "bin_end": 77.6,
            "count": 0
           },
           {
            "bin_start": 77.6,
            "bin_end": 82,
            "count": 1
           }
          ]
         }
        },
        {
         "name": "Humidity3pm",
         "dtype": "float64",
         "stats": {
          "unique_count": 5,
          "nan_count": 0,
          "min": "16.0",
          "max": "33.0",
          "histogram": [
           {
            "bin_start": 16,
            "bin_end": 17.7,
            "count": 1
           },
           {
            "bin_start": 17.7,
            "bin_end": 19.4,
            "count": 0
           },
           {
            "bin_start": 19.4,
            "bin_end": 21.1,
            "count": 0
           },
           {
            "bin_start": 21.1,
            "bin_end": 22.8,
            "count": 1
           },
           {
            "bin_start": 22.8,
            "bin_end": 24.5,
            "count": 0
           },
           {
            "bin_start": 24.5,
            "bin_end": 26.2,
            "count": 1
           },
           {
            "bin_start": 26.2,
            "bin_end": 27.9,
            "count": 0
           },
           {
            "bin_start": 27.9,
            "bin_end": 29.6,
            "count": 0
           },
           {
            "bin_start": 29.6,
            "bin_end": 31.299999999999997,
            "count": 1
           },
           {
            "bin_start": 31.299999999999997,
            "bin_end": 33,
            "count": 1
           }
          ]
         }
        },
        {
         "name": "Pressure9am",
         "dtype": "float64",
         "stats": {
          "unique_count": 5,
          "nan_count": 0,
          "min": "1007.6",
          "max": "1017.6",
          "histogram": [
           {
            "bin_start": 1007.6,
            "bin_end": 1008.6,
            "count": 2
           },
           {
            "bin_start": 1008.6,
            "bin_end": 1009.6,
            "count": 0
           },
           {
            "bin_start": 1009.6,
            "bin_end": 1010.6,
            "count": 0
           },
           {
            "bin_start": 1010.6,
            "bin_end": 1011.6,
            "count": 2
           },
           {
            "bin_start": 1011.6,
            "bin_end": 1012.6,
            "count": 0
           },
           {
            "bin_start": 1012.6,
            "bin_end": 1013.6,
            "count": 0
           },
           {
            "bin_start": 1013.6,
            "bin_end": 1014.6,
            "count": 0
           },
           {
            "bin_start": 1014.6,
            "bin_end": 1015.6,
            "count": 0
           },
           {
            "bin_start": 1015.6,
            "bin_end": 1016.6,
            "count": 0
           },
           {
            "bin_start": 1016.6,
            "bin_end": 1017.6,
            "count": 1
           }
          ]
         }
        },
        {
         "name": "Pressure3pm",
         "dtype": "float64",
         "stats": {
          "unique_count": 5,
          "nan_count": 0,
          "min": "1006.0",
          "max": "1012.8",
          "histogram": [
           {
            "bin_start": 1006,
            "bin_end": 1006.68,
            "count": 1
           },
           {
            "bin_start": 1006.68,
            "bin_end": 1007.36,
            "count": 1
           },
           {
            "bin_start": 1007.36,
            "bin_end": 1008.04,
            "count": 1
           },
           {
            "bin_start": 1008.04,
            "bin_end": 1008.72,
            "count": 1
           },
           {
            "bin_start": 1008.72,
            "bin_end": 1009.4,
            "count": 0
           },
           {
            "bin_start": 1009.4,
            "bin_end": 1010.0799999999999,
            "count": 0
           },
           {
            "bin_start": 1010.0799999999999,
            "bin_end": 1010.76,
            "count": 0
           },
           {
            "bin_start": 1010.76,
            "bin_end": 1011.4399999999999,
            "count": 0
           },
           {
            "bin_start": 1011.4399999999999,
            "bin_end": 1012.12,
            "count": 0
           },
           {
            "bin_start": 1012.12,
            "bin_end": 1012.8,
            "count": 1
           }
          ]
         }
        },
        {
         "name": "Cloud9am",
         "dtype": "float64",
         "stats": {
          "unique_count": 2,
          "nan_count": 3,
          "min": "7.0",
          "max": "8.0",
          "histogram": [
           {
            "bin_start": 7,
            "bin_end": 7.1,
            "count": 1
           },
           {
            "bin_start": 7.1,
            "bin_end": 7.2,
            "count": 0
           },
           {
            "bin_start": 7.2,
            "bin_end": 7.3,
            "count": 0
           },
           {
            "bin_start": 7.3,
            "bin_end": 7.4,
            "count": 0
           },
           {
            "bin_start": 7.4,
            "bin_end": 7.5,
            "count": 0
           },
           {
            "bin_start": 7.5,
            "bin_end": 7.6,
            "count": 0
           },
           {
            "bin_start": 7.6,
            "bin_end": 7.7,
            "count": 0
           },
           {
            "bin_start": 7.7,
            "bin_end": 7.8,
            "count": 0
           },
           {
            "bin_start": 7.8,
            "bin_end": 7.9,
            "count": 0
           },
           {
            "bin_start": 7.9,
            "bin_end": 8,
            "count": 1
           }
          ]
         }
        },
        {
         "name": "Cloud3pm",
         "dtype": "float64",
         "stats": {
          "unique_count": 2,
          "nan_count": 3,
          "min": "2.0",
          "max": "8.0",
          "histogram": [
           {
            "bin_start": 2,
            "bin_end": 2.6,
            "count": 1
           },
           {
            "bin_start": 2.6,
            "bin_end": 3.2,
            "count": 0
           },
           {
            "bin_start": 3.2,
            "bin_end": 3.8,
            "count": 0
           },
           {
            "bin_start": 3.8,
            "bin_end": 4.4,
            "count": 0
           },
           {
            "bin_start": 4.4,
            "bin_end": 5,
            "count": 0
           },
           {
            "bin_start": 5,
            "bin_end": 5.6,
            "count": 0
           },
           {
            "bin_start": 5.6,
            "bin_end": 6.2,
            "count": 0
           },
           {
            "bin_start": 6.2,
            "bin_end": 6.8,
            "count": 0
           },
           {
            "bin_start": 6.8,
            "bin_end": 7.3999999999999995,
            "count": 0
           },
           {
            "bin_start": 7.3999999999999995,
            "bin_end": 8,
            "count": 1
           }
          ]
         }
        },
        {
         "name": "Temp9am",
         "dtype": "float64",
         "stats": {
          "unique_count": 5,
          "nan_count": 0,
          "min": "16.9",
          "max": "21.0",
          "histogram": [
           {
            "bin_start": 16.9,
            "bin_end": 17.31,
            "count": 2
           },
           {
            "bin_start": 17.31,
            "bin_end": 17.72,
            "count": 0
           },
           {
            "bin_start": 17.72,
            "bin_end": 18.13,
            "count": 2
           },
           {
            "bin_start": 18.13,
            "bin_end": 18.54,
            "count": 0
           },
           {
            "bin_start": 18.54,
            "bin_end": 18.95,
            "count": 0
           },
           {
            "bin_start": 18.95,
            "bin_end": 19.36,
            "count": 0
           },
           {
            "bin_start": 19.36,
            "bin_end": 19.77,
            "count": 0
           },
           {
            "bin_start": 19.77,
            "bin_end": 20.18,
            "count": 0
           },
           {
            "bin_start": 20.18,
            "bin_end": 20.59,
            "count": 0
           },
           {
            "bin_start": 20.59,
            "bin_end": 21,
            "count": 1
           }
          ]
         }
        },
        {
         "name": "Temp3pm",
         "dtype": "float64",
         "stats": {
          "unique_count": 5,
          "nan_count": 0,
          "min": "21.8",
          "max": "29.7",
          "histogram": [
           {
            "bin_start": 21.8,
            "bin_end": 22.59,
            "count": 1
           },
           {
            "bin_start": 22.59,
            "bin_end": 23.38,
            "count": 1
           },
           {
            "bin_start": 23.38,
            "bin_end": 24.17,
            "count": 0
           },
           {
            "bin_start": 24.17,
            "bin_end": 24.96,
            "count": 1
           },
           {
            "bin_start": 24.96,
            "bin_end": 25.75,
            "count": 0
           },
           {
            "bin_start": 25.75,
            "bin_end": 26.54,
            "count": 1
           },
           {
            "bin_start": 26.54,
            "bin_end": 27.33,
            "count": 0
           },
           {
            "bin_start": 27.33,
            "bin_end": 28.119999999999997,
            "count": 0
           },
           {
            "bin_start": 28.119999999999997,
            "bin_end": 28.91,
            "count": 0
           },
           {
            "bin_start": 28.91,
            "bin_end": 29.7,
            "count": 1
           }
          ]
         }
        },
        {
         "name": "RainToday",
         "dtype": "object",
         "stats": {
          "unique_count": 1,
          "nan_count": 0,
          "categories": [
           {
            "name": "No",
            "count": 5
           }
          ]
         }
        },
        {
         "name": "RainTomorrow",
         "dtype": "object",
         "stats": {
          "unique_count": 1,
          "nan_count": 0,
          "categories": [
           {
            "name": "No",
            "count": 5
           }
          ]
         }
        },
        {
         "name": "_deepnote_index_column",
         "dtype": "int64"
        }
       ],
       "rows": [
        {
         "Date": "2008-12-01",
         "Location": "Albury",
         "MinTemp": 13.4,
         "MaxTemp": 22.9,
         "Rainfall": 0.6,
         "Evaporation": "nan",
         "Sunshine": "nan",
         "WindGustDir": "W",
         "WindGustSpeed": 44,
         "WindDir9am": "W",
         "WindDir3pm": "WNW",
         "WindSpeed9am": 20,
         "WindSpeed3pm": 24,
         "Humidity9am": 71,
         "Humidity3pm": 22,
         "Pressure9am": 1007.7,
         "Pressure3pm": 1007.1,
         "Cloud9am": 8,
         "Cloud3pm": "nan",
         "Temp9am": 16.9,
         "Temp3pm": 21.8,
         "RainToday": "No",
         "RainTomorrow": "No",
         "_deepnote_index_column": 0
        },
        {
         "Date": "2008-12-02",
         "Location": "Albury",
         "MinTemp": 7.4,
         "MaxTemp": 25.1,
         "Rainfall": 0,
         "Evaporation": "nan",
         "Sunshine": "nan",
         "WindGustDir": "WNW",
         "WindGustSpeed": 44,
         "WindDir9am": "NNW",
         "WindDir3pm": "WSW",
         "WindSpeed9am": 4,
         "WindSpeed3pm": 22,
         "Humidity9am": 44,
         "Humidity3pm": 25,
         "Pressure9am": 1010.6,
         "Pressure3pm": 1007.8,
         "Cloud9am": "nan",
         "Cloud3pm": "nan",
         "Temp9am": 17.2,
         "Temp3pm": 24.3,
         "RainToday": "No",
         "RainTomorrow": "No",
         "_deepnote_index_column": 1
        },
        {
         "Date": "2008-12-03",
         "Location": "Albury",
         "MinTemp": 12.9,
         "MaxTemp": 25.7,
         "Rainfall": 0,
         "Evaporation": "nan",
         "Sunshine": "nan",
         "WindGustDir": "WSW",
         "WindGustSpeed": 46,
         "WindDir9am": "W",
         "WindDir3pm": "WSW",
         "WindSpeed9am": 19,
         "WindSpeed3pm": 26,
         "Humidity9am": 38,
         "Humidity3pm": 30,
         "Pressure9am": 1007.6,
         "Pressure3pm": 1008.7,
         "Cloud9am": "nan",
         "Cloud3pm": 2,
         "Temp9am": 21,
         "Temp3pm": 23.2,
         "RainToday": "No",
         "RainTomorrow": "No",
         "_deepnote_index_column": 2
        },
        {
         "Date": "2008-12-04",
         "Location": "Albury",
         "MinTemp": 9.2,
         "MaxTemp": 28,
         "Rainfall": 0,
         "Evaporation": "nan",
         "Sunshine": "nan",
         "WindGustDir": "NE",
         "WindGustSpeed": 24,
         "WindDir9am": "SE",
         "WindDir3pm": "E",
         "WindSpeed9am": 11,
         "WindSpeed3pm": 9,
         "Humidity9am": 45,
         "Humidity3pm": 16,
         "Pressure9am": 1017.6,
         "Pressure3pm": 1012.8,
         "Cloud9am": "nan",
         "Cloud3pm": "nan",
         "Temp9am": 18.1,
         "Temp3pm": 26.5,
         "RainToday": "No",
         "RainTomorrow": "No",
         "_deepnote_index_column": 3
        },
        {
         "Date": "2008-12-05",
         "Location": "Albury",
         "MinTemp": 17.5,
         "MaxTemp": 32.3,
         "Rainfall": 1,
         "Evaporation": "nan",
         "Sunshine": "nan",
         "WindGustDir": "W",
         "WindGustSpeed": 41,
         "WindDir9am": "ENE",
         "WindDir3pm": "NW",
         "WindSpeed9am": 7,
         "WindSpeed3pm": 20,
         "Humidity9am": 82,
         "Humidity3pm": 33,
         "Pressure9am": 1010.8,
         "Pressure3pm": 1006,
         "Cloud9am": 7,
         "Cloud3pm": 8,
         "Temp9am": 17.8,
         "Temp3pm": 29.7,
         "RainToday": "No",
         "RainTomorrow": "No",
         "_deepnote_index_column": 4
        }
       ]
      },
      "text/plain": "         Date Location  MinTemp  MaxTemp  Rainfall  Evaporation  Sunshine  \\\n0  2008-12-01   Albury     13.4     22.9       0.6          NaN       NaN   \n1  2008-12-02   Albury      7.4     25.1       0.0          NaN       NaN   \n2  2008-12-03   Albury     12.9     25.7       0.0          NaN       NaN   \n3  2008-12-04   Albury      9.2     28.0       0.0          NaN       NaN   \n4  2008-12-05   Albury     17.5     32.3       1.0          NaN       NaN   \n\n  WindGustDir  WindGustSpeed WindDir9am  ... Humidity9am  Humidity3pm  \\\n0           W           44.0          W  ...        71.0         22.0   \n1         WNW           44.0        NNW  ...        44.0         25.0   \n2         WSW           46.0          W  ...        38.0         30.0   \n3          NE           24.0         SE  ...        45.0         16.0   \n4           W           41.0        ENE  ...        82.0         33.0   \n\n   Pressure9am  Pressure3pm  Cloud9am  Cloud3pm  Temp9am  Temp3pm  RainToday  \\\n0       1007.7       1007.1       8.0       NaN     16.9     21.8         No   \n1       1010.6       1007.8       NaN       NaN     17.2     24.3         No   \n2       1007.6       1008.7       NaN       2.0     21.0     23.2         No   \n3       1017.6       1012.8       NaN       NaN     18.1     26.5         No   \n4       1010.8       1006.0       7.0       8.0     17.8     29.7         No   \n\n   RainTomorrow  \n0            No  \n1            No  \n2            No  \n3            No  \n4            No  \n\n[5 rows x 23 columns]",
      "text/html": "<div>\n<style scoped>\n    .dataframe tbody tr th:only-of-type {\n        vertical-align: middle;\n    }\n\n    .dataframe tbody tr th {\n        vertical-align: top;\n    }\n\n    .dataframe thead th {\n        text-align: right;\n    }\n</style>\n<table border=\"1\" class=\"dataframe\">\n  <thead>\n    <tr style=\"text-align: right;\">\n      <th></th>\n      <th>Date</th>\n      <th>Location</th>\n      <th>MinTemp</th>\n      <th>MaxTemp</th>\n      <th>Rainfall</th>\n      <th>Evaporation</th>\n      <th>Sunshine</th>\n      <th>WindGustDir</th>\n      <th>WindGustSpeed</th>\n      <th>WindDir9am</th>\n      <th>...</th>\n      <th>Humidity9am</th>\n      <th>Humidity3pm</th>\n      <th>Pressure9am</th>\n      <th>Pressure3pm</th>\n      <th>Cloud9am</th>\n      <th>Cloud3pm</th>\n      <th>Temp9am</th>\n      <th>Temp3pm</th>\n      <th>RainToday</th>\n      <th>RainTomorrow</th>\n    </tr>\n  </thead>\n  <tbody>\n    <tr>\n      <th>0</th>\n      <td>2008-12-01</td>\n      <td>Albury</td>\n      <td>13.4</td>\n      <td>22.9</td>\n      <td>0.6</td>\n      <td>NaN</td>\n      <td>NaN</td>\n      <td>W</td>\n      <td>44.0</td>\n      <td>W</td>\n      <td>...</td>\n      <td>71.0</td>\n      <td>22.0</td>\n      <td>1007.7</td>\n      <td>1007.1</td>\n      <td>8.0</td>\n      <td>NaN</td>\n      <td>16.9</td>\n      <td>21.8</td>\n      <td>No</td>\n      <td>No</td>\n    </tr>\n    <tr>\n      <th>1</th>\n      <td>2008-12-02</td>\n      <td>Albury</td>\n      <td>7.4</td>\n      <td>25.1</td>\n      <td>0.0</td>\n      <td>NaN</td>\n      <td>NaN</td>\n      <td>WNW</td>\n      <td>44.0</td>\n      <td>NNW</td>\n      <td>...</td>\n      <td>44.0</td>\n      <td>25.0</td>\n      <td>1010.6</td>\n      <td>1007.8</td>\n      <td>NaN</td>\n      <td>NaN</td>\n      <td>17.2</td>\n      <td>24.3</td>\n      <td>No</td>\n      <td>No</td>\n    </tr>\n    <tr>\n      <th>2</th>\n      <td>2008-12-03</td>\n      <td>Albury</td>\n      <td>12.9</td>\n      <td>25.7</td>\n      <td>0.0</td>\n      <td>NaN</td>\n      <td>NaN</td>\n      <td>WSW</td>\n      <td>46.0</td>\n      <td>W</td>\n      <td>...</td>\n      <td>38.0</td>\n      <td>30.0</td>\n      <td>1007.6</td>\n      <td>1008.7</td>\n      <td>NaN</td>\n      <td>2.0</td>\n      <td>21.0</td>\n      <td>23.2</td>\n      <td>No</td>\n      <td>No</td>\n    </tr>\n    <tr>\n      <th>3</th>\n      <td>2008-12-04</td>\n      <td>Albury</td>\n      <td>9.2</td>\n      <td>28.0</td>\n      <td>0.0</td>\n      <td>NaN</td>\n      <td>NaN</td>\n      <td>NE</td>\n      <td>24.0</td>\n      <td>SE</td>\n      <td>...</td>\n      <td>45.0</td>\n      <td>16.0</td>\n      <td>1017.6</td>\n      <td>1012.8</td>\n      <td>NaN</td>\n      <td>NaN</td>\n      <td>18.1</td>\n      <td>26.5</td>\n      <td>No</td>\n      <td>No</td>\n    </tr>\n    <tr>\n      <th>4</th>\n      <td>2008-12-05</td>\n      <td>Albury</td>\n      <td>17.5</td>\n      <td>32.3</td>\n      <td>1.0</td>\n      <td>NaN</td>\n      <td>NaN</td>\n      <td>W</td>\n      <td>41.0</td>\n      <td>ENE</td>\n      <td>...</td>\n      <td>82.0</td>\n      <td>33.0</td>\n      <td>1010.8</td>\n      <td>1006.0</td>\n      <td>7.0</td>\n      <td>8.0</td>\n      <td>17.8</td>\n      <td>29.7</td>\n      <td>No</td>\n      <td>No</td>\n    </tr>\n  </tbody>\n</table>\n<p>5 rows × 23 columns</p>\n</div>"
     },
     "metadata": {}
    }
   ]
  },
  {
   "cell_type": "code",
   "metadata": {
    "tags": [],
    "cell_id": "6f70175e-fe10-4431-86c6-b442568c4b58",
    "deepnote_to_be_reexecuted": false,
    "source_hash": "ce0a5be5",
    "execution_start": 1649251108515,
    "execution_millis": 4,
    "deepnote_cell_type": "code",
    "deepnote_cell_height": 137.1875,
    "deepnote_output_heights": [
     21.1875
    ]
   },
   "source": "#Observar las dimensiones del dataset\nrain.shape",
   "execution_count": 4,
   "outputs": [
    {
     "output_type": "execute_result",
     "execution_count": 4,
     "data": {
      "text/plain": "(145460, 23)"
     },
     "metadata": {}
    }
   ]
  },
  {
   "cell_type": "markdown",
   "source": "El dataset tiene 145460 registros y 23 variables.",
   "metadata": {
    "cell_id": "4a914878b17044eab4b4f07f212e3fdd",
    "tags": [],
    "is_collapsed": false,
    "deepnote_cell_type": "text-cell-p"
   }
  },
  {
   "cell_type": "code",
   "metadata": {
    "cell_id": "c3e65bfc984a4b298d7407dc16063521",
    "tags": [],
    "deepnote_to_be_reexecuted": false,
    "source_hash": "3fb262f6",
    "execution_start": 1649251108523,
    "execution_millis": 0,
    "deepnote_cell_type": "code",
    "deepnote_cell_height": 251.125,
    "deepnote_output_heights": [
     117.125
    ]
   },
   "source": "#Observar los nombres de las columnas\ncol_names = rain.columns\ncol_names",
   "execution_count": 5,
   "outputs": [
    {
     "output_type": "execute_result",
     "execution_count": 5,
     "data": {
      "text/plain": "Index(['Date', 'Location', 'MinTemp', 'MaxTemp', 'Rainfall', 'Evaporation',\n       'Sunshine', 'WindGustDir', 'WindGustSpeed', 'WindDir9am', 'WindDir3pm',\n       'WindSpeed9am', 'WindSpeed3pm', 'Humidity9am', 'Humidity3pm',\n       'Pressure9am', 'Pressure3pm', 'Cloud9am', 'Cloud3pm', 'Temp9am',\n       'Temp3pm', 'RainToday', 'RainTomorrow'],\n      dtype='object')"
     },
     "metadata": {}
    }
   ]
  },
  {
   "cell_type": "code",
   "metadata": {
    "cell_id": "5851bb7a4b8142bc95502773c22c2a58",
    "tags": [],
    "deepnote_to_be_reexecuted": false,
    "source_hash": "8f1dac37",
    "execution_start": 1649251108570,
    "execution_millis": 47,
    "deepnote_cell_type": "code",
    "deepnote_cell_height": 686.625
   },
   "source": "#Observar información general del dataset\nrain.info()",
   "execution_count": 6,
   "outputs": [
    {
     "name": "stdout",
     "text": "<class 'pandas.core.frame.DataFrame'>\nRangeIndex: 145460 entries, 0 to 145459\nData columns (total 23 columns):\n #   Column         Non-Null Count   Dtype  \n---  ------         --------------   -----  \n 0   Date           145460 non-null  object \n 1   Location       145460 non-null  object \n 2   MinTemp        143975 non-null  float64\n 3   MaxTemp        144199 non-null  float64\n 4   Rainfall       142199 non-null  float64\n 5   Evaporation    82670 non-null   float64\n 6   Sunshine       75625 non-null   float64\n 7   WindGustDir    135134 non-null  object \n 8   WindGustSpeed  135197 non-null  float64\n 9   WindDir9am     134894 non-null  object \n 10  WindDir3pm     141232 non-null  object \n 11  WindSpeed9am   143693 non-null  float64\n 12  WindSpeed3pm   142398 non-null  float64\n 13  Humidity9am    142806 non-null  float64\n 14  Humidity3pm    140953 non-null  float64\n 15  Pressure9am    130395 non-null  float64\n 16  Pressure3pm    130432 non-null  float64\n 17  Cloud9am       89572 non-null   float64\n 18  Cloud3pm       86102 non-null   float64\n 19  Temp9am        143693 non-null  float64\n 20  Temp3pm        141851 non-null  float64\n 21  RainToday      142199 non-null  object \n 22  RainTomorrow   142193 non-null  object \ndtypes: float64(16), object(7)\nmemory usage: 25.5+ MB\n",
     "output_type": "stream"
    }
   ]
  },
  {
   "cell_type": "markdown",
   "source": "Información importante con respecto al dataset: \n- Hay valores que faltan en el conjunto de datos\n- El conjunto de datos incluye valores numéricos y categóricos (float64 y object)",
   "metadata": {
    "cell_id": "9a02eb2bacd6470d876e4af4e97d4246",
    "tags": [],
    "is_collapsed": false,
    "deepnote_cell_type": "text-cell-p"
   }
  },
  {
   "cell_type": "code",
   "metadata": {
    "cell_id": "590e83a9913b4b579518f8f3d97692b3",
    "tags": [],
    "deepnote_to_be_reexecuted": false,
    "source_hash": "bd83d52b",
    "execution_start": 1649251108615,
    "execution_millis": 194,
    "deepnote_cell_type": "code",
    "deepnote_cell_height": 578.65625
   },
   "source": "#Observar las propiedades estadisticas de las variables numericas del dataset\nrain.describe()\n",
   "execution_count": 7,
   "outputs": [
    {
     "output_type": "execute_result",
     "execution_count": 7,
     "data": {
      "application/vnd.deepnote.dataframe.v3+json": {
       "column_count": 16,
       "row_count": 8,
       "columns": [
        {
         "name": "MinTemp",
         "dtype": "float64",
         "stats": {
          "unique_count": 8,
          "nan_count": 0,
          "min": "-8.5",
          "max": "143975.0",
          "histogram": [
           {
            "bin_start": -8.5,
            "bin_end": 14389.85,
            "count": 7
           },
           {
            "bin_start": 14389.85,
            "bin_end": 28788.2,
            "count": 0
           },
           {
            "bin_start": 28788.2,
            "bin_end": 43186.55,
            "count": 0
           },
           {
            "bin_start": 43186.55,
            "bin_end": 57584.9,
            "count": 0
           },
           {
            "bin_start": 57584.9,
            "bin_end": 71983.25,
            "count": 0
           },
           {
            "bin_start": 71983.25,
            "bin_end": 86381.6,
            "count": 0
           },
           {
            "bin_start": 86381.6,
            "bin_end": 100779.95,
            "count": 0
           },
           {
            "bin_start": 100779.95,
            "bin_end": 115178.3,
            "count": 0
           },
           {
            "bin_start": 115178.3,
            "bin_end": 129576.65000000001,
            "count": 0
           },
           {
            "bin_start": 129576.65000000001,
            "bin_end": 143975,
            "count": 1
           }
          ]
         }
        },
        {
         "name": "MaxTemp",
         "dtype": "float64",
         "stats": {
          "unique_count": 8,
          "nan_count": 0,
          "min": "-4.8",
          "max": "144199.0",
          "histogram": [
           {
            "bin_start": -4.8,
            "bin_end": 14415.58,
            "count": 7
           },
           {
            "bin_start": 14415.58,
            "bin_end": 28835.96,
            "count": 0
           },
           {
            "bin_start": 28835.96,
            "bin_end": 43256.34,
            "count": 0
           },
           {
            "bin_start": 43256.34,
            "bin_end": 57676.719999999994,
            "count": 0
           },
           {
            "bin_start": 57676.719999999994,
            "bin_end": 72097.09999999999,
            "count": 0
           },
           {
            "bin_start": 72097.09999999999,
            "bin_end": 86517.48,
            "count": 0
           },
           {
            "bin_start": 86517.48,
            "bin_end": 100937.85999999999,
            "count": 0
           },
           {
            "bin_start": 100937.85999999999,
            "bin_end": 115358.23999999999,
            "count": 0
           },
           {
            "bin_start": 115358.23999999999,
            "bin_end": 129778.62,
            "count": 0
           },
           {
            "bin_start": 129778.62,
            "bin_end": 144199,
            "count": 1
           }
          ]
         }
        },
        {
         "name": "Rainfall",
         "dtype": "float64",
         "stats": {
          "unique_count": 6,
          "nan_count": 0,
          "min": "0.0",
          "max": "142199.0",
          "histogram": [
           {
            "bin_start": 0,
            "bin_end": 14219.9,
            "count": 7
           },
           {
            "bin_start": 14219.9,
            "bin_end": 28439.8,
            "count": 0
           },
           {
            "bin_start": 28439.8,
            "bin_end": 42659.7,
            "count": 0
           },
           {
            "bin_start": 42659.7,
            "bin_end": 56879.6,
            "count": 0
           },
           {
            "bin_start": 56879.6,
            "bin_end": 71099.5,
            "count": 0
           },
           {
            "bin_start": 71099.5,
            "bin_end": 85319.4,
            "count": 0
           },
           {
            "bin_start": 85319.4,
            "bin_end": 99539.3,
            "count": 0
           },
           {
            "bin_start": 99539.3,
            "bin_end": 113759.2,
            "count": 0
           },
           {
            "bin_start": 113759.2,
            "bin_end": 127979.09999999999,
            "count": 0
           },
           {
            "bin_start": 127979.09999999999,
            "bin_end": 142199,
            "count": 1
           }
          ]
         }
        },
        {
         "name": "Evaporation",
         "dtype": "float64",
         "stats": {
          "unique_count": 8,
          "nan_count": 0,
          "min": "0.0",
          "max": "82670.0",
          "histogram": [
           {
            "bin_start": 0,
            "bin_end": 8267,
            "count": 7
           },
           {
            "bin_start": 8267,
            "bin_end": 16534,
            "count": 0
           },
           {
            "bin_start": 16534,
            "bin_end": 24801,
            "count": 0
           },
           {
            "bin_start": 24801,
            "bin_end": 33068,
            "count": 0
           },
           {
            "bin_start": 33068,
            "bin_end": 41335,
            "count": 0
           },
           {
            "bin_start": 41335,
            "bin_end": 49602,
            "count": 0
           },
           {
            "bin_start": 49602,
            "bin_end": 57869,
            "count": 0
           },
           {
            "bin_start": 57869,
            "bin_end": 66136,
            "count": 0
           },
           {
            "bin_start": 66136,
            "bin_end": 74403,
            "count": 0
           },
           {
            "bin_start": 74403,
            "bin_end": 82670,
            "count": 1
           }
          ]
         }
        },
        {
         "name": "Sunshine",
         "dtype": "float64",
         "stats": {
          "unique_count": 8,
          "nan_count": 0,
          "min": "0.0",
          "max": "75625.0",
          "histogram": [
           {
            "bin_start": 0,
            "bin_end": 7562.5,
            "count": 7
           },
           {
            "bin_start": 7562.5,
            "bin_end": 15125,
            "count": 0
           },
           {
            "bin_start": 15125,
            "bin_end": 22687.5,
            "count": 0
           },
           {
            "bin_start": 22687.5,
            "bin_end": 30250,
            "count": 0
           },
           {
            "bin_start": 30250,
            "bin_end": 37812.5,
            "count": 0
           },
           {
            "bin_start": 37812.5,
            "bin_end": 45375,
            "count": 0
           },
           {
            "bin_start": 45375,
            "bin_end": 52937.5,
            "count": 0
           },
           {
            "bin_start": 52937.5,
            "bin_end": 60500,
            "count": 0
           },
           {
            "bin_start": 60500,
            "bin_end": 68062.5,
            "count": 0
           },
           {
            "bin_start": 68062.5,
            "bin_end": 75625,
            "count": 1
           }
          ]
         }
        },
        {
         "name": "WindGustSpeed",
         "dtype": "float64",
         "stats": {
          "unique_count": 8,
          "nan_count": 0,
          "min": "6.0",
          "max": "135197.0",
          "histogram": [
           {
            "bin_start": 6,
            "bin_end": 13525.1,
            "count": 7
           },
           {
            "bin_start": 13525.1,
            "bin_end": 27044.2,
            "count": 0
           },
           {
            "bin_start": 27044.2,
            "bin_end": 40563.3,
            "count": 0
           },
           {
            "bin_start": 40563.3,
            "bin_end": 54082.4,
            "count": 0
           },
           {
            "bin_start": 54082.4,
            "bin_end": 67601.5,
            "count": 0
           },
           {
            "bin_start": 67601.5,
            "bin_end": 81120.6,
            "count": 0
           },
           {
            "bin_start": 81120.6,
            "bin_end": 94639.7,
            "count": 0
           },
           {
            "bin_start": 94639.7,
            "bin_end": 108158.8,
            "count": 0
           },
           {
            "bin_start": 108158.8,
            "bin_end": 121677.90000000001,
            "count": 0
           },
           {
            "bin_start": 121677.90000000001,
            "bin_end": 135197,
            "count": 1
           }
          ]
         }
        },
        {
         "name": "WindSpeed9am",
         "dtype": "float64",
         "stats": {
          "unique_count": 8,
          "nan_count": 0,
          "min": "0.0",
          "max": "143693.0",
          "histogram": [
           {
            "bin_start": 0,
            "bin_end": 14369.3,
            "count": 7
           },
           {
            "bin_start": 14369.3,
            "bin_end": 28738.6,
            "count": 0
           },
           {
            "bin_start": 28738.6,
            "bin_end": 43107.899999999994,
            "count": 0
           },
           {
            "bin_start": 43107.899999999994,
            "bin_end": 57477.2,
            "count": 0
           },
           {
            "bin_start": 57477.2,
            "bin_end": 71846.5,
            "count": 0
           },
           {
            "bin_start": 71846.5,
            "bin_end": 86215.79999999999,
            "count": 0
           },
           {
            "bin_start": 86215.79999999999,
            "bin_end": 100585.09999999999,
            "count": 0
           },
           {
            "bin_start": 100585.09999999999,
            "bin_end": 114954.4,
            "count": 0
           },
           {
            "bin_start": 114954.4,
            "bin_end": 129323.7,
            "count": 0
           },
           {
            "bin_start": 129323.7,
            "bin_end": 143693,
            "count": 1
           }
          ]
         }
        },
        {
         "name": "WindSpeed3pm",
         "dtype": "float64",
         "stats": {
          "unique_count": 8,
          "nan_count": 0,
          "min": "0.0",
          "max": "142398.0",
          "histogram": [
           {
            "bin_start": 0,
            "bin_end": 14239.8,
            "count": 7
           },
           {
            "bin_start": 14239.8,
            "bin_end": 28479.6,
            "count": 0
           },
           {
            "bin_start": 28479.6,
            "bin_end": 42719.399999999994,
            "count": 0
           },
           {
            "bin_start": 42719.399999999994,
            "bin_end": 56959.2,
            "count": 0
           },
           {
            "bin_start": 56959.2,
            "bin_end": 71199,
            "count": 0
           },
           {
            "bin_start": 71199,
            "bin_end": 85438.79999999999,
            "count": 0
           },
           {
            "bin_start": 85438.79999999999,
            "bin_end": 99678.59999999999,
            "count": 0
           },
           {
            "bin_start": 99678.59999999999,
            "bin_end": 113918.4,
            "count": 0
           },
           {
            "bin_start": 113918.4,
            "bin_end": 128158.2,
            "count": 0
           },
           {
            "bin_start": 128158.2,
            "bin_end": 142398,
            "count": 1
           }
          ]
         }
        },
        {
         "name": "Humidity9am",
         "dtype": "float64",
         "stats": {
          "unique_count": 8,
          "nan_count": 0,
          "min": "0.0",
          "max": "142806.0",
          "histogram": [
           {
            "bin_start": 0,
            "bin_end": 14280.6,
            "count": 7
           },
           {
            "bin_start": 14280.6,
            "bin_end": 28561.2,
            "count": 0
           },
           {
            "bin_start": 28561.2,
            "bin_end": 42841.8,
            "count": 0
           },
           {
            "bin_start": 42841.8,
            "bin_end": 57122.4,
            "count": 0
           },
           {
            "bin_start": 57122.4,
            "bin_end": 71403,
            "count": 0
           },
           {
            "bin_start": 71403,
            "bin_end": 85683.6,
            "count": 0
           },
           {
            "bin_start": 85683.6,
            "bin_end": 99964.2,
            "count": 0
           },
           {
            "bin_start": 99964.2,
            "bin_end": 114244.8,
            "count": 0
           },
           {
            "bin_start": 114244.8,
            "bin_end": 128525.40000000001,
            "count": 0
           },
           {
            "bin_start": 128525.40000000001,
            "bin_end": 142806,
            "count": 1
           }
          ]
         }
        },
        {
         "name": "Humidity3pm",
         "dtype": "float64",
         "stats": {
          "unique_count": 8,
          "nan_count": 0,
          "min": "0.0",
          "max": "140953.0",
          "histogram": [
           {
            "bin_start": 0,
            "bin_end": 14095.3,
            "count": 7
           },
           {
            "bin_start": 14095.3,
            "bin_end": 28190.6,
            "count": 0
           },
           {
            "bin_start": 28190.6,
            "bin_end": 42285.899999999994,
            "count": 0
           },
           {
            "bin_start": 42285.899999999994,
            "bin_end": 56381.2,
            "count": 0
           },
           {
            "bin_start": 56381.2,
            "bin_end": 70476.5,
            "count": 0
           },
           {
            "bin_start": 70476.5,
            "bin_end": 84571.79999999999,
            "count": 0
           },
           {
            "bin_start": 84571.79999999999,
            "bin_end": 98667.09999999999,
            "count": 0
           },
           {
            "bin_start": 98667.09999999999,
            "bin_end": 112762.4,
            "count": 0
           },
           {
            "bin_start": 112762.4,
            "bin_end": 126857.7,
            "count": 0
           },
           {
            "bin_start": 126857.7,
            "bin_end": 140953,
            "count": 1
           }
          ]
         }
        },
        {
         "name": "Pressure9am",
         "dtype": "float64",
         "stats": {
          "unique_count": 8,
          "nan_count": 0,
          "min": "7.106530287523087",
          "max": "130395.0",
          "histogram": [
           {
            "bin_start": 7.106530287523087,
            "bin_end": 13045.89587725877,
            "count": 7
           },
           {
            "bin_start": 13045.89587725877,
            "bin_end": 26084.685224230016,
            "count": 0
           },
           {
            "bin_start": 26084.685224230016,
            "bin_end": 39123.47457120127,
            "count": 0
           },
           {
            "bin_start": 39123.47457120127,
            "bin_end": 52162.26391817251,
            "count": 0
           },
           {
            "bin_start": 52162.26391817251,
            "bin_end": 65201.05326514375,
            "count": 0
           },
           {
            "bin_start": 65201.05326514375,
            "bin_end": 78239.84261211501,
            "count": 0
           },
           {
            "bin_start": 78239.84261211501,
            "bin_end": 91278.63195908625,
            "count": 0
           },
           {
            "bin_start": 91278.63195908625,
            "bin_end": 104317.4213060575,
            "count": 0
           },
           {
            "bin_start": 104317.4213060575,
            "bin_end": 117356.21065302874,
            "count": 0
           },
           {
            "bin_start": 117356.21065302874,
            "bin_end": 130395,
            "count": 1
           }
          ]
         }
        },
        {
         "name": "Pressure3pm",
         "dtype": "float64",
         "stats": {
          "unique_count": 8,
          "nan_count": 0,
          "min": "7.037413808167775",
          "max": "130432.0",
          "histogram": [
           {
            "bin_start": 7.037413808167775,
            "bin_end": 13049.533672427351,
            "count": 7
           },
           {
            "bin_start": 13049.533672427351,
            "bin_end": 26092.029931046534,
            "count": 0
           },
           {
            "bin_start": 26092.029931046534,
            "bin_end": 39134.52618966572,
            "count": 0
           },
           {
            "bin_start": 39134.52618966572,
            "bin_end": 52177.0224482849,
            "count": 0
           },
           {
            "bin_start": 52177.0224482849,
            "bin_end": 65219.518706904084,
            "count": 0
           },
           {
            "bin_start": 65219.518706904084,
            "bin_end": 78262.01496552327,
            "count": 0
           },
           {
            "bin_start": 78262.01496552327,
            "bin_end": 91304.51122414245,
            "count": 0
           },
           {
            "bin_start": 91304.51122414245,
            "bin_end": 104347.00748276163,
            "count": 0
           },
           {
            "bin_start": 104347.00748276163,
            "bin_end": 117389.50374138082,
            "count": 0
           },
           {
            "bin_start": 117389.50374138082,
            "bin_end": 130432,
            "count": 1
           }
          ]
         }
        },
        {
         "name": "Cloud9am",
         "dtype": "float64",
         "stats": {
          "unique_count": 8,
          "nan_count": 0,
          "min": "0.0",
          "max": "89572.0",
          "histogram": [
           {
            "bin_start": 0,
            "bin_end": 8957.2,
            "count": 7
           },
           {
            "bin_start": 8957.2,
            "bin_end": 17914.4,
            "count": 0
           },
           {
            "bin_start": 17914.4,
            "bin_end": 26871.600000000002,
            "count": 0
           },
           {
            "bin_start": 26871.600000000002,
            "bin_end": 35828.8,
            "count": 0
           },
           {
            "bin_start": 35828.8,
            "bin_end": 44786,
            "count": 0
           },
           {
            "bin_start": 44786,
            "bin_end": 53743.200000000004,
            "count": 0
           },
           {
            "bin_start": 53743.200000000004,
            "bin_end": 62700.40000000001,
            "count": 0
           },
           {
            "bin_start": 62700.40000000001,
            "bin_end": 71657.6,
            "count": 0
           },
           {
            "bin_start": 71657.6,
            "bin_end": 80614.8,
            "count": 0
           },
           {
            "bin_start": 80614.8,
            "bin_end": 89572,
            "count": 1
           }
          ]
         }
        },
        {
         "name": "Cloud3pm",
         "dtype": "float64",
         "stats": {
          "unique_count": 8,
          "nan_count": 0,
          "min": "0.0",
          "max": "86102.0",
          "histogram": [
           {
            "bin_start": 0,
            "bin_end": 8610.2,
            "count": 7
           },
           {
            "bin_start": 8610.2,
            "bin_end": 17220.4,
            "count": 0
           },
           {
            "bin_start": 17220.4,
            "bin_end": 25830.600000000002,
            "count": 0
           },
           {
            "bin_start": 25830.600000000002,
            "bin_end": 34440.8,
            "count": 0
           },
           {
            "bin_start": 34440.8,
            "bin_end": 43051,
            "count": 0
           },
           {
            "bin_start": 43051,
            "bin_end": 51661.200000000004,
            "count": 0
           },
           {
            "bin_start": 51661.200000000004,
            "bin_end": 60271.40000000001,
            "count": 0
           },
           {
            "bin_start": 60271.40000000001,
            "bin_end": 68881.6,
            "count": 0
           },
           {
            "bin_start": 68881.6,
            "bin_end": 77491.8,
            "count": 0
           },
           {
            "bin_start": 77491.8,
            "bin_end": 86102,
            "count": 1
           }
          ]
         }
        },
        {
         "name": "Temp9am",
         "dtype": "float64",
         "stats": {
          "unique_count": 8,
          "nan_count": 0,
          "min": "-7.2",
          "max": "143693.0",
          "histogram": [
           {
            "bin_start": -7.2,
            "bin_end": 14362.82,
            "count": 7
           },
           {
            "bin_start": 14362.82,
            "bin_end": 28732.84,
            "count": 0
           },
           {
            "bin_start": 28732.84,
            "bin_end": 43102.86,
            "count": 0
           },
           {
            "bin_start": 43102.86,
            "bin_end": 57472.880000000005,
            "count": 0
           },
           {
            "bin_start": 57472.880000000005,
            "bin_end": 71842.90000000001,
            "count": 0
           },
           {
            "bin_start": 71842.90000000001,
            "bin_end": 86212.92,
            "count": 0
           },
           {
            "bin_start": 86212.92,
            "bin_end": 100582.94,
            "count": 0
           },
           {
            "bin_start": 100582.94,
            "bin_end": 114952.96,
            "count": 0
           },
           {
            "bin_start": 114952.96,
            "bin_end": 129322.98000000001,
            "count": 0
           },
           {
            "bin_start": 129322.98000000001,
            "bin_end": 143693,
            "count": 1
           }
          ]
         }
        },
        {
         "name": "Temp3pm",
         "dtype": "float64",
         "stats": {
          "unique_count": 8,
          "nan_count": 0,
          "min": "-5.4",
          "max": "141851.0",
          "histogram": [
           {
            "bin_start": -5.4,
            "bin_end": 14180.24,
            "count": 7
           },
           {
            "bin_start": 14180.24,
            "bin_end": 28365.879999999997,
            "count": 0
           },
           {
            "bin_start": 28365.879999999997,
            "bin_end": 42551.52,
            "count": 0
           },
           {
            "bin_start": 42551.52,
            "bin_end": 56737.159999999996,
            "count": 0
           },
           {
            "bin_start": 56737.159999999996,
            "bin_end": 70922.8,
            "count": 0
           },
           {
            "bin_start": 70922.8,
            "bin_end": 85108.44,
            "count": 0
           },
           {
            "bin_start": 85108.44,
            "bin_end": 99294.08,
            "count": 0
           },
           {
            "bin_start": 99294.08,
            "bin_end": 113479.72,
            "count": 0
           },
           {
            "bin_start": 113479.72,
            "bin_end": 127665.36,
            "count": 0
           },
           {
            "bin_start": 127665.36,
            "bin_end": 141851,
            "count": 1
           }
          ]
         }
        },
        {
         "name": "_deepnote_index_column",
         "dtype": "object"
        }
       ],
       "rows": [
        {
         "MinTemp": 143975,
         "MaxTemp": 144199,
         "Rainfall": 142199,
         "Evaporation": 82670,
         "Sunshine": 75625,
         "WindGustSpeed": 135197,
         "WindSpeed9am": 143693,
         "WindSpeed3pm": 142398,
         "Humidity9am": 142806,
         "Humidity3pm": 140953,
         "Pressure9am": 130395,
         "Pressure3pm": 130432,
         "Cloud9am": 89572,
         "Cloud3pm": 86102,
         "Temp9am": 143693,
         "Temp3pm": 141851,
         "_deepnote_index_column": "count"
        },
        {
         "MinTemp": 12.19403438096892,
         "MaxTemp": 23.22134827564685,
         "Rainfall": 2.3609181499166656,
         "Evaporation": 5.468231522922462,
         "Sunshine": 7.6111775206611565,
         "WindGustSpeed": 40.03523007167319,
         "WindSpeed9am": 14.043425914971502,
         "WindSpeed3pm": 18.662656778887342,
         "Humidity9am": 68.88083133761887,
         "Humidity3pm": 51.5391158755046,
         "Pressure9am": 1017.6499397983052,
         "Pressure3pm": 1015.2558888309618,
         "Cloud9am": 4.4474612602152455,
         "Cloud3pm": 4.509930082924903,
         "Temp9am": 16.990631415587398,
         "Temp3pm": 21.68339031800974,
         "_deepnote_index_column": "mean"
        },
        {
         "MinTemp": 6.398494975663227,
         "MaxTemp": 7.119048845979134,
         "Rainfall": 8.478059737726372,
         "Evaporation": 4.1937040941517845,
         "Sunshine": 3.7854829647401664,
         "WindGustSpeed": 13.607062267381362,
         "WindSpeed9am": 8.915375322679528,
         "WindSpeed3pm": 8.809800021251492,
         "Humidity9am": 19.02916445184414,
         "Humidity3pm": 20.795901656021154,
         "Pressure9am": 7.106530287523087,
         "Pressure3pm": 7.037413808167775,
         "Cloud9am": 2.887158853517239,
         "Cloud3pm": 2.7203573103324588,
         "Temp9am": 6.488753140877267,
         "Temp3pm": 6.936650460035525,
         "_deepnote_index_column": "std"
        },
        {
         "MinTemp": -8.5,
         "MaxTemp": -4.8,
         "Rainfall": 0,
         "Evaporation": 0,
         "Sunshine": 0,
         "WindGustSpeed": 6,
         "WindSpeed9am": 0,
         "WindSpeed3pm": 0,
         "Humidity9am": 0,
         "Humidity3pm": 0,
         "Pressure9am": 980.5,
         "Pressure3pm": 977.1,
         "Cloud9am": 0,
         "Cloud3pm": 0,
         "Temp9am": -7.2,
         "Temp3pm": -5.4,
         "_deepnote_index_column": "min"
        },
        {
         "MinTemp": 7.6,
         "MaxTemp": 17.9,
         "Rainfall": 0,
         "Evaporation": 2.6,
         "Sunshine": 4.8,
         "WindGustSpeed": 31,
         "WindSpeed9am": 7,
         "WindSpeed3pm": 13,
         "Humidity9am": 57,
         "Humidity3pm": 37,
         "Pressure9am": 1012.9,
         "Pressure3pm": 1010.4,
         "Cloud9am": 1,
         "Cloud3pm": 2,
         "Temp9am": 12.3,
         "Temp3pm": 16.6,
         "_deepnote_index_column": "25%"
        },
        {
         "MinTemp": 12,
         "MaxTemp": 22.6,
         "Rainfall": 0,
         "Evaporation": 4.8,
         "Sunshine": 8.4,
         "WindGustSpeed": 39,
         "WindSpeed9am": 13,
         "WindSpeed3pm": 19,
         "Humidity9am": 70,
         "Humidity3pm": 52,
         "Pressure9am": 1017.6,
         "Pressure3pm": 1015.2,
         "Cloud9am": 5,
         "Cloud3pm": 5,
         "Temp9am": 16.7,
         "Temp3pm": 21.1,
         "_deepnote_index_column": "50%"
        },
        {
         "MinTemp": 16.9,
         "MaxTemp": 28.2,
         "Rainfall": 0.8,
         "Evaporation": 7.4,
         "Sunshine": 10.6,
         "WindGustSpeed": 48,
         "WindSpeed9am": 19,
         "WindSpeed3pm": 24,
         "Humidity9am": 83,
         "Humidity3pm": 66,
         "Pressure9am": 1022.4,
         "Pressure3pm": 1020,
         "Cloud9am": 7,
         "Cloud3pm": 7,
         "Temp9am": 21.6,
         "Temp3pm": 26.4,
         "_deepnote_index_column": "75%"
        },
        {
         "MinTemp": 33.9,
         "MaxTemp": 48.1,
         "Rainfall": 371,
         "Evaporation": 145,
         "Sunshine": 14.5,
         "WindGustSpeed": 135,
         "WindSpeed9am": 130,
         "WindSpeed3pm": 87,
         "Humidity9am": 100,
         "Humidity3pm": 100,
         "Pressure9am": 1041,
         "Pressure3pm": 1039.6,
         "Cloud9am": 9,
         "Cloud3pm": 9,
         "Temp9am": 40.2,
         "Temp3pm": 46.7,
         "_deepnote_index_column": "max"
        }
       ]
      },
      "text/plain": "             MinTemp        MaxTemp       Rainfall   Evaporation  \\\ncount  143975.000000  144199.000000  142199.000000  82670.000000   \nmean       12.194034      23.221348       2.360918      5.468232   \nstd         6.398495       7.119049       8.478060      4.193704   \nmin        -8.500000      -4.800000       0.000000      0.000000   \n25%         7.600000      17.900000       0.000000      2.600000   \n50%        12.000000      22.600000       0.000000      4.800000   \n75%        16.900000      28.200000       0.800000      7.400000   \nmax        33.900000      48.100000     371.000000    145.000000   \n\n           Sunshine  WindGustSpeed   WindSpeed9am   WindSpeed3pm  \\\ncount  75625.000000  135197.000000  143693.000000  142398.000000   \nmean       7.611178      40.035230      14.043426      18.662657   \nstd        3.785483      13.607062       8.915375       8.809800   \nmin        0.000000       6.000000       0.000000       0.000000   \n25%        4.800000      31.000000       7.000000      13.000000   \n50%        8.400000      39.000000      13.000000      19.000000   \n75%       10.600000      48.000000      19.000000      24.000000   \nmax       14.500000     135.000000     130.000000      87.000000   \n\n         Humidity9am    Humidity3pm   Pressure9am    Pressure3pm  \\\ncount  142806.000000  140953.000000  130395.00000  130432.000000   \nmean       68.880831      51.539116    1017.64994    1015.255889   \nstd        19.029164      20.795902       7.10653       7.037414   \nmin         0.000000       0.000000     980.50000     977.100000   \n25%        57.000000      37.000000    1012.90000    1010.400000   \n50%        70.000000      52.000000    1017.60000    1015.200000   \n75%        83.000000      66.000000    1022.40000    1020.000000   \nmax       100.000000     100.000000    1041.00000    1039.600000   \n\n           Cloud9am      Cloud3pm        Temp9am       Temp3pm  \ncount  89572.000000  86102.000000  143693.000000  141851.00000  \nmean       4.447461      4.509930      16.990631      21.68339  \nstd        2.887159      2.720357       6.488753       6.93665  \nmin        0.000000      0.000000      -7.200000      -5.40000  \n25%        1.000000      2.000000      12.300000      16.60000  \n50%        5.000000      5.000000      16.700000      21.10000  \n75%        7.000000      7.000000      21.600000      26.40000  \nmax        9.000000      9.000000      40.200000      46.70000  ",
      "text/html": "<div>\n<style scoped>\n    .dataframe tbody tr th:only-of-type {\n        vertical-align: middle;\n    }\n\n    .dataframe tbody tr th {\n        vertical-align: top;\n    }\n\n    .dataframe thead th {\n        text-align: right;\n    }\n</style>\n<table border=\"1\" class=\"dataframe\">\n  <thead>\n    <tr style=\"text-align: right;\">\n      <th></th>\n      <th>MinTemp</th>\n      <th>MaxTemp</th>\n      <th>Rainfall</th>\n      <th>Evaporation</th>\n      <th>Sunshine</th>\n      <th>WindGustSpeed</th>\n      <th>WindSpeed9am</th>\n      <th>WindSpeed3pm</th>\n      <th>Humidity9am</th>\n      <th>Humidity3pm</th>\n      <th>Pressure9am</th>\n      <th>Pressure3pm</th>\n      <th>Cloud9am</th>\n      <th>Cloud3pm</th>\n      <th>Temp9am</th>\n      <th>Temp3pm</th>\n    </tr>\n  </thead>\n  <tbody>\n    <tr>\n      <th>count</th>\n      <td>143975.000000</td>\n      <td>144199.000000</td>\n      <td>142199.000000</td>\n      <td>82670.000000</td>\n      <td>75625.000000</td>\n      <td>135197.000000</td>\n      <td>143693.000000</td>\n      <td>142398.000000</td>\n      <td>142806.000000</td>\n      <td>140953.000000</td>\n      <td>130395.00000</td>\n      <td>130432.000000</td>\n      <td>89572.000000</td>\n      <td>86102.000000</td>\n      <td>143693.000000</td>\n      <td>141851.00000</td>\n    </tr>\n    <tr>\n      <th>mean</th>\n      <td>12.194034</td>\n      <td>23.221348</td>\n      <td>2.360918</td>\n      <td>5.468232</td>\n      <td>7.611178</td>\n      <td>40.035230</td>\n      <td>14.043426</td>\n      <td>18.662657</td>\n      <td>68.880831</td>\n      <td>51.539116</td>\n      <td>1017.64994</td>\n      <td>1015.255889</td>\n      <td>4.447461</td>\n      <td>4.509930</td>\n      <td>16.990631</td>\n      <td>21.68339</td>\n    </tr>\n    <tr>\n      <th>std</th>\n      <td>6.398495</td>\n      <td>7.119049</td>\n      <td>8.478060</td>\n      <td>4.193704</td>\n      <td>3.785483</td>\n      <td>13.607062</td>\n      <td>8.915375</td>\n      <td>8.809800</td>\n      <td>19.029164</td>\n      <td>20.795902</td>\n      <td>7.10653</td>\n      <td>7.037414</td>\n      <td>2.887159</td>\n      <td>2.720357</td>\n      <td>6.488753</td>\n      <td>6.93665</td>\n    </tr>\n    <tr>\n      <th>min</th>\n      <td>-8.500000</td>\n      <td>-4.800000</td>\n      <td>0.000000</td>\n      <td>0.000000</td>\n      <td>0.000000</td>\n      <td>6.000000</td>\n      <td>0.000000</td>\n      <td>0.000000</td>\n      <td>0.000000</td>\n      <td>0.000000</td>\n      <td>980.50000</td>\n      <td>977.100000</td>\n      <td>0.000000</td>\n      <td>0.000000</td>\n      <td>-7.200000</td>\n      <td>-5.40000</td>\n    </tr>\n    <tr>\n      <th>25%</th>\n      <td>7.600000</td>\n      <td>17.900000</td>\n      <td>0.000000</td>\n      <td>2.600000</td>\n      <td>4.800000</td>\n      <td>31.000000</td>\n      <td>7.000000</td>\n      <td>13.000000</td>\n      <td>57.000000</td>\n      <td>37.000000</td>\n      <td>1012.90000</td>\n      <td>1010.400000</td>\n      <td>1.000000</td>\n      <td>2.000000</td>\n      <td>12.300000</td>\n      <td>16.60000</td>\n    </tr>\n    <tr>\n      <th>50%</th>\n      <td>12.000000</td>\n      <td>22.600000</td>\n      <td>0.000000</td>\n      <td>4.800000</td>\n      <td>8.400000</td>\n      <td>39.000000</td>\n      <td>13.000000</td>\n      <td>19.000000</td>\n      <td>70.000000</td>\n      <td>52.000000</td>\n      <td>1017.60000</td>\n      <td>1015.200000</td>\n      <td>5.000000</td>\n      <td>5.000000</td>\n      <td>16.700000</td>\n      <td>21.10000</td>\n    </tr>\n    <tr>\n      <th>75%</th>\n      <td>16.900000</td>\n      <td>28.200000</td>\n      <td>0.800000</td>\n      <td>7.400000</td>\n      <td>10.600000</td>\n      <td>48.000000</td>\n      <td>19.000000</td>\n      <td>24.000000</td>\n      <td>83.000000</td>\n      <td>66.000000</td>\n      <td>1022.40000</td>\n      <td>1020.000000</td>\n      <td>7.000000</td>\n      <td>7.000000</td>\n      <td>21.600000</td>\n      <td>26.40000</td>\n    </tr>\n    <tr>\n      <th>max</th>\n      <td>33.900000</td>\n      <td>48.100000</td>\n      <td>371.000000</td>\n      <td>145.000000</td>\n      <td>14.500000</td>\n      <td>135.000000</td>\n      <td>130.000000</td>\n      <td>87.000000</td>\n      <td>100.000000</td>\n      <td>100.000000</td>\n      <td>1041.00000</td>\n      <td>1039.600000</td>\n      <td>9.000000</td>\n      <td>9.000000</td>\n      <td>40.200000</td>\n      <td>46.70000</td>\n    </tr>\n  </tbody>\n</table>\n</div>"
     },
     "metadata": {}
    }
   ]
  },
  {
   "cell_type": "code",
   "metadata": {
    "cell_id": "87bc2b0827204bdd8c8e8b43483c3160",
    "tags": [],
    "deepnote_to_be_reexecuted": false,
    "source_hash": "6fb0562a",
    "execution_start": 1649251108862,
    "execution_millis": 131,
    "deepnote_cell_type": "code",
    "deepnote_cell_height": 119.1875,
    "deepnote_output_heights": [
     21.1875
    ]
   },
   "source": "rain.describe().shape",
   "execution_count": 8,
   "outputs": [
    {
     "output_type": "execute_result",
     "execution_count": 8,
     "data": {
      "text/plain": "(8, 16)"
     },
     "metadata": {}
    }
   ]
  },
  {
   "cell_type": "code",
   "metadata": {
    "cell_id": "4f52d6bebd2042cba11a6255237e6ec2",
    "tags": [],
    "deepnote_to_be_reexecuted": false,
    "source_hash": "15bf7be5",
    "execution_start": 1649251108991,
    "execution_millis": 242,
    "deepnote_cell_type": "code",
    "deepnote_cell_height": 373.65625
   },
   "source": "#Observar las propiedades estadisticas de las variables categoricas del dataset\nrain.describe(include=['object'])",
   "execution_count": 9,
   "outputs": [
    {
     "output_type": "execute_result",
     "execution_count": 9,
     "data": {
      "application/vnd.deepnote.dataframe.v3+json": {
       "column_count": 7,
       "row_count": 4,
       "columns": [
        {
         "name": "Date",
         "dtype": "object",
         "stats": {
          "unique_count": 4,
          "nan_count": 0,
          "categories": [
           {
            "name": "145460",
            "count": 1
           },
           {
            "name": "3436",
            "count": 1
           },
           {
            "name": "2 others",
            "count": 2
           }
          ]
         }
        },
        {
         "name": "Location",
         "dtype": "object",
         "stats": {
          "unique_count": 4,
          "nan_count": 0,
          "categories": [
           {
            "name": "145460",
            "count": 1
           },
           {
            "name": "49",
            "count": 1
           },
           {
            "name": "2 others",
            "count": 2
           }
          ]
         }
        },
        {
         "name": "WindGustDir",
         "dtype": "object",
         "stats": {
          "unique_count": 4,
          "nan_count": 0,
          "categories": [
           {
            "name": "135134",
            "count": 1
           },
           {
            "name": "16",
            "count": 1
           },
           {
            "name": "2 others",
            "count": 2
           }
          ]
         }
        },
        {
         "name": "WindDir9am",
         "dtype": "object",
         "stats": {
          "unique_count": 4,
          "nan_count": 0,
          "categories": [
           {
            "name": "134894",
            "count": 1
           },
           {
            "name": "16",
            "count": 1
           },
           {
            "name": "2 others",
            "count": 2
           }
          ]
         }
        },
        {
         "name": "WindDir3pm",
         "dtype": "object",
         "stats": {
          "unique_count": 4,
          "nan_count": 0,
          "categories": [
           {
            "name": "141232",
            "count": 1
           },
           {
            "name": "16",
            "count": 1
           },
           {
            "name": "2 others",
            "count": 2
           }
          ]
         }
        },
        {
         "name": "RainToday",
         "dtype": "object",
         "stats": {
          "unique_count": 4,
          "nan_count": 0,
          "categories": [
           {
            "name": "142199",
            "count": 1
           },
           {
            "name": "2",
            "count": 1
           },
           {
            "name": "2 others",
            "count": 2
           }
          ]
         }
        },
        {
         "name": "RainTomorrow",
         "dtype": "object",
         "stats": {
          "unique_count": 4,
          "nan_count": 0,
          "categories": [
           {
            "name": "142193",
            "count": 1
           },
           {
            "name": "2",
            "count": 1
           },
           {
            "name": "2 others",
            "count": 2
           }
          ]
         }
        },
        {
         "name": "_deepnote_index_column",
         "dtype": "object"
        }
       ],
       "rows": [
        {
         "Date": "145460",
         "Location": "145460",
         "WindGustDir": "135134",
         "WindDir9am": "134894",
         "WindDir3pm": "141232",
         "RainToday": "142199",
         "RainTomorrow": "142193",
         "_deepnote_index_column": "count"
        },
        {
         "Date": "3436",
         "Location": "49",
         "WindGustDir": "16",
         "WindDir9am": "16",
         "WindDir3pm": "16",
         "RainToday": "2",
         "RainTomorrow": "2",
         "_deepnote_index_column": "unique"
        },
        {
         "Date": "2015-04-06",
         "Location": "Canberra",
         "WindGustDir": "W",
         "WindDir9am": "N",
         "WindDir3pm": "SE",
         "RainToday": "No",
         "RainTomorrow": "No",
         "_deepnote_index_column": "top"
        },
        {
         "Date": "49",
         "Location": "3436",
         "WindGustDir": "9915",
         "WindDir9am": "11758",
         "WindDir3pm": "10838",
         "RainToday": "110319",
         "RainTomorrow": "110316",
         "_deepnote_index_column": "freq"
        }
       ]
      },
      "text/plain": "              Date  Location WindGustDir WindDir9am WindDir3pm RainToday  \\\ncount       145460    145460      135134     134894     141232    142199   \nunique        3436        49          16         16         16         2   \ntop     2015-04-06  Canberra           W          N         SE        No   \nfreq            49      3436        9915      11758      10838    110319   \n\n       RainTomorrow  \ncount        142193  \nunique            2  \ntop              No  \nfreq         110316  ",
      "text/html": "<div>\n<style scoped>\n    .dataframe tbody tr th:only-of-type {\n        vertical-align: middle;\n    }\n\n    .dataframe tbody tr th {\n        vertical-align: top;\n    }\n\n    .dataframe thead th {\n        text-align: right;\n    }\n</style>\n<table border=\"1\" class=\"dataframe\">\n  <thead>\n    <tr style=\"text-align: right;\">\n      <th></th>\n      <th>Date</th>\n      <th>Location</th>\n      <th>WindGustDir</th>\n      <th>WindDir9am</th>\n      <th>WindDir3pm</th>\n      <th>RainToday</th>\n      <th>RainTomorrow</th>\n    </tr>\n  </thead>\n  <tbody>\n    <tr>\n      <th>count</th>\n      <td>145460</td>\n      <td>145460</td>\n      <td>135134</td>\n      <td>134894</td>\n      <td>141232</td>\n      <td>142199</td>\n      <td>142193</td>\n    </tr>\n    <tr>\n      <th>unique</th>\n      <td>3436</td>\n      <td>49</td>\n      <td>16</td>\n      <td>16</td>\n      <td>16</td>\n      <td>2</td>\n      <td>2</td>\n    </tr>\n    <tr>\n      <th>top</th>\n      <td>2015-04-06</td>\n      <td>Canberra</td>\n      <td>W</td>\n      <td>N</td>\n      <td>SE</td>\n      <td>No</td>\n      <td>No</td>\n    </tr>\n    <tr>\n      <th>freq</th>\n      <td>49</td>\n      <td>3436</td>\n      <td>9915</td>\n      <td>11758</td>\n      <td>10838</td>\n      <td>110319</td>\n      <td>110316</td>\n    </tr>\n  </tbody>\n</table>\n</div>"
     },
     "metadata": {}
    }
   ]
  },
  {
   "cell_type": "code",
   "metadata": {
    "cell_id": "6e3b4e4582664d34b79ce24332cd97d6",
    "tags": [],
    "deepnote_to_be_reexecuted": false,
    "source_hash": "b1c74690",
    "execution_start": 1649251109231,
    "execution_millis": 139,
    "deepnote_cell_type": "code",
    "deepnote_cell_height": 119.1875,
    "deepnote_output_heights": [
     21.1875
    ]
   },
   "source": "rain.describe(include=['object']).shape",
   "execution_count": 10,
   "outputs": [
    {
     "output_type": "execute_result",
     "execution_count": 10,
     "data": {
      "text/plain": "(4, 7)"
     },
     "metadata": {}
    }
   ]
  },
  {
   "cell_type": "markdown",
   "source": "- Existen 16 variables numericas, 7 categoricas y 1 correspondiente a la fecha.\n- El conjunto de datos incluye valores numéricos y categóricos (float64 y object)\n- La variable objetivo es RainTomorrow",
   "metadata": {
    "cell_id": "e2c38a1f941e4e4a9c8d4ff5f769b3f1",
    "tags": [],
    "is_collapsed": false,
    "deepnote_cell_type": "text-cell-p"
   }
  },
  {
   "cell_type": "markdown",
   "source": "Se procede a depurar el dataset eliminando los registros con valores faltantes",
   "metadata": {
    "cell_id": "88733f49edc642debbd0fcf1030aeb73",
    "tags": [],
    "is_collapsed": false,
    "deepnote_cell_type": "text-cell-p"
   }
  },
  {
   "cell_type": "code",
   "metadata": {
    "cell_id": "fcff1120251b4c2d9d34e42d8fddba65",
    "tags": [],
    "deepnote_to_be_reexecuted": false,
    "source_hash": "7b3a9d0a",
    "execution_start": 1649251109426,
    "execution_millis": 46,
    "deepnote_cell_type": "code",
    "deepnote_cell_height": 578.5,
    "deepnote_output_heights": [
     462.5
    ]
   },
   "source": "#Buscar la cantidad de registros con datos faltantes\nrain.isnull().sum()",
   "execution_count": 11,
   "outputs": [
    {
     "output_type": "execute_result",
     "execution_count": 11,
     "data": {
      "text/plain": "Date                 0\nLocation             0\nMinTemp           1485\nMaxTemp           1261\nRainfall          3261\nEvaporation      62790\nSunshine         69835\nWindGustDir      10326\nWindGustSpeed    10263\nWindDir9am       10566\nWindDir3pm        4228\nWindSpeed9am      1767\nWindSpeed3pm      3062\nHumidity9am       2654\nHumidity3pm       4507\nPressure9am      15065\nPressure3pm      15028\nCloud9am         55888\nCloud3pm         59358\nTemp9am           1767\nTemp3pm           3609\nRainToday         3261\nRainTomorrow      3267\ndtype: int64"
     },
     "metadata": {}
    }
   ]
  },
  {
   "cell_type": "code",
   "metadata": {
    "cell_id": "4f211e7a4a7e4ceb97bb27de2090311b",
    "tags": [],
    "deepnote_to_be_reexecuted": false,
    "source_hash": "f42c03ff",
    "execution_start": 1649251109471,
    "execution_millis": 0,
    "deepnote_cell_type": "code",
    "deepnote_cell_height": 117.65625
   },
   "source": "#Remover todas las filas que presenten datos nulos\nrain.dropna(subset=['RainTomorrow'],inplace = True)\n#rain.reset_index(drop=True,inplace=True)",
   "execution_count": 12,
   "outputs": []
  },
  {
   "cell_type": "code",
   "metadata": {
    "cell_id": "7fb25fabdeb24a35aefdfc4321e708ee",
    "tags": [],
    "deepnote_to_be_reexecuted": false,
    "source_hash": "e45c3e64",
    "execution_start": 1649251109514,
    "execution_millis": 7,
    "deepnote_cell_type": "code",
    "deepnote_cell_height": 560.5,
    "deepnote_output_heights": [
     462.5
    ]
   },
   "source": "rain.isnull().sum()",
   "execution_count": 13,
   "outputs": [
    {
     "output_type": "execute_result",
     "execution_count": 13,
     "data": {
      "text/plain": "Date                 0\nLocation             0\nMinTemp            637\nMaxTemp            322\nRainfall          1406\nEvaporation      60843\nSunshine         67816\nWindGustDir       9330\nWindGustSpeed     9270\nWindDir9am       10013\nWindDir3pm        3778\nWindSpeed9am      1348\nWindSpeed3pm      2630\nHumidity9am       1774\nHumidity3pm       3610\nPressure9am      14014\nPressure3pm      13981\nCloud9am         53657\nCloud3pm         57094\nTemp9am            904\nTemp3pm           2726\nRainToday         1406\nRainTomorrow         0\ndtype: int64"
     },
     "metadata": {}
    }
   ]
  },
  {
   "cell_type": "markdown",
   "source": "### Variable Objetivo",
   "metadata": {
    "cell_id": "a355f8908ee5448d87979d79261c543f",
    "tags": [],
    "is_collapsed": false,
    "deepnote_cell_type": "text-cell-h3"
   }
  },
  {
   "cell_type": "markdown",
   "source": "Ahora se observa la variable objetivo",
   "metadata": {
    "cell_id": "212164fd30b049e094f789d96f9ae0d3",
    "tags": [],
    "is_collapsed": false,
    "deepnote_cell_type": "text-cell-p"
   }
  },
  {
   "cell_type": "code",
   "metadata": {
    "cell_id": "ce8353460ffe467a80956698efdb60da",
    "tags": [],
    "deepnote_to_be_reexecuted": false,
    "source_hash": "826634bf",
    "execution_start": 1649251109535,
    "execution_millis": 9,
    "deepnote_cell_type": "code",
    "deepnote_cell_height": 175.65625,
    "deepnote_output_heights": [
     59.5625
    ]
   },
   "source": "#Frecuencia en la variable objetivo\nrain['RainTomorrow'].value_counts()",
   "execution_count": 14,
   "outputs": [
    {
     "output_type": "execute_result",
     "execution_count": 14,
     "data": {
      "text/plain": "No     110316\nYes     31877\nName: RainTomorrow, dtype: int64"
     },
     "metadata": {}
    }
   ]
  },
  {
   "cell_type": "code",
   "metadata": {
    "cell_id": "f77a153b163f49df806f9f59945fc2c2",
    "tags": [],
    "deepnote_to_be_reexecuted": false,
    "source_hash": "f771ce0c",
    "execution_start": 1649251109558,
    "execution_millis": 6,
    "deepnote_cell_type": "code",
    "deepnote_cell_height": 175.65625,
    "deepnote_output_heights": [
     59.5625
    ]
   },
   "source": "#Porcentaje de frecuencia en la variable objetivo\nrain['RainTomorrow'].value_counts()/len(rain)",
   "execution_count": 15,
   "outputs": [
    {
     "output_type": "execute_result",
     "execution_count": 15,
     "data": {
      "text/plain": "No     0.775819\nYes    0.224181\nName: RainTomorrow, dtype: float64"
     },
     "metadata": {}
    }
   ]
  },
  {
   "cell_type": "code",
   "metadata": {
    "cell_id": "6b8929351a6c4f3b828eea333d9d0c6f",
    "tags": [],
    "deepnote_to_be_reexecuted": false,
    "source_hash": "85f88c3e",
    "execution_start": 1649251109575,
    "execution_millis": 269,
    "deepnote_cell_type": "code",
    "deepnote_cell_height": 634,
    "deepnote_output_heights": [
     482
    ]
   },
   "source": "#Grafico la frecuencia de la variable objetivo\nf, ax = plt.subplots(figsize=(6, 8))\nax = sns.countplot(x=\"RainTomorrow\", data=rain)\nplt.show()",
   "execution_count": 16,
   "outputs": [
    {
     "data": {
      "text/plain": "<Figure size 432x576 with 1 Axes>",
      "image/png": "[encoded data removed]"
     },
     "metadata": {
      "needs_background": "light",
      "image/png": {
       "width": 407,
       "height": 480
      }
     },
     "output_type": "display_data"
    }
   ]
  },
  {
   "cell_type": "markdown",
   "source": "Los registros se encuentras distribuidos de la siguiente forma: No=110316(77.5819%) y Yes=31877(22.4181%)",
   "metadata": {
    "cell_id": "1dadbeead51148e9b595e754ad07f4d5",
    "tags": [],
    "is_collapsed": false,
    "deepnote_cell_type": "text-cell-p"
   }
  },
  {
   "cell_type": "markdown",
   "source": "### Variables Numericas",
   "metadata": {
    "cell_id": "af243f5f808d4bcf8cec93cae2d6bd7f",
    "tags": [],
    "is_collapsed": false,
    "deepnote_cell_type": "text-cell-h3"
   }
  },
  {
   "cell_type": "code",
   "metadata": {
    "cell_id": "b17148cd59ed4be7b6a70d94941831fe",
    "tags": [],
    "deepnote_to_be_reexecuted": false,
    "source_hash": "6aff2ee1",
    "execution_start": 1649251109855,
    "execution_millis": 157,
    "deepnote_cell_type": "code",
    "deepnote_cell_height": 163.65625
   },
   "source": "numerical = rain.describe().columns\nnumerical",
   "execution_count": 17,
   "outputs": [
    {
     "output_type": "execute_result",
     "execution_count": 17,
     "data": {
      "text/plain": "Index(['MinTemp', 'MaxTemp', 'Rainfall', 'Evaporation', 'Sunshine',\n       'WindGustSpeed', 'WindSpeed9am', 'WindSpeed3pm', 'Humidity9am',\n       'Humidity3pm', 'Pressure9am', 'Pressure3pm', 'Cloud9am', 'Cloud3pm',\n       'Temp9am', 'Temp3pm'],\n      dtype='object')"
     },
     "metadata": {}
    }
   ]
  },
  {
   "cell_type": "code",
   "source": "rain[numerical].head()",
   "metadata": {
    "cell_id": "d7977ef118ba472485cbdd07b72bd901",
    "tags": [],
    "deepnote_to_be_reexecuted": false,
    "source_hash": "2035edd5",
    "execution_start": 1649251110015,
    "execution_millis": 57,
    "deepnote_cell_type": "code",
    "deepnote_cell_height": 66.65625
   },
   "outputs": [
    {
     "output_type": "execute_result",
     "execution_count": 18,
     "data": {
      "application/vnd.deepnote.dataframe.v3+json": {
       "column_count": 16,
       "row_count": 5,
       "columns": [
        {
         "name": "MinTemp",
         "dtype": "float64",
         "stats": {
          "unique_count": 5,
          "nan_count": 0,
          "min": "7.4",
          "max": "17.5",
          "histogram": [
           {
            "bin_start": 7.4,
            "bin_end": 8.41,
            "count": 1
           },
           {
            "bin_start": 8.41,
            "bin_end": 9.42,
            "count": 1
           },
           {
            "bin_start": 9.42,
            "bin_end": 10.43,
            "count": 0
           },
           {
            "bin_start": 10.43,
            "bin_end": 11.440000000000001,
            "count": 0
           },
           {
            "bin_start": 11.440000000000001,
            "bin_end": 12.45,
            "count": 0
           },
           {
            "bin_start": 12.45,
            "bin_end": 13.46,
            "count": 2
           },
           {
            "bin_start": 13.46,
            "bin_end": 14.47,
            "count": 0
           },
           {
            "bin_start": 14.47,
            "bin_end": 15.48,
            "count": 0
           },
           {
            "bin_start": 15.48,
            "bin_end": 16.490000000000002,
            "count": 0
           },
           {
            "bin_start": 16.490000000000002,
            "bin_end": 17.5,
            "count": 1
           }
          ]
         }
        },
        {
         "name": "MaxTemp",
         "dtype": "float64",
         "stats": {
          "unique_count": 5,
          "nan_count": 0,
          "min": "22.9",
          "max": "32.3",
          "histogram": [
           {
            "bin_start": 22.9,
            "bin_end": 23.84,
            "count": 1
           },
           {
            "bin_start": 23.84,
            "bin_end": 24.779999999999998,
            "count": 0
           },
           {
            "bin_start": 24.779999999999998,
            "bin_end": 25.72,
            "count": 2
           },
           {
            "bin_start": 25.72,
            "bin_end": 26.659999999999997,
            "count": 0
           },
           {
            "bin_start": 26.659999999999997,
            "bin_end": 27.599999999999998,
            "count": 0
           },
           {
            "bin_start": 27.599999999999998,
            "bin_end": 28.54,
            "count": 1
           },
           {
            "bin_start": 28.54,
            "bin_end": 29.479999999999997,
            "count": 0
           },
           {
            "bin_start": 29.479999999999997,
            "bin_end": 30.419999999999998,
            "count": 0
           },
           {
            "bin_start": 30.419999999999998,
            "bin_end": 31.36,
            "count": 0
           },
           {
            "bin_start": 31.36,
            "bin_end": 32.3,
            "count": 1
           }
          ]
         }
        },
        {
         "name": "Rainfall",
         "dtype": "float64",
         "stats": {
          "unique_count": 3,
          "nan_count": 0,
          "min": "0.0",
          "max": "1.0",
          "histogram": [
           {
            "bin_start": 0,
            "bin_end": 0.1,
            "count": 3
           },
           {
            "bin_start": 0.1,
            "bin_end": 0.2,
            "count": 0
           },
           {
            "bin_start": 0.2,
            "bin_end": 0.30000000000000004,
            "count": 0
           },
           {
            "bin_start": 0.30000000000000004,
            "bin_end": 0.4,
            "count": 0
           },
           {
            "bin_start": 0.4,
            "bin_end": 0.5,
            "count": 0
           },
           {
            "bin_start": 0.5,
            "bin_end": 0.6000000000000001,
            "count": 1
           },
           {
            "bin_start": 0.6000000000000001,
            "bin_end": 0.7000000000000001,
            "count": 0
           },
           {
            "bin_start": 0.7000000000000001,
            "bin_end": 0.8,
            "count": 0
           },
           {
            "bin_start": 0.8,
            "bin_end": 0.9,
            "count": 0
           },
           {
            "bin_start": 0.9,
            "bin_end": 1,
            "count": 1
           }
          ]
         }
        },
        {
         "name": "Evaporation",
         "dtype": "float64",
         "stats": {
          "unique_count": 0,
          "nan_count": 5,
          "min": null,
          "max": null,
          "histogram": [
           {
            "bin_start": 0,
            "bin_end": 0.1,
            "count": 0
           },
           {
            "bin_start": 0.1,
            "bin_end": 0.2,
            "count": 0
           },
           {
            "bin_start": 0.2,
            "bin_end": 0.30000000000000004,
            "count": 0
           },
           {
            "bin_start": 0.30000000000000004,
            "bin_end": 0.4,
            "count": 0
           },
           {
            "bin_start": 0.4,
            "bin_end": 0.5,
            "count": 0
           },
           {
            "bin_start": 0.5,
            "bin_end": 0.6000000000000001,
            "count": 0
           },
           {
            "bin_start": 0.6000000000000001,
            "bin_end": 0.7000000000000001,
            "count": 0
           },
           {
            "bin_start": 0.7000000000000001,
            "bin_end": 0.8,
            "count": 0
           },
           {
            "bin_start": 0.8,
            "bin_end": 0.9,
            "count": 0
           },
           {
            "bin_start": 0.9,
            "bin_end": 1,
            "count": 0
           }
          ]
         }
        },
        {
         "name": "Sunshine",
         "dtype": "float64",
         "stats": {
          "unique_count": 0,
          "nan_count": 5,
          "min": null,
          "max": null,
          "histogram": [
           {
            "bin_start": 0,
            "bin_end": 0.1,
            "count": 0
           },
           {
            "bin_start": 0.1,
            "bin_end": 0.2,
            "count": 0
           },
           {
            "bin_start": 0.2,
            "bin_end": 0.30000000000000004,
            "count": 0
           },
           {
            "bin_start": 0.30000000000000004,
            "bin_end": 0.4,
            "count": 0
           },
           {
            "bin_start": 0.4,
            "bin_end": 0.5,
            "count": 0
           },
           {
            "bin_start": 0.5,
            "bin_end": 0.6000000000000001,
            "count": 0
           },
           {
            "bin_start": 0.6000000000000001,
            "bin_end": 0.7000000000000001,
            "count": 0
           },
           {
            "bin_start": 0.7000000000000001,
            "bin_end": 0.8,
            "count": 0
           },
           {
            "bin_start": 0.8,
            "bin_end": 0.9,
            "count": 0
           },
           {
            "bin_start": 0.9,
            "bin_end": 1,
            "count": 0
           }
          ]
         }
        },
        {
         "name": "WindGustSpeed",
         "dtype": "float64",
         "stats": {
          "unique_count": 4,
          "nan_count": 0,
          "min": "24.0",
          "max": "46.0",
          "histogram": [
           {
            "bin_start": 24,
            "bin_end": 26.2,
            "count": 1
           },
           {
            "bin_start": 26.2,
            "bin_end": 28.4,
            "count": 0
           },
           {
            "bin_start": 28.4,
            "bin_end": 30.6,
            "count": 0
           },
           {
            "bin_start": 30.6,
            "bin_end": 32.8,
            "count": 0
           },
           {
            "bin_start": 32.8,
            "bin_end": 35,
            "count": 0
           },
           {
            "bin_start": 35,
            "bin_end": 37.2,
            "count": 0
           },
           {
            "bin_start": 37.2,
            "bin_end": 39.400000000000006,
            "count": 0
           },
           {
            "bin_start": 39.400000000000006,
            "bin_end": 41.6,
            "count": 1
           },
           {
            "bin_start": 41.6,
            "bin_end": 43.8,
            "count": 0
           },
           {
            "bin_start": 43.8,
            "bin_end": 46,
            "count": 3
           }
          ]
         }
        },
        {
         "name": "WindSpeed9am",
         "dtype": "float64",
         "stats": {
          "unique_count": 5,
          "nan_count": 0,
          "min": "4.0",
          "max": "20.0",
          "histogram": [
           {
            "bin_start": 4,
            "bin_end": 5.6,
            "count": 1
           },
           {
            "bin_start": 5.6,
            "bin_end": 7.2,
            "count": 1
           },
           {
            "bin_start": 7.2,
            "bin_end": 8.8,
            "count": 0
           },
           {
            "bin_start": 8.8,
            "bin_end": 10.4,
            "count": 0
           },
           {
            "bin_start": 10.4,
            "bin_end": 12,
            "count": 1
           },
           {
            "bin_start": 12,
            "bin_end": 13.600000000000001,
            "count": 0
           },
           {
            "bin_start": 13.600000000000001,
            "bin_end": 15.200000000000001,
            "count": 0
           },
           {
            "bin_start": 15.200000000000001,
            "bin_end": 16.8,
            "count": 0
           },
           {
            "bin_start": 16.8,
            "bin_end": 18.4,
            "count": 0
           },
           {
            "bin_start": 18.4,
            "bin_end": 20,
            "count": 2
           }
          ]
         }
        },
        {
         "name": "WindSpeed3pm",
         "dtype": "float64",
         "stats": {
          "unique_count": 5,
          "nan_count": 0,
          "min": "9.0",
          "max": "26.0",
          "histogram": [
           {
            "bin_start": 9,
            "bin_end": 10.7,
            "count": 1
           },
           {
            "bin_start": 10.7,
            "bin_end": 12.4,
            "count": 0
           },
           {
            "bin_start": 12.4,
            "bin_end": 14.1,
            "count": 0
           },
           {
            "bin_start": 14.1,
            "bin_end": 15.8,
            "count": 0
           },
           {
            "bin_start": 15.8,
            "bin_end": 17.5,
            "count": 0
           },
           {
            "bin_start": 17.5,
            "bin_end": 19.2,
            "count": 0
           },
           {
            "bin_start": 19.2,
            "bin_end": 20.9,
            "count": 1
           },
           {
            "bin_start": 20.9,
            "bin_end": 22.6,
            "count": 1
           },
           {
            "bin_start": 22.6,
            "bin_end": 24.299999999999997,
            "count": 1
           },
           {
            "bin_start": 24.299999999999997,
            "bin_end": 26,
            "count": 1
           }
          ]
         }
        },
        {
         "name": "Humidity9am",
         "dtype": "float64",
         "stats": {
          "unique_count": 5,
          "nan_count": 0,
          "min": "38.0",
          "max": "82.0",
          "histogram": [
           {
            "bin_start": 38,
            "bin_end": 42.4,
            "count": 1
           },
           {
            "bin_start": 42.4,
            "bin_end": 46.8,
            "count": 2
           },
           {
            "bin_start": 46.8,
            "bin_end": 51.2,
            "count": 0
           },
           {
            "bin_start": 51.2,
            "bin_end": 55.6,
            "count": 0
           },
           {
            "bin_start": 55.6,
            "bin_end": 60,
            "count": 0
           },
           {
            "bin_start": 60,
            "bin_end": 64.4,
            "count": 0
           },
           {
            "bin_start": 64.4,
            "bin_end": 68.80000000000001,
            "count": 0
           },
           {
            "bin_start": 68.80000000000001,
            "bin_end": 73.2,
            "count": 1
           },
           {
            "bin_start": 73.2,
            "bin_end": 77.6,
            "count": 0
           },
           {
            "bin_start": 77.6,
            "bin_end": 82,
            "count": 1
           }
          ]
         }
        },
        {
         "name": "Humidity3pm",
         "dtype": "float64",
         "stats": {
          "unique_count": 5,
          "nan_count": 0,
          "min": "16.0",
          "max": "33.0",
          "histogram": [
           {
            "bin_start": 16,
            "bin_end": 17.7,
            "count": 1
           },
           {
            "bin_start": 17.7,
            "bin_end": 19.4,
            "count": 0
           },
           {
            "bin_start": 19.4,
            "bin_end": 21.1,
            "count": 0
           },
           {
            "bin_start": 21.1,
            "bin_end": 22.8,
            "count": 1
           },
           {
            "bin_start": 22.8,
            "bin_end": 24.5,
            "count": 0
           },
           {
            "bin_start": 24.5,
            "bin_end": 26.2,
            "count": 1
           },
           {
            "bin_start": 26.2,
            "bin_end": 27.9,
            "count": 0
           },
           {
            "bin_start": 27.9,
            "bin_end": 29.6,
            "count": 0
           },
           {
            "bin_start": 29.6,
            "bin_end": 31.299999999999997,
            "count": 1
           },
           {
            "bin_start": 31.299999999999997,
            "bin_end": 33,
            "count": 1
           }
          ]
         }
        },
        {
         "name": "Pressure9am",
         "dtype": "float64",
         "stats": {
          "unique_count": 5,
          "nan_count": 0,
          "min": "1007.6",
          "max": "1017.6",
          "histogram": [
           {
            "bin_start": 1007.6,
            "bin_end": 1008.6,
            "count": 2
           },
           {
            "bin_start": 1008.6,
            "bin_end": 1009.6,
            "count": 0
           },
           {
            "bin_start": 1009.6,
            "bin_end": 1010.6,
            "count": 0
           },
           {
            "bin_start": 1010.6,
            "bin_end": 1011.6,
            "count": 2
           },
           {
            "bin_start": 1011.6,
            "bin_end": 1012.6,
            "count": 0
           },
           {
            "bin_start": 1012.6,
            "bin_end": 1013.6,
            "count": 0
           },
           {
            "bin_start": 1013.6,
            "bin_end": 1014.6,
            "count": 0
           },
           {
            "bin_start": 1014.6,
            "bin_end": 1015.6,
            "count": 0
           },
           {
            "bin_start": 1015.6,
            "bin_end": 1016.6,
            "count": 0
           },
           {
            "bin_start": 1016.6,
            "bin_end": 1017.6,
            "count": 1
           }
          ]
         }
        },
        {
         "name": "Pressure3pm",
         "dtype": "float64",
         "stats": {
          "unique_count": 5,
          "nan_count": 0,
          "min": "1006.0",
          "max": "1012.8",
          "histogram": [
           {
            "bin_start": 1006,
            "bin_end": 1006.68,
            "count": 1
           },
           {
            "bin_start": 1006.68,
            "bin_end": 1007.36,
            "count": 1
           },
           {
            "bin_start": 1007.36,
            "bin_end": 1008.04,
            "count": 1
           },
           {
            "bin_start": 1008.04,
            "bin_end": 1008.72,
            "count": 1
           },
           {
            "bin_start": 1008.72,
            "bin_end": 1009.4,
            "count": 0
           },
           {
            "bin_start": 1009.4,
            "bin_end": 1010.0799999999999,
            "count": 0
           },
           {
            "bin_start": 1010.0799999999999,
            "bin_end": 1010.76,
            "count": 0
           },
           {
            "bin_start": 1010.76,
            "bin_end": 1011.4399999999999,
            "count": 0
           },
           {
            "bin_start": 1011.4399999999999,
            "bin_end": 1012.12,
            "count": 0
           },
           {
            "bin_start": 1012.12,
            "bin_end": 1012.8,
            "count": 1
           }
          ]
         }
        },
        {
         "name": "Cloud9am",
         "dtype": "float64",
         "stats": {
          "unique_count": 2,
          "nan_count": 3,
          "min": "7.0",
          "max": "8.0",
          "histogram": [
           {
            "bin_start": 7,
            "bin_end": 7.1,
            "count": 1
           },
           {
            "bin_start": 7.1,
            "bin_end": 7.2,
            "count": 0
           },
           {
            "bin_start": 7.2,
            "bin_end": 7.3,
            "count": 0
           },
           {
            "bin_start": 7.3,
            "bin_end": 7.4,
            "count": 0
           },
           {
            "bin_start": 7.4,
            "bin_end": 7.5,
            "count": 0
           },
           {
            "bin_start": 7.5,
            "bin_end": 7.6,
            "count": 0
           },
           {
            "bin_start": 7.6,
            "bin_end": 7.7,
            "count": 0
           },
           {
            "bin_start": 7.7,
            "bin_end": 7.8,
            "count": 0
           },
           {
            "bin_start": 7.8,
            "bin_end": 7.9,
            "count": 0
           },
           {
            "bin_start": 7.9,
            "bin_end": 8,
            "count": 1
           }
          ]
         }
        },
        {
         "name": "Cloud3pm",
         "dtype": "float64",
         "stats": {
          "unique_count": 2,
          "nan_count": 3,
          "min": "2.0",
          "max": "8.0",
          "histogram": [
           {
            "bin_start": 2,
            "bin_end": 2.6,
            "count": 1
           },
           {
            "bin_start": 2.6,
            "bin_end": 3.2,
            "count": 0
           },
           {
            "bin_start": 3.2,
            "bin_end": 3.8,
            "count": 0
           },
           {
            "bin_start": 3.8,
            "bin_end": 4.4,
            "count": 0
           },
           {
            "bin_start": 4.4,
            "bin_end": 5,
            "count": 0
           },
           {
            "bin_start": 5,
            "bin_end": 5.6,
            "count": 0
           },
           {
            "bin_start": 5.6,
            "bin_end": 6.2,
            "count": 0
           },
           {
            "bin_start": 6.2,
            "bin_end": 6.8,
            "count": 0
           },
           {
            "bin_start": 6.8,
            "bin_end": 7.3999999999999995,
            "count": 0
           },
           {
            "bin_start": 7.3999999999999995,
            "bin_end": 8,
            "count": 1
           }
          ]
         }
        },
        {
         "name": "Temp9am",
         "dtype": "float64",
         "stats": {
          "unique_count": 5,
          "nan_count": 0,
          "min": "16.9",
          "max": "21.0",
          "histogram": [
           {
            "bin_start": 16.9,
            "bin_end": 17.31,
            "count": 2
           },
           {
            "bin_start": 17.31,
            "bin_end": 17.72,
            "count": 0
           },
           {
            "bin_start": 17.72,
            "bin_end": 18.13,
            "count": 2
           },
           {
            "bin_start": 18.13,
            "bin_end": 18.54,
            "count": 0
           },
           {
            "bin_start": 18.54,
            "bin_end": 18.95,
            "count": 0
           },
           {
            "bin_start": 18.95,
            "bin_end": 19.36,
            "count": 0
           },
           {
            "bin_start": 19.36,
            "bin_end": 19.77,
            "count": 0
           },
           {
            "bin_start": 19.77,
            "bin_end": 20.18,
            "count": 0
           },
           {
            "bin_start": 20.18,
            "bin_end": 20.59,
            "count": 0
           },
           {
            "bin_start": 20.59,
            "bin_end": 21,
            "count": 1
           }
          ]
         }
        },
        {
         "name": "Temp3pm",
         "dtype": "float64",
         "stats": {
          "unique_count": 5,
          "nan_count": 0,
          "min": "21.8",
          "max": "29.7",
          "histogram": [
           {
            "bin_start": 21.8,
            "bin_end": 22.59,
            "count": 1
           },
           {
            "bin_start": 22.59,
            "bin_end": 23.38,
            "count": 1
           },
           {
            "bin_start": 23.38,
            "bin_end": 24.17,
            "count": 0
           },
           {
            "bin_start": 24.17,
            "bin_end": 24.96,
            "count": 1
           },
           {
            "bin_start": 24.96,
            "bin_end": 25.75,
            "count": 0
           },
           {
            "bin_start": 25.75,
            "bin_end": 26.54,
            "count": 1
           },
           {
            "bin_start": 26.54,
            "bin_end": 27.33,
            "count": 0
           },
           {
            "bin_start": 27.33,
            "bin_end": 28.119999999999997,
            "count": 0
           },
           {
            "bin_start": 28.119999999999997,
            "bin_end": 28.91,
            "count": 0
           },
           {
            "bin_start": 28.91,
            "bin_end": 29.7,
            "count": 1
           }
          ]
         }
        },
        {
         "name": "_deepnote_index_column",
         "dtype": "int64"
        }
       ],
       "rows": [
        {
         "MinTemp": 13.4,
         "MaxTemp": 22.9,
         "Rainfall": 0.6,
         "Evaporation": "nan",
         "Sunshine": "nan",
         "WindGustSpeed": 44,
         "WindSpeed9am": 20,
         "WindSpeed3pm": 24,
         "Humidity9am": 71,
         "Humidity3pm": 22,
         "Pressure9am": 1007.7,
         "Pressure3pm": 1007.1,
         "Cloud9am": 8,
         "Cloud3pm": "nan",
         "Temp9am": 16.9,
         "Temp3pm": 21.8,
         "_deepnote_index_column": 0
        },
        {
         "MinTemp": 7.4,
         "MaxTemp": 25.1,
         "Rainfall": 0,
         "Evaporation": "nan",
         "Sunshine": "nan",
         "WindGustSpeed": 44,
         "WindSpeed9am": 4,
         "WindSpeed3pm": 22,
         "Humidity9am": 44,
         "Humidity3pm": 25,
         "Pressure9am": 1010.6,
         "Pressure3pm": 1007.8,
         "Cloud9am": "nan",
         "Cloud3pm": "nan",
         "Temp9am": 17.2,
         "Temp3pm": 24.3,
         "_deepnote_index_column": 1
        },
        {
         "MinTemp": 12.9,
         "MaxTemp": 25.7,
         "Rainfall": 0,
         "Evaporation": "nan",
         "Sunshine": "nan",
         "WindGustSpeed": 46,
         "WindSpeed9am": 19,
         "WindSpeed3pm": 26,
         "Humidity9am": 38,
         "Humidity3pm": 30,
         "Pressure9am": 1007.6,
         "Pressure3pm": 1008.7,
         "Cloud9am": "nan",
         "Cloud3pm": 2,
         "Temp9am": 21,
         "Temp3pm": 23.2,
         "_deepnote_index_column": 2
        },
        {
         "MinTemp": 9.2,
         "MaxTemp": 28,
         "Rainfall": 0,
         "Evaporation": "nan",
         "Sunshine": "nan",
         "WindGustSpeed": 24,
         "WindSpeed9am": 11,
         "WindSpeed3pm": 9,
         "Humidity9am": 45,
         "Humidity3pm": 16,
         "Pressure9am": 1017.6,
         "Pressure3pm": 1012.8,
         "Cloud9am": "nan",
         "Cloud3pm": "nan",
         "Temp9am": 18.1,
         "Temp3pm": 26.5,
         "_deepnote_index_column": 3
        },
        {
         "MinTemp": 17.5,
         "MaxTemp": 32.3,
         "Rainfall": 1,
         "Evaporation": "nan",
         "Sunshine": "nan",
         "WindGustSpeed": 41,
         "WindSpeed9am": 7,
         "WindSpeed3pm": 20,
         "Humidity9am": 82,
         "Humidity3pm": 33,
         "Pressure9am": 1010.8,
         "Pressure3pm": 1006,
         "Cloud9am": 7,
         "Cloud3pm": 8,
         "Temp9am": 17.8,
         "Temp3pm": 29.7,
         "_deepnote_index_column": 4
        }
       ]
      },
      "text/plain": "   MinTemp  MaxTemp  Rainfall  Evaporation  Sunshine  WindGustSpeed  \\\n0     13.4     22.9       0.6          NaN       NaN           44.0   \n1      7.4     25.1       0.0          NaN       NaN           44.0   \n2     12.9     25.7       0.0          NaN       NaN           46.0   \n3      9.2     28.0       0.0          NaN       NaN           24.0   \n4     17.5     32.3       1.0          NaN       NaN           41.0   \n\n   WindSpeed9am  WindSpeed3pm  Humidity9am  Humidity3pm  Pressure9am  \\\n0          20.0          24.0         71.0         22.0       1007.7   \n1           4.0          22.0         44.0         25.0       1010.6   \n2          19.0          26.0         38.0         30.0       1007.6   \n3          11.0           9.0         45.0         16.0       1017.6   \n4           7.0          20.0         82.0         33.0       1010.8   \n\n   Pressure3pm  Cloud9am  Cloud3pm  Temp9am  Temp3pm  \n0       1007.1       8.0       NaN     16.9     21.8  \n1       1007.8       NaN       NaN     17.2     24.3  \n2       1008.7       NaN       2.0     21.0     23.2  \n3       1012.8       NaN       NaN     18.1     26.5  \n4       1006.0       7.0       8.0     17.8     29.7  ",
      "text/html": "<div>\n<style scoped>\n    .dataframe tbody tr th:only-of-type {\n        vertical-align: middle;\n    }\n\n    .dataframe tbody tr th {\n        vertical-align: top;\n    }\n\n    .dataframe thead th {\n        text-align: right;\n    }\n</style>\n<table border=\"1\" class=\"dataframe\">\n  <thead>\n    <tr style=\"text-align: right;\">\n      <th></th>\n      <th>MinTemp</th>\n      <th>MaxTemp</th>\n      <th>Rainfall</th>\n      <th>Evaporation</th>\n      <th>Sunshine</th>\n      <th>WindGustSpeed</th>\n      <th>WindSpeed9am</th>\n      <th>WindSpeed3pm</th>\n      <th>Humidity9am</th>\n      <th>Humidity3pm</th>\n      <th>Pressure9am</th>\n      <th>Pressure3pm</th>\n      <th>Cloud9am</th>\n      <th>Cloud3pm</th>\n      <th>Temp9am</th>\n      <th>Temp3pm</th>\n    </tr>\n  </thead>\n  <tbody>\n    <tr>\n      <th>0</th>\n      <td>13.4</td>\n      <td>22.9</td>\n      <td>0.6</td>\n      <td>NaN</td>\n      <td>NaN</td>\n      <td>44.0</td>\n      <td>20.0</td>\n      <td>24.0</td>\n      <td>71.0</td>\n      <td>22.0</td>\n      <td>1007.7</td>\n      <td>1007.1</td>\n      <td>8.0</td>\n      <td>NaN</td>\n      <td>16.9</td>\n      <td>21.8</td>\n    </tr>\n    <tr>\n      <th>1</th>\n      <td>7.4</td>\n      <td>25.1</td>\n      <td>0.0</td>\n      <td>NaN</td>\n      <td>NaN</td>\n      <td>44.0</td>\n      <td>4.0</td>\n      <td>22.0</td>\n      <td>44.0</td>\n      <td>25.0</td>\n      <td>1010.6</td>\n      <td>1007.8</td>\n      <td>NaN</td>\n      <td>NaN</td>\n      <td>17.2</td>\n      <td>24.3</td>\n    </tr>\n    <tr>\n      <th>2</th>\n      <td>12.9</td>\n      <td>25.7</td>\n      <td>0.0</td>\n      <td>NaN</td>\n      <td>NaN</td>\n      <td>46.0</td>\n      <td>19.0</td>\n      <td>26.0</td>\n      <td>38.0</td>\n      <td>30.0</td>\n      <td>1007.6</td>\n      <td>1008.7</td>\n      <td>NaN</td>\n      <td>2.0</td>\n      <td>21.0</td>\n      <td>23.2</td>\n    </tr>\n    <tr>\n      <th>3</th>\n      <td>9.2</td>\n      <td>28.0</td>\n      <td>0.0</td>\n      <td>NaN</td>\n      <td>NaN</td>\n      <td>24.0</td>\n      <td>11.0</td>\n      <td>9.0</td>\n      <td>45.0</td>\n      <td>16.0</td>\n      <td>1017.6</td>\n      <td>1012.8</td>\n      <td>NaN</td>\n      <td>NaN</td>\n      <td>18.1</td>\n      <td>26.5</td>\n    </tr>\n    <tr>\n      <th>4</th>\n      <td>17.5</td>\n      <td>32.3</td>\n      <td>1.0</td>\n      <td>NaN</td>\n      <td>NaN</td>\n      <td>41.0</td>\n      <td>7.0</td>\n      <td>20.0</td>\n      <td>82.0</td>\n      <td>33.0</td>\n      <td>1010.8</td>\n      <td>1006.0</td>\n      <td>7.0</td>\n      <td>8.0</td>\n      <td>17.8</td>\n      <td>29.7</td>\n    </tr>\n  </tbody>\n</table>\n</div>"
     },
     "metadata": {}
    }
   ],
   "execution_count": 18
  },
  {
   "cell_type": "code",
   "source": "rain[numerical].isnull().sum()",
   "metadata": {
    "cell_id": "14de60858c684449a6224ad4ebd93d96",
    "tags": [],
    "deepnote_to_be_reexecuted": false,
    "source_hash": "6b1ca168",
    "execution_start": 1649251110122,
    "execution_millis": 2,
    "deepnote_cell_type": "code",
    "deepnote_cell_height": 66.65625
   },
   "outputs": [
    {
     "output_type": "execute_result",
     "execution_count": 19,
     "data": {
      "text/plain": "MinTemp            637\nMaxTemp            322\nRainfall          1406\nEvaporation      60843\nSunshine         67816\nWindGustSpeed     9270\nWindSpeed9am      1348\nWindSpeed3pm      2630\nHumidity9am       1774\nHumidity3pm       3610\nPressure9am      14014\nPressure3pm      13981\nCloud9am         53657\nCloud3pm         57094\nTemp9am            904\nTemp3pm           2726\ndtype: int64"
     },
     "metadata": {}
    }
   ],
   "execution_count": 19
  },
  {
   "cell_type": "code",
   "source": "rain[numerical].nunique()",
   "metadata": {
    "cell_id": "751ae650bc1b475199c9056d5a64055d",
    "tags": [],
    "deepnote_to_be_reexecuted": false,
    "source_hash": "d3373549",
    "execution_start": 1649251110123,
    "execution_millis": 64,
    "deepnote_cell_type": "code",
    "deepnote_cell_height": 66.65625
   },
   "outputs": [
    {
     "output_type": "execute_result",
     "execution_count": 20,
     "data": {
      "text/plain": "MinTemp          389\nMaxTemp          505\nRainfall         679\nEvaporation      356\nSunshine         145\nWindGustSpeed     67\nWindSpeed9am      43\nWindSpeed3pm      44\nHumidity9am      101\nHumidity3pm      101\nPressure9am      546\nPressure3pm      549\nCloud9am          10\nCloud3pm          10\nTemp9am          440\nTemp3pm          500\ndtype: int64"
     },
     "metadata": {}
    }
   ],
   "execution_count": 20
  },
  {
   "cell_type": "markdown",
   "source": "Se presentan valores faltantes, por lo tanto es necesario tratarlos.",
   "metadata": {
    "cell_id": "494c2ce415064a7eb67bf6f6d2b9a5f9",
    "tags": [],
    "is_collapsed": false,
    "deepnote_cell_type": "text-cell-p"
   }
  },
  {
   "cell_type": "markdown",
   "source": "### Variables Categoricas",
   "metadata": {
    "cell_id": "e5525b9d51ae4c9e8ed41fe71b4d4661",
    "tags": [],
    "is_collapsed": false,
    "deepnote_cell_type": "text-cell-h3"
   }
  },
  {
   "cell_type": "code",
   "metadata": {
    "cell_id": "af416af76ccc4b18833c5f0039a7bd82",
    "tags": [],
    "deepnote_to_be_reexecuted": false,
    "source_hash": "d949652f",
    "execution_start": 1649251110189,
    "execution_millis": 184,
    "deepnote_cell_type": "code",
    "deepnote_cell_height": 175.65625,
    "deepnote_output_heights": [
     59.5625
    ]
   },
   "source": "categorical = rain.describe(include=['object']).columns\ncategorical ",
   "execution_count": 21,
   "outputs": [
    {
     "output_type": "execute_result",
     "execution_count": 21,
     "data": {
      "text/plain": "Index(['Date', 'Location', 'WindGustDir', 'WindDir9am', 'WindDir3pm',\n       'RainToday', 'RainTomorrow'],\n      dtype='object')"
     },
     "metadata": {}
    }
   ]
  },
  {
   "cell_type": "code",
   "metadata": {
    "cell_id": "563e62df10ff4eceb7eb67f4e054f1e7",
    "tags": [],
    "deepnote_to_be_reexecuted": false,
    "source_hash": "7ac55992",
    "execution_start": 1649251110394,
    "execution_millis": 46,
    "deepnote_cell_type": "code",
    "deepnote_cell_height": 414.328125
   },
   "source": "rain[categorical].head()\n",
   "execution_count": 22,
   "outputs": [
    {
     "output_type": "execute_result",
     "execution_count": 22,
     "data": {
      "application/vnd.deepnote.dataframe.v3+json": {
       "column_count": 7,
       "row_count": 5,
       "columns": [
        {
         "name": "Date",
         "dtype": "object",
         "stats": {
          "unique_count": 5,
          "nan_count": 0,
          "categories": [
           {
            "name": "2008-12-01",
            "count": 1
           },
           {
            "name": "2008-12-02",
            "count": 1
           },
           {
            "name": "3 others",
            "count": 3
           }
          ]
         }
        },
        {
         "name": "Location",
         "dtype": "object",
         "stats": {
          "unique_count": 1,
          "nan_count": 0,
          "categories": [
           {
            "name": "Albury",
            "count": 5
           }
          ]
         }
        },
        {
         "name": "WindGustDir",
         "dtype": "object",
         "stats": {
          "unique_count": 4,
          "nan_count": 0,
          "categories": [
           {
            "name": "W",
            "count": 2
           },
           {
            "name": "WNW",
            "count": 1
           },
           {
            "name": "2 others",
            "count": 2
           }
          ]
         }
        },
        {
         "name": "WindDir9am",
         "dtype": "object",
         "stats": {
          "unique_count": 4,
          "nan_count": 0,
          "categories": [
           {
            "name": "W",
            "count": 2
           },
           {
            "name": "NNW",
            "count": 1
           },
           {
            "name": "2 others",
            "count": 2
           }
          ]
         }
        },
        {
         "name": "WindDir3pm",
         "dtype": "object",
         "stats": {
          "unique_count": 4,
          "nan_count": 0,
          "categories": [
           {
            "name": "WSW",
            "count": 2
           },
           {
            "name": "WNW",
            "count": 1
           },
           {
            "name": "2 others",
            "count": 2
           }
          ]
         }
        },
        {
         "name": "RainToday",
         "dtype": "object",
         "stats": {
          "unique_count": 1,
          "nan_count": 0,
          "categories": [
           {
            "name": "No",
            "count": 5
           }
          ]
         }
        },
        {
         "name": "RainTomorrow",
         "dtype": "object",
         "stats": {
          "unique_count": 1,
          "nan_count": 0,
          "categories": [
           {
            "name": "No",
            "count": 5
           }
          ]
         }
        },
        {
         "name": "_deepnote_index_column",
         "dtype": "int64"
        }
       ],
       "rows": [
        {
         "Date": "2008-12-01",
         "Location": "Albury",
         "WindGustDir": "W",
         "WindDir9am": "W",
         "WindDir3pm": "WNW",
         "RainToday": "No",
         "RainTomorrow": "No",
         "_deepnote_index_column": 0
        },
        {
         "Date": "2008-12-02",
         "Location": "Albury",
         "WindGustDir": "WNW",
         "WindDir9am": "NNW",
         "WindDir3pm": "WSW",
         "RainToday": "No",
         "RainTomorrow": "No",
         "_deepnote_index_column": 1
        },
        {
         "Date": "2008-12-03",
         "Location": "Albury",
         "WindGustDir": "WSW",
         "WindDir9am": "W",
         "WindDir3pm": "WSW",
         "RainToday": "No",
         "RainTomorrow": "No",
         "_deepnote_index_column": 2
        },
        {
         "Date": "2008-12-04",
         "Location": "Albury",
         "WindGustDir": "NE",
         "WindDir9am": "SE",
         "WindDir3pm": "E",
         "RainToday": "No",
         "RainTomorrow": "No",
         "_deepnote_index_column": 3
        },
        {
         "Date": "2008-12-05",
         "Location": "Albury",
         "WindGustDir": "W",
         "WindDir9am": "ENE",
         "WindDir3pm": "NW",
         "RainToday": "No",
         "RainTomorrow": "No",
         "_deepnote_index_column": 4
        }
       ]
      },
      "text/plain": "         Date Location WindGustDir WindDir9am WindDir3pm RainToday  \\\n0  2008-12-01   Albury           W          W        WNW        No   \n1  2008-12-02   Albury         WNW        NNW        WSW        No   \n2  2008-12-03   Albury         WSW          W        WSW        No   \n3  2008-12-04   Albury          NE         SE          E        No   \n4  2008-12-05   Albury           W        ENE         NW        No   \n\n  RainTomorrow  \n0           No  \n1           No  \n2           No  \n3           No  \n4           No  ",
      "text/html": "<div>\n<style scoped>\n    .dataframe tbody tr th:only-of-type {\n        vertical-align: middle;\n    }\n\n    .dataframe tbody tr th {\n        vertical-align: top;\n    }\n\n    .dataframe thead th {\n        text-align: right;\n    }\n</style>\n<table border=\"1\" class=\"dataframe\">\n  <thead>\n    <tr style=\"text-align: right;\">\n      <th></th>\n      <th>Date</th>\n      <th>Location</th>\n      <th>WindGustDir</th>\n      <th>WindDir9am</th>\n      <th>WindDir3pm</th>\n      <th>RainToday</th>\n      <th>RainTomorrow</th>\n    </tr>\n  </thead>\n  <tbody>\n    <tr>\n      <th>0</th>\n      <td>2008-12-01</td>\n      <td>Albury</td>\n      <td>W</td>\n      <td>W</td>\n      <td>WNW</td>\n      <td>No</td>\n      <td>No</td>\n    </tr>\n    <tr>\n      <th>1</th>\n      <td>2008-12-02</td>\n      <td>Albury</td>\n      <td>WNW</td>\n      <td>NNW</td>\n      <td>WSW</td>\n      <td>No</td>\n      <td>No</td>\n    </tr>\n    <tr>\n      <th>2</th>\n      <td>2008-12-03</td>\n      <td>Albury</td>\n      <td>WSW</td>\n      <td>W</td>\n      <td>WSW</td>\n      <td>No</td>\n      <td>No</td>\n    </tr>\n    <tr>\n      <th>3</th>\n      <td>2008-12-04</td>\n      <td>Albury</td>\n      <td>NE</td>\n      <td>SE</td>\n      <td>E</td>\n      <td>No</td>\n      <td>No</td>\n    </tr>\n    <tr>\n      <th>4</th>\n      <td>2008-12-05</td>\n      <td>Albury</td>\n      <td>W</td>\n      <td>ENE</td>\n      <td>NW</td>\n      <td>No</td>\n      <td>No</td>\n    </tr>\n  </tbody>\n</table>\n</div>"
     },
     "metadata": {}
    }
   ]
  },
  {
   "cell_type": "code",
   "metadata": {
    "cell_id": "b4a1b7dc06ee46c49203eb624b6e0736",
    "tags": [],
    "deepnote_to_be_reexecuted": false,
    "source_hash": "aa1a2ab7",
    "execution_start": 1649251110439,
    "execution_millis": 15,
    "deepnote_cell_type": "code",
    "deepnote_cell_height": 253.65625,
    "deepnote_output_heights": [
     155.5
    ]
   },
   "source": "rain[categorical].isnull().sum()",
   "execution_count": 23,
   "outputs": [
    {
     "output_type": "execute_result",
     "execution_count": 23,
     "data": {
      "text/plain": "Date                0\nLocation            0\nWindGustDir      9330\nWindDir9am      10013\nWindDir3pm       3778\nRainToday        1406\nRainTomorrow        0\ndtype: int64"
     },
     "metadata": {}
    }
   ]
  },
  {
   "cell_type": "code",
   "metadata": {
    "cell_id": "0fe2699da91e45129913238f8381d1ed",
    "tags": [],
    "deepnote_to_be_reexecuted": false,
    "source_hash": "7dff818a",
    "execution_start": 1649251110456,
    "execution_millis": 448,
    "deepnote_cell_type": "code",
    "deepnote_cell_height": 253.65625,
    "deepnote_output_heights": [
     155.5
    ]
   },
   "source": "rain[categorical].nunique()",
   "execution_count": 24,
   "outputs": [
    {
     "output_type": "execute_result",
     "execution_count": 24,
     "data": {
      "text/plain": "Date            3436\nLocation          49\nWindGustDir       16\nWindDir9am        16\nWindDir3pm        16\nRainToday          2\nRainTomorrow       2\ndtype: int64"
     },
     "metadata": {}
    }
   ]
  },
  {
   "cell_type": "markdown",
   "source": "La variable Date tiene gran cantidad de registros unicos, por lo que es necesario realizar un preprocesamiento.",
   "metadata": {
    "cell_id": "84b25e4b01f74fe59e1170854f5466a1",
    "tags": [],
    "is_collapsed": false,
    "deepnote_cell_type": "text-cell-p"
   }
  },
  {
   "cell_type": "code",
   "metadata": {
    "cell_id": "b9bdf7c7a50b46eb819c7d3adfbc502e",
    "tags": [],
    "deepnote_to_be_reexecuted": false,
    "source_hash": "5301968d",
    "execution_start": 1649251110634,
    "execution_millis": 0,
    "deepnote_cell_type": "code",
    "deepnote_cell_height": 81.65625
   },
   "source": "rain['Date'] = pd.to_datetime(rain['Date'])",
   "execution_count": 25,
   "outputs": []
  },
  {
   "cell_type": "code",
   "metadata": {
    "cell_id": "929a666072884178be865df61714c1e0",
    "tags": [],
    "deepnote_to_be_reexecuted": false,
    "source_hash": "53f5ac0b",
    "execution_start": 1649251110635,
    "execution_millis": 279,
    "deepnote_cell_type": "code",
    "deepnote_cell_height": 504.328125
   },
   "source": "rain['Year'] = rain['Date'].dt.year\nrain['Month'] = rain['Date'].dt.month\nrain['Day'] = rain['Date'].dt.day\nrain.drop('Date', axis=1, inplace = True)\n\nfechas = pd.concat([rain['Year'], rain['Month'],rain['Day']], axis=1)\nfechas.head()",
   "execution_count": 26,
   "outputs": [
    {
     "output_type": "execute_result",
     "execution_count": 26,
     "data": {
      "application/vnd.deepnote.dataframe.v3+json": {
       "column_count": 3,
       "row_count": 5,
       "columns": [
        {
         "name": "Year",
         "dtype": "int64",
         "stats": {
          "unique_count": 1,
          "nan_count": 0,
          "min": "2008",
          "max": "2008",
          "histogram": [
           {
            "bin_start": 2007.5,
            "bin_end": 2007.6,
            "count": 0
           },
           {
            "bin_start": 2007.6,
            "bin_end": 2007.7,
            "count": 0
           },
           {
            "bin_start": 2007.7,
            "bin_end": 2007.8,
            "count": 0
           },
           {
            "bin_start": 2007.8,
            "bin_end": 2007.9,
            "count": 0
           },
           {
            "bin_start": 2007.9,
            "bin_end": 2008,
            "count": 0
           },
           {
            "bin_start": 2008,
            "bin_end": 2008.1,
            "count": 5
           },
           {
            "bin_start": 2008.1,
            "bin_end": 2008.2,
            "count": 0
           },
           {
            "bin_start": 2008.2,
            "bin_end": 2008.3,
            "count": 0
           },
           {
            "bin_start": 2008.3,
            "bin_end": 2008.4,
            "count": 0
           },
           {
            "bin_start": 2008.4,
            "bin_end": 2008.5,
            "count": 0
           }
          ]
         }
        },
        {
         "name": "Month",
         "dtype": "int64",
         "stats": {
          "unique_count": 1,
          "nan_count": 0,
          "min": "12",
          "max": "12",
          "histogram": [
           {
            "bin_start": 11.5,
            "bin_end": 11.6,
            "count": 0
           },
           {
            "bin_start": 11.6,
            "bin_end": 11.7,
            "count": 0
           },
           {
            "bin_start": 11.7,
            "bin_end": 11.8,
            "count": 0
           },
           {
            "bin_start": 11.8,
            "bin_end": 11.9,
            "count": 0
           },
           {
            "bin_start": 11.9,
            "bin_end": 12,
            "count": 0
           },
           {
            "bin_start": 12,
            "bin_end": 12.1,
            "count": 5
           },
           {
            "bin_start": 12.1,
            "bin_end": 12.2,
            "count": 0
           },
           {
            "bin_start": 12.2,
            "bin_end": 12.3,
            "count": 0
           },
           {
            "bin_start": 12.3,
            "bin_end": 12.4,
            "count": 0
           },
           {
            "bin_start": 12.4,
            "bin_end": 12.5,
            "count": 0
           }
          ]
         }
        },
        {
         "name": "Day",
         "dtype": "int64",
         "stats": {
          "unique_count": 5,
          "nan_count": 0,
          "min": "1",
          "max": "5",
          "histogram": [
           {
            "bin_start": 1,
            "bin_end": 1.4,
            "count": 1
           },
           {
            "bin_start": 1.4,
            "bin_end": 1.8,
            "count": 0
           },
           {
            "bin_start": 1.8,
            "bin_end": 2.2,
            "count": 1
           },
           {
            "bin_start": 2.2,
            "bin_end": 2.6,
            "count": 0
           },
           {
            "bin_start": 2.6,
            "bin_end": 3,
            "count": 0
           },
           {
            "bin_start": 3,
            "bin_end": 3.4000000000000004,
            "count": 1
           },
           {
            "bin_start": 3.4000000000000004,
            "bin_end": 3.8000000000000003,
            "count": 0
           },
           {
            "bin_start": 3.8000000000000003,
            "bin_end": 4.2,
            "count": 1
           },
           {
            "bin_start": 4.2,
            "bin_end": 4.6,
            "count": 0
           },
           {
            "bin_start": 4.6,
            "bin_end": 5,
            "count": 1
           }
          ]
         }
        },
        {
         "name": "_deepnote_index_column",
         "dtype": "int64"
        }
       ],
       "rows": [
        {
         "Year": 2008,
         "Month": 12,
         "Day": 1,
         "_deepnote_index_column": 0
        },
        {
         "Year": 2008,
         "Month": 12,
         "Day": 2,
         "_deepnote_index_column": 1
        },
        {
         "Year": 2008,
         "Month": 12,
         "Day": 3,
         "_deepnote_index_column": 2
        },
        {
         "Year": 2008,
         "Month": 12,
         "Day": 4,
         "_deepnote_index_column": 3
        },
        {
         "Year": 2008,
         "Month": 12,
         "Day": 5,
         "_deepnote_index_column": 4
        }
       ]
      },
      "text/plain": "   Year  Month  Day\n0  2008     12    1\n1  2008     12    2\n2  2008     12    3\n3  2008     12    4\n4  2008     12    5",
      "text/html": "<div>\n<style scoped>\n    .dataframe tbody tr th:only-of-type {\n        vertical-align: middle;\n    }\n\n    .dataframe tbody tr th {\n        vertical-align: top;\n    }\n\n    .dataframe thead th {\n        text-align: right;\n    }\n</style>\n<table border=\"1\" class=\"dataframe\">\n  <thead>\n    <tr style=\"text-align: right;\">\n      <th></th>\n      <th>Year</th>\n      <th>Month</th>\n      <th>Day</th>\n    </tr>\n  </thead>\n  <tbody>\n    <tr>\n      <th>0</th>\n      <td>2008</td>\n      <td>12</td>\n      <td>1</td>\n    </tr>\n    <tr>\n      <th>1</th>\n      <td>2008</td>\n      <td>12</td>\n      <td>2</td>\n    </tr>\n    <tr>\n      <th>2</th>\n      <td>2008</td>\n      <td>12</td>\n      <td>3</td>\n    </tr>\n    <tr>\n      <th>3</th>\n      <td>2008</td>\n      <td>12</td>\n      <td>4</td>\n    </tr>\n    <tr>\n      <th>4</th>\n      <td>2008</td>\n      <td>12</td>\n      <td>5</td>\n    </tr>\n  </tbody>\n</table>\n</div>"
     },
     "metadata": {}
    }
   ]
  },
  {
   "cell_type": "code",
   "metadata": {
    "cell_id": "2d8e4692c6d7442aa19dcd3df3a388ed",
    "tags": [],
    "deepnote_to_be_reexecuted": false,
    "source_hash": "185da008",
    "execution_start": 1649251110727,
    "execution_millis": 189,
    "deepnote_cell_type": "code",
    "deepnote_cell_height": 702.65625
   },
   "source": "rain.info()",
   "execution_count": 27,
   "outputs": [
    {
     "name": "stdout",
     "text": "<class 'pandas.core.frame.DataFrame'>\nInt64Index: 142193 entries, 0 to 145458\nData columns (total 25 columns):\n #   Column         Non-Null Count   Dtype  \n---  ------         --------------   -----  \n 0   Location       142193 non-null  object \n 1   MinTemp        141556 non-null  float64\n 2   MaxTemp        141871 non-null  float64\n 3   Rainfall       140787 non-null  float64\n 4   Evaporation    81350 non-null   float64\n 5   Sunshine       74377 non-null   float64\n 6   WindGustDir    132863 non-null  object \n 7   WindGustSpeed  132923 non-null  float64\n 8   WindDir9am     132180 non-null  object \n 9   WindDir3pm     138415 non-null  object \n 10  WindSpeed9am   140845 non-null  float64\n 11  WindSpeed3pm   139563 non-null  float64\n 12  Humidity9am    140419 non-null  float64\n 13  Humidity3pm    138583 non-null  float64\n 14  Pressure9am    128179 non-null  float64\n 15  Pressure3pm    128212 non-null  float64\n 16  Cloud9am       88536 non-null   float64\n 17  Cloud3pm       85099 non-null   float64\n 18  Temp9am        141289 non-null  float64\n 19  Temp3pm        139467 non-null  float64\n 20  RainToday      140787 non-null  object \n 21  RainTomorrow   142193 non-null  object \n 22  Year           142193 non-null  int64  \n 23  Month          142193 non-null  int64  \n 24  Day            142193 non-null  int64  \ndtypes: float64(16), int64(3), object(6)\nmemory usage: 32.2+ MB\n",
     "output_type": "stream"
    }
   ]
  },
  {
   "cell_type": "code",
   "metadata": {
    "cell_id": "7f7c147925d9400f888fe4ea2c6b68bf",
    "tags": [],
    "deepnote_to_be_reexecuted": false,
    "source_hash": "5fcbf4a7",
    "execution_start": 1649251110751,
    "execution_millis": 165,
    "deepnote_cell_type": "code",
    "deepnote_cell_height": 309.875,
    "deepnote_output_heights": [
     193.875
    ]
   },
   "source": "Ciudades = rain.Location.unique()\nCiudades",
   "execution_count": 28,
   "outputs": [
    {
     "output_type": "execute_result",
     "execution_count": 28,
     "data": {
      "text/plain": "array(['Albury', 'BadgerysCreek', 'Cobar', 'CoffsHarbour', 'Moree',\n       'Newcastle', 'NorahHead', 'NorfolkIsland', 'Penrith', 'Richmond',\n       'Sydney', 'SydneyAirport', 'WaggaWagga', 'Williamtown',\n       'Wollongong', 'Canberra', 'Tuggeranong', 'MountGinini', 'Ballarat',\n       'Bendigo', 'Sale', 'MelbourneAirport', 'Melbourne', 'Mildura',\n       'Nhil', 'Portland', 'Watsonia', 'Dartmoor', 'Brisbane', 'Cairns',\n       'GoldCoast', 'Townsville', 'Adelaide', 'MountGambier', 'Nuriootpa',\n       'Woomera', 'Albany', 'Witchcliffe', 'PearceRAAF', 'PerthAirport',\n       'Perth', 'SalmonGums', 'Walpole', 'Hobart', 'Launceston',\n       'AliceSprings', 'Darwin', 'Katherine', 'Uluru'], dtype=object)"
     },
     "metadata": {}
    }
   ]
  },
  {
   "cell_type": "code",
   "metadata": {
    "cell_id": "4ec0d36e370f4130be96b0949abe949e",
    "tags": [],
    "deepnote_to_be_reexecuted": false,
    "source_hash": "e807d08e",
    "execution_start": 1649251110774,
    "execution_millis": 143,
    "deepnote_cell_type": "code",
    "deepnote_cell_height": 727.65625,
    "deepnote_output_heights": [
     611
    ]
   },
   "source": "rain.Location.value_counts()\n",
   "execution_count": 29,
   "outputs": [
    {
     "output_type": "execute_result",
     "execution_count": 29,
     "data": {
      "text/plain": "Canberra            3418\nSydney              3337\nPerth               3193\nDarwin              3192\nHobart              3188\nBrisbane            3161\nAdelaide            3090\nBendigo             3034\nTownsville          3033\nAliceSprings        3031\nMountGambier        3030\nBallarat            3028\nLaunceston          3028\nAlbany              3016\nAlbury              3011\nPerthAirport        3009\nMelbourneAirport    3009\nMildura             3007\nSydneyAirport       3005\nNuriootpa           3002\nSale                3000\nWatsonia            2999\nTuggeranong         2998\nPortland            2996\nWoomera             2990\nCobar               2988\nCairns              2988\nWollongong          2983\nGoldCoast           2980\nWaggaWagga          2976\nNorfolkIsland       2964\nPenrith             2964\nSalmonGums          2955\nNewcastle           2955\nCoffsHarbour        2953\nWitchcliffe         2952\nRichmond            2951\nDartmoor            2943\nNorahHead           2929\nBadgerysCreek       2928\nMountGinini         2907\nMoree               2854\nWalpole             2819\nPearceRAAF          2762\nWilliamtown         2553\nMelbourne           2435\nNhil                1569\nKatherine           1559\nUluru               1521\nName: Location, dtype: int64"
     },
     "metadata": {}
    }
   ]
  },
  {
   "cell_type": "markdown",
   "source": "Es necesario convertir variables categoricas en numericas, esto se realiza con el método One Hot Encoding.",
   "metadata": {
    "cell_id": "d87f6d37a543478082155e8c63839f2d",
    "tags": [],
    "is_collapsed": false,
    "deepnote_cell_type": "text-cell-p"
   }
  },
  {
   "cell_type": "code",
   "metadata": {
    "cell_id": "8b198e2ca19940849c18593ccc7c0544",
    "tags": [],
    "deepnote_to_be_reexecuted": false,
    "source_hash": "f0bfa17b",
    "execution_start": 1649251110826,
    "execution_millis": 92,
    "deepnote_cell_type": "code",
    "deepnote_cell_height": 419
   },
   "source": "pd.get_dummies(rain.Location, drop_first=True).head()",
   "execution_count": 30,
   "outputs": [
    {
     "output_type": "execute_result",
     "execution_count": 30,
     "data": {
      "application/vnd.deepnote.dataframe.v3+json": {
       "column_count": 48,
       "row_count": 5,
       "columns": [
        {
         "name": "Albany",
         "dtype": "uint8",
         "stats": {
          "unique_count": 1,
          "nan_count": 0,
          "min": "0",
          "max": "0",
          "histogram": [
           {
            "bin_start": -0.5,
            "bin_end": -0.4,
            "count": 0
           },
           {
            "bin_start": -0.4,
            "bin_end": -0.3,
            "count": 0
           },
           {
            "bin_start": -0.3,
            "bin_end": -0.19999999999999996,
            "count": 0
           },
           {
            "bin_start": -0.19999999999999996,
            "bin_end": -0.09999999999999998,
            "count": 0
           },
           {
            "bin_start": -0.09999999999999998,
            "bin_end": 0,
            "count": 0
           },
           {
            "bin_start": 0,
            "bin_end": 0.10000000000000009,
            "count": 5
           },
           {
            "bin_start": 0.10000000000000009,
            "bin_end": 0.20000000000000007,
            "count": 0
           },
           {
            "bin_start": 0.20000000000000007,
            "bin_end": 0.30000000000000004,
            "count": 0
           },
           {
            "bin_start": 0.30000000000000004,
            "bin_end": 0.4,
            "count": 0
           },
           {
            "bin_start": 0.4,
            "bin_end": 0.5,
            "count": 0
           }
          ]
         }
        },
        {
         "name": "Albury",
         "dtype": "uint8",
         "stats": {
          "unique_count": 1,
          "nan_count": 0,
          "min": "1",
          "max": "1",
          "histogram": [
           {
            "bin_start": 0.5,
            "bin_end": 0.6,
            "count": 0
           },
           {
            "bin_start": 0.6,
            "bin_end": 0.7,
            "count": 0
           },
           {
            "bin_start": 0.7,
            "bin_end": 0.8,
            "count": 0
           },
           {
            "bin_start": 0.8,
            "bin_end": 0.9,
            "count": 0
           },
           {
            "bin_start": 0.9,
            "bin_end": 1,
            "count": 0
           },
           {
            "bin_start": 1,
            "bin_end": 1.1,
            "count": 5
           },
           {
            "bin_start": 1.1,
            "bin_end": 1.2000000000000002,
            "count": 0
           },
           {
            "bin_start": 1.2000000000000002,
            "bin_end": 1.3,
            "count": 0
           },
           {
            "bin_start": 1.3,
            "bin_end": 1.4,
            "count": 0
           },
           {
            "bin_start": 1.4,
            "bin_end": 1.5,
            "count": 0
           }
          ]
         }
        },
        {
         "name": "AliceSprings",
         "dtype": "uint8",
         "stats": {
          "unique_count": 1,
          "nan_count": 0,
          "min": "0",
          "max": "0",
          "histogram": [
           {
            "bin_start": -0.5,
            "bin_end": -0.4,
            "count": 0
           },
           {
            "bin_start": -0.4,
            "bin_end": -0.3,
            "count": 0
           },
           {
            "bin_start": -0.3,
            "bin_end": -0.19999999999999996,
            "count": 0
           },
           {
            "bin_start": -0.19999999999999996,
            "bin_end": -0.09999999999999998,
            "count": 0
           },
           {
            "bin_start": -0.09999999999999998,
            "bin_end": 0,
            "count": 0
           },
           {
            "bin_start": 0,
            "bin_end": 0.10000000000000009,
            "count": 5
           },
           {
            "bin_start": 0.10000000000000009,
            "bin_end": 0.20000000000000007,
            "count": 0
           },
           {
            "bin_start": 0.20000000000000007,
            "bin_end": 0.30000000000000004,
            "count": 0
           },
           {
            "bin_start": 0.30000000000000004,
            "bin_end": 0.4,
            "count": 0
           },
           {
            "bin_start": 0.4,
            "bin_end": 0.5,
            "count": 0
           }
          ]
         }
        },
        {
         "name": "BadgerysCreek",
         "dtype": "uint8",
         "stats": {
          "unique_count": 1,
          "nan_count": 0,
          "min": "0",
          "max": "0",
          "histogram": [
           {
            "bin_start": -0.5,
            "bin_end": -0.4,
            "count": 0
           },
           {
            "bin_start": -0.4,
            "bin_end": -0.3,
            "count": 0
           },
           {
            "bin_start": -0.3,
            "bin_end": -0.19999999999999996,
            "count": 0
           },
           {
            "bin_start": -0.19999999999999996,
            "bin_end": -0.09999999999999998,
            "count": 0
           },
           {
            "bin_start": -0.09999999999999998,
            "bin_end": 0,
            "count": 0
           },
           {
            "bin_start": 0,
            "bin_end": 0.10000000000000009,
            "count": 5
           },
           {
            "bin_start": 0.10000000000000009,
            "bin_end": 0.20000000000000007,
            "count": 0
           },
           {
            "bin_start": 0.20000000000000007,
            "bin_end": 0.30000000000000004,
            "count": 0
           },
           {
            "bin_start": 0.30000000000000004,
            "bin_end": 0.4,
            "count": 0
           },
           {
            "bin_start": 0.4,
            "bin_end": 0.5,
            "count": 0
           }
          ]
         }
        },
        {
         "name": "Ballarat",
         "dtype": "uint8",
         "stats": {
          "unique_count": 1,
          "nan_count": 0,
          "min": "0",
          "max": "0",
          "histogram": [
           {
            "bin_start": -0.5,
            "bin_end": -0.4,
            "count": 0
           },
           {
            "bin_start": -0.4,
            "bin_end": -0.3,
            "count": 0
           },
           {
            "bin_start": -0.3,
            "bin_end": -0.19999999999999996,
            "count": 0
           },
           {
            "bin_start": -0.19999999999999996,
            "bin_end": -0.09999999999999998,
            "count": 0
           },
           {
            "bin_start": -0.09999999999999998,
            "bin_end": 0,
            "count": 0
           },
           {
            "bin_start": 0,
            "bin_end": 0.10000000000000009,
            "count": 5
           },
           {
            "bin_start": 0.10000000000000009,
            "bin_end": 0.20000000000000007,
            "count": 0
           },
           {
            "bin_start": 0.20000000000000007,
            "bin_end": 0.30000000000000004,
            "count": 0
           },
           {
            "bin_start": 0.30000000000000004,
            "bin_end": 0.4,
            "count": 0
           },
           {
            "bin_start": 0.4,
            "bin_end": 0.5,
            "count": 0
           }
          ]
         }
        },
        {
         "name": "Bendigo",
         "dtype": "uint8",
         "stats": {
          "unique_count": 1,
          "nan_count": 0,
          "min": "0",
          "max": "0",
          "histogram": [
           {
            "bin_start": -0.5,
            "bin_end": -0.4,
            "count": 0
           },
           {
            "bin_start": -0.4,
            "bin_end": -0.3,
            "count": 0
           },
           {
            "bin_start": -0.3,
            "bin_end": -0.19999999999999996,
            "count": 0
           },
           {
            "bin_start": -0.19999999999999996,
            "bin_end": -0.09999999999999998,
            "count": 0
           },
           {
            "bin_start": -0.09999999999999998,
            "bin_end": 0,
            "count": 0
           },
           {
            "bin_start": 0,
            "bin_end": 0.10000000000000009,
            "count": 5
           },
           {
            "bin_start": 0.10000000000000009,
            "bin_end": 0.20000000000000007,
            "count": 0
           },
           {
            "bin_start": 0.20000000000000007,
            "bin_end": 0.30000000000000004,
            "count": 0
           },
           {
            "bin_start": 0.30000000000000004,
            "bin_end": 0.4,
            "count": 0
           },
           {
            "bin_start": 0.4,
            "bin_end": 0.5,
            "count": 0
           }
          ]
         }
        },
        {
         "name": "Brisbane",
         "dtype": "uint8",
         "stats": {
          "unique_count": 1,
          "nan_count": 0,
          "min": "0",
          "max": "0",
          "histogram": [
           {
            "bin_start": -0.5,
            "bin_end": -0.4,
            "count": 0
           },
           {
            "bin_start": -0.4,
            "bin_end": -0.3,
            "count": 0
           },
           {
            "bin_start": -0.3,
            "bin_end": -0.19999999999999996,
            "count": 0
           },
           {
            "bin_start": -0.19999999999999996,
            "bin_end": -0.09999999999999998,
            "count": 0
           },
           {
            "bin_start": -0.09999999999999998,
            "bin_end": 0,
            "count": 0
           },
           {
            "bin_start": 0,
            "bin_end": 0.10000000000000009,
            "count": 5
           },
           {
            "bin_start": 0.10000000000000009,
            "bin_end": 0.20000000000000007,
            "count": 0
           },
           {
            "bin_start": 0.20000000000000007,
            "bin_end": 0.30000000000000004,
            "count": 0
           },
           {
            "bin_start": 0.30000000000000004,
            "bin_end": 0.4,
            "count": 0
           },
           {
            "bin_start": 0.4,
            "bin_end": 0.5,
            "count": 0
           }
          ]
         }
        },
        {
         "name": "Cairns",
         "dtype": "uint8",
         "stats": {
          "unique_count": 1,
          "nan_count": 0,
          "min": "0",
          "max": "0",
          "histogram": [
           {
            "bin_start": -0.5,
            "bin_end": -0.4,
            "count": 0
           },
           {
            "bin_start": -0.4,
            "bin_end": -0.3,
            "count": 0
           },
           {
            "bin_start": -0.3,
            "bin_end": -0.19999999999999996,
            "count": 0
           },
           {
            "bin_start": -0.19999999999999996,
            "bin_end": -0.09999999999999998,
            "count": 0
           },
           {
            "bin_start": -0.09999999999999998,
            "bin_end": 0,
            "count": 0
           },
           {
            "bin_start": 0,
            "bin_end": 0.10000000000000009,
            "count": 5
           },
           {
            "bin_start": 0.10000000000000009,
            "bin_end": 0.20000000000000007,
            "count": 0
           },
           {
            "bin_start": 0.20000000000000007,
            "bin_end": 0.30000000000000004,
            "count": 0
           },
           {
            "bin_start": 0.30000000000000004,
            "bin_end": 0.4,
            "count": 0
           },
           {
            "bin_start": 0.4,
            "bin_end": 0.5,
            "count": 0
           }
          ]
         }
        },
        {
         "name": "Canberra",
         "dtype": "uint8",
         "stats": {
          "unique_count": 1,
          "nan_count": 0,
          "min": "0",
          "max": "0",
          "histogram": [
           {
            "bin_start": -0.5,
            "bin_end": -0.4,
            "count": 0
           },
           {
            "bin_start": -0.4,
            "bin_end": -0.3,
            "count": 0
           },
           {
            "bin_start": -0.3,
            "bin_end": -0.19999999999999996,
            "count": 0
           },
           {
            "bin_start": -0.19999999999999996,
            "bin_end": -0.09999999999999998,
            "count": 0
           },
           {
            "bin_start": -0.09999999999999998,
            "bin_end": 0,
            "count": 0
           },
           {
            "bin_start": 0,
            "bin_end": 0.10000000000000009,
            "count": 5
           },
           {
            "bin_start": 0.10000000000000009,
            "bin_end": 0.20000000000000007,
            "count": 0
           },
           {
            "bin_start": 0.20000000000000007,
            "bin_end": 0.30000000000000004,
            "count": 0
           },
           {
            "bin_start": 0.30000000000000004,
            "bin_end": 0.4,
            "count": 0
           },
           {
            "bin_start": 0.4,
            "bin_end": 0.5,
            "count": 0
           }
          ]
         }
        },
        {
         "name": "Cobar",
         "dtype": "uint8",
         "stats": {
          "unique_count": 1,
          "nan_count": 0,
          "min": "0",
          "max": "0",
          "histogram": [
           {
            "bin_start": -0.5,
            "bin_end": -0.4,
            "count": 0
           },
           {
            "bin_start": -0.4,
            "bin_end": -0.3,
            "count": 0
           },
           {
            "bin_start": -0.3,
            "bin_end": -0.19999999999999996,
            "count": 0
           },
           {
            "bin_start": -0.19999999999999996,
            "bin_end": -0.09999999999999998,
            "count": 0
           },
           {
            "bin_start": -0.09999999999999998,
            "bin_end": 0,
            "count": 0
           },
           {
            "bin_start": 0,
            "bin_end": 0.10000000000000009,
            "count": 5
           },
           {
            "bin_start": 0.10000000000000009,
            "bin_end": 0.20000000000000007,
            "count": 0
           },
           {
            "bin_start": 0.20000000000000007,
            "bin_end": 0.30000000000000004,
            "count": 0
           },
           {
            "bin_start": 0.30000000000000004,
            "bin_end": 0.4,
            "count": 0
           },
           {
            "bin_start": 0.4,
            "bin_end": 0.5,
            "count": 0
           }
          ]
         }
        },
        {
         "name": "CoffsHarbour",
         "dtype": "uint8",
         "stats": {
          "unique_count": 1,
          "nan_count": 0,
          "min": "0",
          "max": "0",
          "histogram": [
           {
            "bin_start": -0.5,
            "bin_end": -0.4,
            "count": 0
           },
           {
            "bin_start": -0.4,
            "bin_end": -0.3,
            "count": 0
           },
           {
            "bin_start": -0.3,
            "bin_end": -0.19999999999999996,
            "count": 0
           },
           {
            "bin_start": -0.19999999999999996,
            "bin_end": -0.09999999999999998,
            "count": 0
           },
           {
            "bin_start": -0.09999999999999998,
            "bin_end": 0,
            "count": 0
           },
           {
            "bin_start": 0,
            "bin_end": 0.10000000000000009,
            "count": 5
           },
           {
            "bin_start": 0.10000000000000009,
            "bin_end": 0.20000000000000007,
            "count": 0
           },
           {
            "bin_start": 0.20000000000000007,
            "bin_end": 0.30000000000000004,
            "count": 0
           },
           {
            "bin_start": 0.30000000000000004,
            "bin_end": 0.4,
            "count": 0
           },
           {
            "bin_start": 0.4,
            "bin_end": 0.5,
            "count": 0
           }
          ]
         }
        },
        {
         "name": "Dartmoor",
         "dtype": "uint8",
         "stats": {
          "unique_count": 1,
          "nan_count": 0,
          "min": "0",
          "max": "0",
          "histogram": [
           {
            "bin_start": -0.5,
            "bin_end": -0.4,
            "count": 0
           },
           {
            "bin_start": -0.4,
            "bin_end": -0.3,
            "count": 0
           },
           {
            "bin_start": -0.3,
            "bin_end": -0.19999999999999996,
            "count": 0
           },
           {
            "bin_start": -0.19999999999999996,
            "bin_end": -0.09999999999999998,
            "count": 0
           },
           {
            "bin_start": -0.09999999999999998,
            "bin_end": 0,
            "count": 0
           },
           {
            "bin_start": 0,
            "bin_end": 0.10000000000000009,
            "count": 5
           },
           {
            "bin_start": 0.10000000000000009,
            "bin_end": 0.20000000000000007,
            "count": 0
           },
           {
            "bin_start": 0.20000000000000007,
            "bin_end": 0.30000000000000004,
            "count": 0
           },
           {
            "bin_start": 0.30000000000000004,
            "bin_end": 0.4,
            "count": 0
           },
           {
            "bin_start": 0.4,
            "bin_end": 0.5,
            "count": 0
           }
          ]
         }
        },
        {
         "name": "Darwin",
         "dtype": "uint8",
         "stats": {
          "unique_count": 1,
          "nan_count": 0,
          "min": "0",
          "max": "0",
          "histogram": [
           {
            "bin_start": -0.5,
            "bin_end": -0.4,
            "count": 0
           },
           {
            "bin_start": -0.4,
            "bin_end": -0.3,
            "count": 0
           },
           {
            "bin_start": -0.3,
            "bin_end": -0.19999999999999996,
            "count": 0
           },
           {
            "bin_start": -0.19999999999999996,
            "bin_end": -0.09999999999999998,
            "count": 0
           },
           {
            "bin_start": -0.09999999999999998,
            "bin_end": 0,
            "count": 0
           },
           {
            "bin_start": 0,
            "bin_end": 0.10000000000000009,
            "count": 5
           },
           {
            "bin_start": 0.10000000000000009,
            "bin_end": 0.20000000000000007,
            "count": 0
           },
           {
            "bin_start": 0.20000000000000007,
            "bin_end": 0.30000000000000004,
            "count": 0
           },
           {
            "bin_start": 0.30000000000000004,
            "bin_end": 0.4,
            "count": 0
           },
           {
            "bin_start": 0.4,
            "bin_end": 0.5,
            "count": 0
           }
          ]
         }
        },
        {
         "name": "GoldCoast",
         "dtype": "uint8",
         "stats": {
          "unique_count": 1,
          "nan_count": 0,
          "min": "0",
          "max": "0",
          "histogram": [
           {
            "bin_start": -0.5,
            "bin_end": -0.4,
            "count": 0
           },
           {
            "bin_start": -0.4,
            "bin_end": -0.3,
            "count": 0
           },
           {
            "bin_start": -0.3,
            "bin_end": -0.19999999999999996,
            "count": 0
           },
           {
            "bin_start": -0.19999999999999996,
            "bin_end": -0.09999999999999998,
            "count": 0
           },
           {
            "bin_start": -0.09999999999999998,
            "bin_end": 0,
            "count": 0
           },
           {
            "bin_start": 0,
            "bin_end": 0.10000000000000009,
            "count": 5
           },
           {
            "bin_start": 0.10000000000000009,
            "bin_end": 0.20000000000000007,
            "count": 0
           },
           {
            "bin_start": 0.20000000000000007,
            "bin_end": 0.30000000000000004,
            "count": 0
           },
           {
            "bin_start": 0.30000000000000004,
            "bin_end": 0.4,
            "count": 0
           },
           {
            "bin_start": 0.4,
            "bin_end": 0.5,
            "count": 0
           }
          ]
         }
        },
        {
         "name": "Hobart",
         "dtype": "uint8",
         "stats": {
          "unique_count": 1,
          "nan_count": 0,
          "min": "0",
          "max": "0",
          "histogram": [
           {
            "bin_start": -0.5,
            "bin_end": -0.4,
            "count": 0
           },
           {
            "bin_start": -0.4,
            "bin_end": -0.3,
            "count": 0
           },
           {
            "bin_start": -0.3,
            "bin_end": -0.19999999999999996,
            "count": 0
           },
           {
            "bin_start": -0.19999999999999996,
            "bin_end": -0.09999999999999998,
            "count": 0
           },
           {
            "bin_start": -0.09999999999999998,
            "bin_end": 0,
            "count": 0
           },
           {
            "bin_start": 0,
            "bin_end": 0.10000000000000009,
            "count": 5
           },
           {
            "bin_start": 0.10000000000000009,
            "bin_end": 0.20000000000000007,
            "count": 0
           },
           {
            "bin_start": 0.20000000000000007,
            "bin_end": 0.30000000000000004,
            "count": 0
           },
           {
            "bin_start": 0.30000000000000004,
            "bin_end": 0.4,
            "count": 0
           },
           {
            "bin_start": 0.4,
            "bin_end": 0.5,
            "count": 0
           }
          ]
         }
        },
        {
         "name": "Katherine",
         "dtype": "uint8",
         "stats": {
          "unique_count": 1,
          "nan_count": 0,
          "min": "0",
          "max": "0",
          "histogram": [
           {
            "bin_start": -0.5,
            "bin_end": -0.4,
            "count": 0
           },
           {
            "bin_start": -0.4,
            "bin_end": -0.3,
            "count": 0
           },
           {
            "bin_start": -0.3,
            "bin_end": -0.19999999999999996,
            "count": 0
           },
           {
            "bin_start": -0.19999999999999996,
            "bin_end": -0.09999999999999998,
            "count": 0
           },
           {
            "bin_start": -0.09999999999999998,
            "bin_end": 0,
            "count": 0
           },
           {
            "bin_start": 0,
            "bin_end": 0.10000000000000009,
            "count": 5
           },
           {
            "bin_start": 0.10000000000000009,
            "bin_end": 0.20000000000000007,
            "count": 0
           },
           {
            "bin_start": 0.20000000000000007,
            "bin_end": 0.30000000000000004,
            "count": 0
           },
           {
            "bin_start": 0.30000000000000004,
            "bin_end": 0.4,
            "count": 0
           },
           {
            "bin_start": 0.4,
            "bin_end": 0.5,
            "count": 0
           }
          ]
         }
        },
        {
         "name": "Launceston",
         "dtype": "uint8",
         "stats": {
          "unique_count": 1,
          "nan_count": 0,
          "min": "0",
          "max": "0",
          "histogram": [
           {
            "bin_start": -0.5,
            "bin_end": -0.4,
            "count": 0
           },
           {
            "bin_start": -0.4,
            "bin_end": -0.3,
            "count": 0
           },
           {
            "bin_start": -0.3,
            "bin_end": -0.19999999999999996,
            "count": 0
           },
           {
            "bin_start": -0.19999999999999996,
            "bin_end": -0.09999999999999998,
            "count": 0
           },
           {
            "bin_start": -0.09999999999999998,
            "bin_end": 0,
            "count": 0
           },
           {
            "bin_start": 0,
            "bin_end": 0.10000000000000009,
            "count": 5
           },
           {
            "bin_start": 0.10000000000000009,
            "bin_end": 0.20000000000000007,
            "count": 0
           },
           {
            "bin_start": 0.20000000000000007,
            "bin_end": 0.30000000000000004,
            "count": 0
           },
           {
            "bin_start": 0.30000000000000004,
            "bin_end": 0.4,
            "count": 0
           },
           {
            "bin_start": 0.4,
            "bin_end": 0.5,
            "count": 0
           }
          ]
         }
        },
        {
         "name": "Melbourne",
         "dtype": "uint8",
         "stats": {
          "unique_count": 1,
          "nan_count": 0,
          "min": "0",
          "max": "0",
          "histogram": [
           {
            "bin_start": -0.5,
            "bin_end": -0.4,
            "count": 0
           },
           {
            "bin_start": -0.4,
            "bin_end": -0.3,
            "count": 0
           },
           {
            "bin_start": -0.3,
            "bin_end": -0.19999999999999996,
            "count": 0
           },
           {
            "bin_start": -0.19999999999999996,
            "bin_end": -0.09999999999999998,
            "count": 0
           },
           {
            "bin_start": -0.09999999999999998,
            "bin_end": 0,
            "count": 0
           },
           {
            "bin_start": 0,
            "bin_end": 0.10000000000000009,
            "count": 5
           },
           {
            "bin_start": 0.10000000000000009,
            "bin_end": 0.20000000000000007,
            "count": 0
           },
           {
            "bin_start": 0.20000000000000007,
            "bin_end": 0.30000000000000004,
            "count": 0
           },
           {
            "bin_start": 0.30000000000000004,
            "bin_end": 0.4,
            "count": 0
           },
           {
            "bin_start": 0.4,
            "bin_end": 0.5,
            "count": 0
           }
          ]
         }
        },
        {
         "name": "MelbourneAirport",
         "dtype": "uint8",
         "stats": {
          "unique_count": 1,
          "nan_count": 0,
          "min": "0",
          "max": "0",
          "histogram": [
           {
            "bin_start": -0.5,
            "bin_end": -0.4,
            "count": 0
           },
           {
            "bin_start": -0.4,
            "bin_end": -0.3,
            "count": 0
           },
           {
            "bin_start": -0.3,
            "bin_end": -0.19999999999999996,
            "count": 0
           },
           {
            "bin_start": -0.19999999999999996,
            "bin_end": -0.09999999999999998,
            "count": 0
           },
           {
            "bin_start": -0.09999999999999998,
            "bin_end": 0,
            "count": 0
           },
           {
            "bin_start": 0,
            "bin_end": 0.10000000000000009,
            "count": 5
           },
           {
            "bin_start": 0.10000000000000009,
            "bin_end": 0.20000000000000007,
            "count": 0
           },
           {
            "bin_start": 0.20000000000000007,
            "bin_end": 0.30000000000000004,
            "count": 0
           },
           {
            "bin_start": 0.30000000000000004,
            "bin_end": 0.4,
            "count": 0
           },
           {
            "bin_start": 0.4,
            "bin_end": 0.5,
            "count": 0
           }
          ]
         }
        },
        {
         "name": "Mildura",
         "dtype": "uint8",
         "stats": {
          "unique_count": 1,
          "nan_count": 0,
          "min": "0",
          "max": "0",
          "histogram": [
           {
            "bin_start": -0.5,
            "bin_end": -0.4,
            "count": 0
           },
           {
            "bin_start": -0.4,
            "bin_end": -0.3,
            "count": 0
           },
           {
            "bin_start": -0.3,
            "bin_end": -0.19999999999999996,
            "count": 0
           },
           {
            "bin_start": -0.19999999999999996,
            "bin_end": -0.09999999999999998,
            "count": 0
           },
           {
            "bin_start": -0.09999999999999998,
            "bin_end": 0,
            "count": 0
           },
           {
            "bin_start": 0,
            "bin_end": 0.10000000000000009,
            "count": 5
           },
           {
            "bin_start": 0.10000000000000009,
            "bin_end": 0.20000000000000007,
            "count": 0
           },
           {
            "bin_start": 0.20000000000000007,
            "bin_end": 0.30000000000000004,
            "count": 0
           },
           {
            "bin_start": 0.30000000000000004,
            "bin_end": 0.4,
            "count": 0
           },
           {
            "bin_start": 0.4,
            "bin_end": 0.5,
            "count": 0
           }
          ]
         }
        },
        {
         "name": "Moree",
         "dtype": "uint8",
         "stats": {
          "unique_count": 1,
          "nan_count": 0,
          "min": "0",
          "max": "0",
          "histogram": [
           {
            "bin_start": -0.5,
            "bin_end": -0.4,
            "count": 0
           },
           {
            "bin_start": -0.4,
            "bin_end": -0.3,
            "count": 0
           },
           {
            "bin_start": -0.3,
            "bin_end": -0.19999999999999996,
            "count": 0
           },
           {
            "bin_start": -0.19999999999999996,
            "bin_end": -0.09999999999999998,
            "count": 0
           },
           {
            "bin_start": -0.09999999999999998,
            "bin_end": 0,
            "count": 0
           },
           {
            "bin_start": 0,
            "bin_end": 0.10000000000000009,
            "count": 5
           },
           {
            "bin_start": 0.10000000000000009,
            "bin_end": 0.20000000000000007,
            "count": 0
           },
           {
            "bin_start": 0.20000000000000007,
            "bin_end": 0.30000000000000004,
            "count": 0
           },
           {
            "bin_start": 0.30000000000000004,
            "bin_end": 0.4,
            "count": 0
           },
           {
            "bin_start": 0.4,
            "bin_end": 0.5,
            "count": 0
           }
          ]
         }
        },
        {
         "name": "MountGambier",
         "dtype": "uint8",
         "stats": {
          "unique_count": 1,
          "nan_count": 0,
          "min": "0",
          "max": "0",
          "histogram": [
           {
            "bin_start": -0.5,
            "bin_end": -0.4,
            "count": 0
           },
           {
            "bin_start": -0.4,
            "bin_end": -0.3,
            "count": 0
           },
           {
            "bin_start": -0.3,
            "bin_end": -0.19999999999999996,
            "count": 0
           },
           {
            "bin_start": -0.19999999999999996,
            "bin_end": -0.09999999999999998,
            "count": 0
           },
           {
            "bin_start": -0.09999999999999998,
            "bin_end": 0,
            "count": 0
           },
           {
            "bin_start": 0,
            "bin_end": 0.10000000000000009,
            "count": 5
           },
           {
            "bin_start": 0.10000000000000009,
            "bin_end": 0.20000000000000007,
            "count": 0
           },
           {
            "bin_start": 0.20000000000000007,
            "bin_end": 0.30000000000000004,
            "count": 0
           },
           {
            "bin_start": 0.30000000000000004,
            "bin_end": 0.4,
            "count": 0
           },
           {
            "bin_start": 0.4,
            "bin_end": 0.5,
            "count": 0
           }
          ]
         }
        },
        {
         "name": "MountGinini",
         "dtype": "uint8",
         "stats": {
          "unique_count": 1,
          "nan_count": 0,
          "min": "0",
          "max": "0",
          "histogram": [
           {
            "bin_start": -0.5,
            "bin_end": -0.4,
            "count": 0
           },
           {
            "bin_start": -0.4,
            "bin_end": -0.3,
            "count": 0
           },
           {
            "bin_start": -0.3,
            "bin_end": -0.19999999999999996,
            "count": 0
           },
           {
            "bin_start": -0.19999999999999996,
            "bin_end": -0.09999999999999998,
            "count": 0
           },
           {
            "bin_start": -0.09999999999999998,
            "bin_end": 0,
            "count": 0
           },
           {
            "bin_start": 0,
            "bin_end": 0.10000000000000009,
            "count": 5
           },
           {
            "bin_start": 0.10000000000000009,
            "bin_end": 0.20000000000000007,
            "count": 0
           },
           {
            "bin_start": 0.20000000000000007,
            "bin_end": 0.30000000000000004,
            "count": 0
           },
           {
            "bin_start": 0.30000000000000004,
            "bin_end": 0.4,
            "count": 0
           },
           {
            "bin_start": 0.4,
            "bin_end": 0.5,
            "count": 0
           }
          ]
         }
        },
        {
         "name": "Newcastle",
         "dtype": "uint8",
         "stats": {
          "unique_count": 1,
          "nan_count": 0,
          "min": "0",
          "max": "0",
          "histogram": [
           {
            "bin_start": -0.5,
            "bin_end": -0.4,
            "count": 0
           },
           {
            "bin_start": -0.4,
            "bin_end": -0.3,
            "count": 0
           },
           {
            "bin_start": -0.3,
            "bin_end": -0.19999999999999996,
            "count": 0
           },
           {
            "bin_start": -0.19999999999999996,
            "bin_end": -0.09999999999999998,
            "count": 0
           },
           {
            "bin_start": -0.09999999999999998,
            "bin_end": 0,
            "count": 0
           },
           {
            "bin_start": 0,
            "bin_end": 0.10000000000000009,
            "count": 5
           },
           {
            "bin_start": 0.10000000000000009,
            "bin_end": 0.20000000000000007,
            "count": 0
           },
           {
            "bin_start": 0.20000000000000007,
            "bin_end": 0.30000000000000004,
            "count": 0
           },
           {
            "bin_start": 0.30000000000000004,
            "bin_end": 0.4,
            "count": 0
           },
           {
            "bin_start": 0.4,
            "bin_end": 0.5,
            "count": 0
           }
          ]
         }
        },
        {
         "name": "Nhil",
         "dtype": "uint8",
         "stats": {
          "unique_count": 1,
          "nan_count": 0,
          "min": "0",
          "max": "0",
          "histogram": [
           {
            "bin_start": -0.5,
            "bin_end": -0.4,
            "count": 0
           },
           {
            "bin_start": -0.4,
            "bin_end": -0.3,
            "count": 0
           },
           {
            "bin_start": -0.3,
            "bin_end": -0.19999999999999996,
            "count": 0
           },
           {
            "bin_start": -0.19999999999999996,
            "bin_end": -0.09999999999999998,
            "count": 0
           },
           {
            "bin_start": -0.09999999999999998,
            "bin_end": 0,
            "count": 0
           },
           {
            "bin_start": 0,
            "bin_end": 0.10000000000000009,
            "count": 5
           },
           {
            "bin_start": 0.10000000000000009,
            "bin_end": 0.20000000000000007,
            "count": 0
           },
           {
            "bin_start": 0.20000000000000007,
            "bin_end": 0.30000000000000004,
            "count": 0
           },
           {
            "bin_start": 0.30000000000000004,
            "bin_end": 0.4,
            "count": 0
           },
           {
            "bin_start": 0.4,
            "bin_end": 0.5,
            "count": 0
           }
          ]
         }
        },
        {
         "name": "NorahHead",
         "dtype": "uint8",
         "stats": {
          "unique_count": 1,
          "nan_count": 0,
          "min": "0",
          "max": "0",
          "histogram": [
           {
            "bin_start": -0.5,
            "bin_end": -0.4,
            "count": 0
           },
           {
            "bin_start": -0.4,
            "bin_end": -0.3,
            "count": 0
           },
           {
            "bin_start": -0.3,
            "bin_end": -0.19999999999999996,
            "count": 0
           },
           {
            "bin_start": -0.19999999999999996,
            "bin_end": -0.09999999999999998,
            "count": 0
           },
           {
            "bin_start": -0.09999999999999998,
            "bin_end": 0,
            "count": 0
           },
           {
            "bin_start": 0,
            "bin_end": 0.10000000000000009,
            "count": 5
           },
           {
            "bin_start": 0.10000000000000009,
            "bin_end": 0.20000000000000007,
            "count": 0
           },
           {
            "bin_start": 0.20000000000000007,
            "bin_end": 0.30000000000000004,
            "count": 0
           },
           {
            "bin_start": 0.30000000000000004,
            "bin_end": 0.4,
            "count": 0
           },
           {
            "bin_start": 0.4,
            "bin_end": 0.5,
            "count": 0
           }
          ]
         }
        },
        {
         "name": "NorfolkIsland",
         "dtype": "uint8",
         "stats": {
          "unique_count": 1,
          "nan_count": 0,
          "min": "0",
          "max": "0",
          "histogram": [
           {
            "bin_start": -0.5,
            "bin_end": -0.4,
            "count": 0
           },
           {
            "bin_start": -0.4,
            "bin_end": -0.3,
            "count": 0
           },
           {
            "bin_start": -0.3,
            "bin_end": -0.19999999999999996,
            "count": 0
           },
           {
            "bin_start": -0.19999999999999996,
            "bin_end": -0.09999999999999998,
            "count": 0
           },
           {
            "bin_start": -0.09999999999999998,
            "bin_end": 0,
            "count": 0
           },
           {
            "bin_start": 0,
            "bin_end": 0.10000000000000009,
            "count": 5
           },
           {
            "bin_start": 0.10000000000000009,
            "bin_end": 0.20000000000000007,
            "count": 0
           },
           {
            "bin_start": 0.20000000000000007,
            "bin_end": 0.30000000000000004,
            "count": 0
           },
           {
            "bin_start": 0.30000000000000004,
            "bin_end": 0.4,
            "count": 0
           },
           {
            "bin_start": 0.4,
            "bin_end": 0.5,
            "count": 0
           }
          ]
         }
        },
        {
         "name": "Nuriootpa",
         "dtype": "uint8",
         "stats": {
          "unique_count": 1,
          "nan_count": 0,
          "min": "0",
          "max": "0",
          "histogram": [
           {
            "bin_start": -0.5,
            "bin_end": -0.4,
            "count": 0
           },
           {
            "bin_start": -0.4,
            "bin_end": -0.3,
            "count": 0
           },
           {
            "bin_start": -0.3,
            "bin_end": -0.19999999999999996,
            "count": 0
           },
           {
            "bin_start": -0.19999999999999996,
            "bin_end": -0.09999999999999998,
            "count": 0
           },
           {
            "bin_start": -0.09999999999999998,
            "bin_end": 0,
            "count": 0
           },
           {
            "bin_start": 0,
            "bin_end": 0.10000000000000009,
            "count": 5
           },
           {
            "bin_start": 0.10000000000000009,
            "bin_end": 0.20000000000000007,
            "count": 0
           },
           {
            "bin_start": 0.20000000000000007,
            "bin_end": 0.30000000000000004,
            "count": 0
           },
           {
            "bin_start": 0.30000000000000004,
            "bin_end": 0.4,
            "count": 0
           },
           {
            "bin_start": 0.4,
            "bin_end": 0.5,
            "count": 0
           }
          ]
         }
        },
        {
         "name": "PearceRAAF",
         "dtype": "uint8",
         "stats": {
          "unique_count": 1,
          "nan_count": 0,
          "min": "0",
          "max": "0",
          "histogram": [
           {
            "bin_start": -0.5,
            "bin_end": -0.4,
            "count": 0
           },
           {
            "bin_start": -0.4,
            "bin_end": -0.3,
            "count": 0
           },
           {
            "bin_start": -0.3,
            "bin_end": -0.19999999999999996,
            "count": 0
           },
           {
            "bin_start": -0.19999999999999996,
            "bin_end": -0.09999999999999998,
            "count": 0
           },
           {
            "bin_start": -0.09999999999999998,
            "bin_end": 0,
            "count": 0
           },
           {
            "bin_start": 0,
            "bin_end": 0.10000000000000009,
            "count": 5
           },
           {
            "bin_start": 0.10000000000000009,
            "bin_end": 0.20000000000000007,
            "count": 0
           },
           {
            "bin_start": 0.20000000000000007,
            "bin_end": 0.30000000000000004,
            "count": 0
           },
           {
            "bin_start": 0.30000000000000004,
            "bin_end": 0.4,
            "count": 0
           },
           {
            "bin_start": 0.4,
            "bin_end": 0.5,
            "count": 0
           }
          ]
         }
        },
        {
         "name": "Penrith",
         "dtype": "uint8",
         "stats": {
          "unique_count": 1,
          "nan_count": 0,
          "min": "0",
          "max": "0",
          "histogram": [
           {
            "bin_start": -0.5,
            "bin_end": -0.4,
            "count": 0
           },
           {
            "bin_start": -0.4,
            "bin_end": -0.3,
            "count": 0
           },
           {
            "bin_start": -0.3,
            "bin_end": -0.19999999999999996,
            "count": 0
           },
           {
            "bin_start": -0.19999999999999996,
            "bin_end": -0.09999999999999998,
            "count": 0
           },
           {
            "bin_start": -0.09999999999999998,
            "bin_end": 0,
            "count": 0
           },
           {
            "bin_start": 0,
            "bin_end": 0.10000000000000009,
            "count": 5
           },
           {
            "bin_start": 0.10000000000000009,
            "bin_end": 0.20000000000000007,
            "count": 0
           },
           {
            "bin_start": 0.20000000000000007,
            "bin_end": 0.30000000000000004,
            "count": 0
           },
           {
            "bin_start": 0.30000000000000004,
            "bin_end": 0.4,
            "count": 0
           },
           {
            "bin_start": 0.4,
            "bin_end": 0.5,
            "count": 0
           }
          ]
         }
        },
        {
         "name": "Perth",
         "dtype": "uint8",
         "stats": {
          "unique_count": 1,
          "nan_count": 0,
          "min": "0",
          "max": "0",
          "histogram": [
           {
            "bin_start": -0.5,
            "bin_end": -0.4,
            "count": 0
           },
           {
            "bin_start": -0.4,
            "bin_end": -0.3,
            "count": 0
           },
           {
            "bin_start": -0.3,
            "bin_end": -0.19999999999999996,
            "count": 0
           },
           {
            "bin_start": -0.19999999999999996,
            "bin_end": -0.09999999999999998,
            "count": 0
           },
           {
            "bin_start": -0.09999999999999998,
            "bin_end": 0,
            "count": 0
           },
           {
            "bin_start": 0,
            "bin_end": 0.10000000000000009,
            "count": 5
           },
           {
            "bin_start": 0.10000000000000009,
            "bin_end": 0.20000000000000007,
            "count": 0
           },
           {
            "bin_start": 0.20000000000000007,
            "bin_end": 0.30000000000000004,
            "count": 0
           },
           {
            "bin_start": 0.30000000000000004,
            "bin_end": 0.4,
            "count": 0
           },
           {
            "bin_start": 0.4,
            "bin_end": 0.5,
            "count": 0
           }
          ]
         }
        },
        {
         "name": "PerthAirport",
         "dtype": "uint8",
         "stats": {
          "unique_count": 1,
          "nan_count": 0,
          "min": "0",
          "max": "0",
          "histogram": [
           {
            "bin_start": -0.5,
            "bin_end": -0.4,
            "count": 0
           },
           {
            "bin_start": -0.4,
            "bin_end": -0.3,
            "count": 0
           },
           {
            "bin_start": -0.3,
            "bin_end": -0.19999999999999996,
            "count": 0
           },
           {
            "bin_start": -0.19999999999999996,
            "bin_end": -0.09999999999999998,
            "count": 0
           },
           {
            "bin_start": -0.09999999999999998,
            "bin_end": 0,
            "count": 0
           },
           {
            "bin_start": 0,
            "bin_end": 0.10000000000000009,
            "count": 5
           },
           {
            "bin_start": 0.10000000000000009,
            "bin_end": 0.20000000000000007,
            "count": 0
           },
           {
            "bin_start": 0.20000000000000007,
            "bin_end": 0.30000000000000004,
            "count": 0
           },
           {
            "bin_start": 0.30000000000000004,
            "bin_end": 0.4,
            "count": 0
           },
           {
            "bin_start": 0.4,
            "bin_end": 0.5,
            "count": 0
           }
          ]
         }
        },
        {
         "name": "Portland",
         "dtype": "uint8",
         "stats": {
          "unique_count": 1,
          "nan_count": 0,
          "min": "0",
          "max": "0",
          "histogram": [
           {
            "bin_start": -0.5,
            "bin_end": -0.4,
            "count": 0
           },
           {
            "bin_start": -0.4,
            "bin_end": -0.3,
            "count": 0
           },
           {
            "bin_start": -0.3,
            "bin_end": -0.19999999999999996,
            "count": 0
           },
           {
            "bin_start": -0.19999999999999996,
            "bin_end": -0.09999999999999998,
            "count": 0
           },
           {
            "bin_start": -0.09999999999999998,
            "bin_end": 0,
            "count": 0
           },
           {
            "bin_start": 0,
            "bin_end": 0.10000000000000009,
            "count": 5
           },
           {
            "bin_start": 0.10000000000000009,
            "bin_end": 0.20000000000000007,
            "count": 0
           },
           {
            "bin_start": 0.20000000000000007,
            "bin_end": 0.30000000000000004,
            "count": 0
           },
           {
            "bin_start": 0.30000000000000004,
            "bin_end": 0.4,
            "count": 0
           },
           {
            "bin_start": 0.4,
            "bin_end": 0.5,
            "count": 0
           }
          ]
         }
        },
        {
         "name": "Richmond",
         "dtype": "uint8",
         "stats": {
          "unique_count": 1,
          "nan_count": 0,
          "min": "0",
          "max": "0",
          "histogram": [
           {
            "bin_start": -0.5,
            "bin_end": -0.4,
            "count": 0
           },
           {
            "bin_start": -0.4,
            "bin_end": -0.3,
            "count": 0
           },
           {
            "bin_start": -0.3,
            "bin_end": -0.19999999999999996,
            "count": 0
           },
           {
            "bin_start": -0.19999999999999996,
            "bin_end": -0.09999999999999998,
            "count": 0
           },
           {
            "bin_start": -0.09999999999999998,
            "bin_end": 0,
            "count": 0
           },
           {
            "bin_start": 0,
            "bin_end": 0.10000000000000009,
            "count": 5
           },
           {
            "bin_start": 0.10000000000000009,
            "bin_end": 0.20000000000000007,
            "count": 0
           },
           {
            "bin_start": 0.20000000000000007,
            "bin_end": 0.30000000000000004,
            "count": 0
           },
           {
            "bin_start": 0.30000000000000004,
            "bin_end": 0.4,
            "count": 0
           },
           {
            "bin_start": 0.4,
            "bin_end": 0.5,
            "count": 0
           }
          ]
         }
        },
        {
         "name": "Sale",
         "dtype": "uint8",
         "stats": {
          "unique_count": 1,
          "nan_count": 0,
          "min": "0",
          "max": "0",
          "histogram": [
           {
            "bin_start": -0.5,
            "bin_end": -0.4,
            "count": 0
           },
           {
            "bin_start": -0.4,
            "bin_end": -0.3,
            "count": 0
           },
           {
            "bin_start": -0.3,
            "bin_end": -0.19999999999999996,
            "count": 0
           },
           {
            "bin_start": -0.19999999999999996,
            "bin_end": -0.09999999999999998,
            "count": 0
           },
           {
            "bin_start": -0.09999999999999998,
            "bin_end": 0,
            "count": 0
           },
           {
            "bin_start": 0,
            "bin_end": 0.10000000000000009,
            "count": 5
           },
           {
            "bin_start": 0.10000000000000009,
            "bin_end": 0.20000000000000007,
            "count": 0
           },
           {
            "bin_start": 0.20000000000000007,
            "bin_end": 0.30000000000000004,
            "count": 0
           },
           {
            "bin_start": 0.30000000000000004,
            "bin_end": 0.4,
            "count": 0
           },
           {
            "bin_start": 0.4,
            "bin_end": 0.5,
            "count": 0
           }
          ]
         }
        },
        {
         "name": "SalmonGums",
         "dtype": "uint8",
         "stats": {
          "unique_count": 1,
          "nan_count": 0,
          "min": "0",
          "max": "0",
          "histogram": [
           {
            "bin_start": -0.5,
            "bin_end": -0.4,
            "count": 0
           },
           {
            "bin_start": -0.4,
            "bin_end": -0.3,
            "count": 0
           },
           {
            "bin_start": -0.3,
            "bin_end": -0.19999999999999996,
            "count": 0
           },
           {
            "bin_start": -0.19999999999999996,
            "bin_end": -0.09999999999999998,
            "count": 0
           },
           {
            "bin_start": -0.09999999999999998,
            "bin_end": 0,
            "count": 0
           },
           {
            "bin_start": 0,
            "bin_end": 0.10000000000000009,
            "count": 5
           },
           {
            "bin_start": 0.10000000000000009,
            "bin_end": 0.20000000000000007,
            "count": 0
           },
           {
            "bin_start": 0.20000000000000007,
            "bin_end": 0.30000000000000004,
            "count": 0
           },
           {
            "bin_start": 0.30000000000000004,
            "bin_end": 0.4,
            "count": 0
           },
           {
            "bin_start": 0.4,
            "bin_end": 0.5,
            "count": 0
           }
          ]
         }
        },
        {
         "name": "Sydney",
         "dtype": "uint8",
         "stats": {
          "unique_count": 1,
          "nan_count": 0,
          "min": "0",
          "max": "0",
          "histogram": [
           {
            "bin_start": -0.5,
            "bin_end": -0.4,
            "count": 0
           },
           {
            "bin_start": -0.4,
            "bin_end": -0.3,
            "count": 0
           },
           {
            "bin_start": -0.3,
            "bin_end": -0.19999999999999996,
            "count": 0
           },
           {
            "bin_start": -0.19999999999999996,
            "bin_end": -0.09999999999999998,
            "count": 0
           },
           {
            "bin_start": -0.09999999999999998,
            "bin_end": 0,
            "count": 0
           },
           {
            "bin_start": 0,
            "bin_end": 0.10000000000000009,
            "count": 5
           },
           {
            "bin_start": 0.10000000000000009,
            "bin_end": 0.20000000000000007,
            "count": 0
           },
           {
            "bin_start": 0.20000000000000007,
            "bin_end": 0.30000000000000004,
            "count": 0
           },
           {
            "bin_start": 0.30000000000000004,
            "bin_end": 0.4,
            "count": 0
           },
           {
            "bin_start": 0.4,
            "bin_end": 0.5,
            "count": 0
           }
          ]
         }
        },
        {
         "name": "SydneyAirport",
         "dtype": "uint8",
         "stats": {
          "unique_count": 1,
          "nan_count": 0,
          "min": "0",
          "max": "0",
          "histogram": [
           {
            "bin_start": -0.5,
            "bin_end": -0.4,
            "count": 0
           },
           {
            "bin_start": -0.4,
            "bin_end": -0.3,
            "count": 0
           },
           {
            "bin_start": -0.3,
            "bin_end": -0.19999999999999996,
            "count": 0
           },
           {
            "bin_start": -0.19999999999999996,
            "bin_end": -0.09999999999999998,
            "count": 0
           },
           {
            "bin_start": -0.09999999999999998,
            "bin_end": 0,
            "count": 0
           },
           {
            "bin_start": 0,
            "bin_end": 0.10000000000000009,
            "count": 5
           },
           {
            "bin_start": 0.10000000000000009,
            "bin_end": 0.20000000000000007,
            "count": 0
           },
           {
            "bin_start": 0.20000000000000007,
            "bin_end": 0.30000000000000004,
            "count": 0
           },
           {
            "bin_start": 0.30000000000000004,
            "bin_end": 0.4,
            "count": 0
           },
           {
            "bin_start": 0.4,
            "bin_end": 0.5,
            "count": 0
           }
          ]
         }
        },
        {
         "name": "Townsville",
         "dtype": "uint8",
         "stats": {
          "unique_count": 1,
          "nan_count": 0,
          "min": "0",
          "max": "0",
          "histogram": [
           {
            "bin_start": -0.5,
            "bin_end": -0.4,
            "count": 0
           },
           {
            "bin_start": -0.4,
            "bin_end": -0.3,
            "count": 0
           },
           {
            "bin_start": -0.3,
            "bin_end": -0.19999999999999996,
            "count": 0
           },
           {
            "bin_start": -0.19999999999999996,
            "bin_end": -0.09999999999999998,
            "count": 0
           },
           {
            "bin_start": -0.09999999999999998,
            "bin_end": 0,
            "count": 0
           },
           {
            "bin_start": 0,
            "bin_end": 0.10000000000000009,
            "count": 5
           },
           {
            "bin_start": 0.10000000000000009,
            "bin_end": 0.20000000000000007,
            "count": 0
           },
           {
            "bin_start": 0.20000000000000007,
            "bin_end": 0.30000000000000004,
            "count": 0
           },
           {
            "bin_start": 0.30000000000000004,
            "bin_end": 0.4,
            "count": 0
           },
           {
            "bin_start": 0.4,
            "bin_end": 0.5,
            "count": 0
           }
          ]
         }
        },
        {
         "name": "Tuggeranong",
         "dtype": "uint8",
         "stats": {
          "unique_count": 1,
          "nan_count": 0,
          "min": "0",
          "max": "0",
          "histogram": [
           {
            "bin_start": -0.5,
            "bin_end": -0.4,
            "count": 0
           },
           {
            "bin_start": -0.4,
            "bin_end": -0.3,
            "count": 0
           },
           {
            "bin_start": -0.3,
            "bin_end": -0.19999999999999996,
            "count": 0
           },
           {
            "bin_start": -0.19999999999999996,
            "bin_end": -0.09999999999999998,
            "count": 0
           },
           {
            "bin_start": -0.09999999999999998,
            "bin_end": 0,
            "count": 0
           },
           {
            "bin_start": 0,
            "bin_end": 0.10000000000000009,
            "count": 5
           },
           {
            "bin_start": 0.10000000000000009,
            "bin_end": 0.20000000000000007,
            "count": 0
           },
           {
            "bin_start": 0.20000000000000007,
            "bin_end": 0.30000000000000004,
            "count": 0
           },
           {
            "bin_start": 0.30000000000000004,
            "bin_end": 0.4,
            "count": 0
           },
           {
            "bin_start": 0.4,
            "bin_end": 0.5,
            "count": 0
           }
          ]
         }
        },
        {
         "name": "Uluru",
         "dtype": "uint8",
         "stats": {
          "unique_count": 1,
          "nan_count": 0,
          "min": "0",
          "max": "0",
          "histogram": [
           {
            "bin_start": -0.5,
            "bin_end": -0.4,
            "count": 0
           },
           {
            "bin_start": -0.4,
            "bin_end": -0.3,
            "count": 0
           },
           {
            "bin_start": -0.3,
            "bin_end": -0.19999999999999996,
            "count": 0
           },
           {
            "bin_start": -0.19999999999999996,
            "bin_end": -0.09999999999999998,
            "count": 0
           },
           {
            "bin_start": -0.09999999999999998,
            "bin_end": 0,
            "count": 0
           },
           {
            "bin_start": 0,
            "bin_end": 0.10000000000000009,
            "count": 5
           },
           {
            "bin_start": 0.10000000000000009,
            "bin_end": 0.20000000000000007,
            "count": 0
           },
           {
            "bin_start": 0.20000000000000007,
            "bin_end": 0.30000000000000004,
            "count": 0
           },
           {
            "bin_start": 0.30000000000000004,
            "bin_end": 0.4,
            "count": 0
           },
           {
            "bin_start": 0.4,
            "bin_end": 0.5,
            "count": 0
           }
          ]
         }
        },
        {
         "name": "WaggaWagga",
         "dtype": "uint8",
         "stats": {
          "unique_count": 1,
          "nan_count": 0,
          "min": "0",
          "max": "0",
          "histogram": [
           {
            "bin_start": -0.5,
            "bin_end": -0.4,
            "count": 0
           },
           {
            "bin_start": -0.4,
            "bin_end": -0.3,
            "count": 0
           },
           {
            "bin_start": -0.3,
            "bin_end": -0.19999999999999996,
            "count": 0
           },
           {
            "bin_start": -0.19999999999999996,
            "bin_end": -0.09999999999999998,
            "count": 0
           },
           {
            "bin_start": -0.09999999999999998,
            "bin_end": 0,
            "count": 0
           },
           {
            "bin_start": 0,
            "bin_end": 0.10000000000000009,
            "count": 5
           },
           {
            "bin_start": 0.10000000000000009,
            "bin_end": 0.20000000000000007,
            "count": 0
           },
           {
            "bin_start": 0.20000000000000007,
            "bin_end": 0.30000000000000004,
            "count": 0
           },
           {
            "bin_start": 0.30000000000000004,
            "bin_end": 0.4,
            "count": 0
           },
           {
            "bin_start": 0.4,
            "bin_end": 0.5,
            "count": 0
           }
          ]
         }
        },
        {
         "name": "Walpole",
         "dtype": "uint8",
         "stats": {
          "unique_count": 1,
          "nan_count": 0,
          "min": "0",
          "max": "0",
          "histogram": [
           {
            "bin_start": -0.5,
            "bin_end": -0.4,
            "count": 0
           },
           {
            "bin_start": -0.4,
            "bin_end": -0.3,
            "count": 0
           },
           {
            "bin_start": -0.3,
            "bin_end": -0.19999999999999996,
            "count": 0
           },
           {
            "bin_start": -0.19999999999999996,
            "bin_end": -0.09999999999999998,
            "count": 0
           },
           {
            "bin_start": -0.09999999999999998,
            "bin_end": 0,
            "count": 0
           },
           {
            "bin_start": 0,
            "bin_end": 0.10000000000000009,
            "count": 5
           },
           {
            "bin_start": 0.10000000000000009,
            "bin_end": 0.20000000000000007,
            "count": 0
           },
           {
            "bin_start": 0.20000000000000007,
            "bin_end": 0.30000000000000004,
            "count": 0
           },
           {
            "bin_start": 0.30000000000000004,
            "bin_end": 0.4,
            "count": 0
           },
           {
            "bin_start": 0.4,
            "bin_end": 0.5,
            "count": 0
           }
          ]
         }
        },
        {
         "name": "Watsonia",
         "dtype": "uint8",
         "stats": {
          "unique_count": 1,
          "nan_count": 0,
          "min": "0",
          "max": "0",
          "histogram": [
           {
            "bin_start": -0.5,
            "bin_end": -0.4,
            "count": 0
           },
           {
            "bin_start": -0.4,
            "bin_end": -0.3,
            "count": 0
           },
           {
            "bin_start": -0.3,
            "bin_end": -0.19999999999999996,
            "count": 0
           },
           {
            "bin_start": -0.19999999999999996,
            "bin_end": -0.09999999999999998,
            "count": 0
           },
           {
            "bin_start": -0.09999999999999998,
            "bin_end": 0,
            "count": 0
           },
           {
            "bin_start": 0,
            "bin_end": 0.10000000000000009,
            "count": 5
           },
           {
            "bin_start": 0.10000000000000009,
            "bin_end": 0.20000000000000007,
            "count": 0
           },
           {
            "bin_start": 0.20000000000000007,
            "bin_end": 0.30000000000000004,
            "count": 0
           },
           {
            "bin_start": 0.30000000000000004,
            "bin_end": 0.4,
            "count": 0
           },
           {
            "bin_start": 0.4,
            "bin_end": 0.5,
            "count": 0
           }
          ]
         }
        },
        {
         "name": "Williamtown",
         "dtype": "uint8",
         "stats": {
          "unique_count": 1,
          "nan_count": 0,
          "min": "0",
          "max": "0",
          "histogram": [
           {
            "bin_start": -0.5,
            "bin_end": -0.4,
            "count": 0
           },
           {
            "bin_start": -0.4,
            "bin_end": -0.3,
            "count": 0
           },
           {
            "bin_start": -0.3,
            "bin_end": -0.19999999999999996,
            "count": 0
           },
           {
            "bin_start": -0.19999999999999996,
            "bin_end": -0.09999999999999998,
            "count": 0
           },
           {
            "bin_start": -0.09999999999999998,
            "bin_end": 0,
            "count": 0
           },
           {
            "bin_start": 0,
            "bin_end": 0.10000000000000009,
            "count": 5
           },
           {
            "bin_start": 0.10000000000000009,
            "bin_end": 0.20000000000000007,
            "count": 0
           },
           {
            "bin_start": 0.20000000000000007,
            "bin_end": 0.30000000000000004,
            "count": 0
           },
           {
            "bin_start": 0.30000000000000004,
            "bin_end": 0.4,
            "count": 0
           },
           {
            "bin_start": 0.4,
            "bin_end": 0.5,
            "count": 0
           }
          ]
         }
        },
        {
         "name": "Witchcliffe",
         "dtype": "uint8",
         "stats": {
          "unique_count": 1,
          "nan_count": 0,
          "min": "0",
          "max": "0",
          "histogram": [
           {
            "bin_start": -0.5,
            "bin_end": -0.4,
            "count": 0
           },
           {
            "bin_start": -0.4,
            "bin_end": -0.3,
            "count": 0
           },
           {
            "bin_start": -0.3,
            "bin_end": -0.19999999999999996,
            "count": 0
           },
           {
            "bin_start": -0.19999999999999996,
            "bin_end": -0.09999999999999998,
            "count": 0
           },
           {
            "bin_start": -0.09999999999999998,
            "bin_end": 0,
            "count": 0
           },
           {
            "bin_start": 0,
            "bin_end": 0.10000000000000009,
            "count": 5
           },
           {
            "bin_start": 0.10000000000000009,
            "bin_end": 0.20000000000000007,
            "count": 0
           },
           {
            "bin_start": 0.20000000000000007,
            "bin_end": 0.30000000000000004,
            "count": 0
           },
           {
            "bin_start": 0.30000000000000004,
            "bin_end": 0.4,
            "count": 0
           },
           {
            "bin_start": 0.4,
            "bin_end": 0.5,
            "count": 0
           }
          ]
         }
        },
        {
         "name": "Wollongong",
         "dtype": "uint8",
         "stats": {
          "unique_count": 1,
          "nan_count": 0,
          "min": "0",
          "max": "0",
          "histogram": [
           {
            "bin_start": -0.5,
            "bin_end": -0.4,
            "count": 0
           },
           {
            "bin_start": -0.4,
            "bin_end": -0.3,
            "count": 0
           },
           {
            "bin_start": -0.3,
            "bin_end": -0.19999999999999996,
            "count": 0
           },
           {
            "bin_start": -0.19999999999999996,
            "bin_end": -0.09999999999999998,
            "count": 0
           },
           {
            "bin_start": -0.09999999999999998,
            "bin_end": 0,
            "count": 0
           },
           {
            "bin_start": 0,
            "bin_end": 0.10000000000000009,
            "count": 5
           },
           {
            "bin_start": 0.10000000000000009,
            "bin_end": 0.20000000000000007,
            "count": 0
           },
           {
            "bin_start": 0.20000000000000007,
            "bin_end": 0.30000000000000004,
            "count": 0
           },
           {
            "bin_start": 0.30000000000000004,
            "bin_end": 0.4,
            "count": 0
           },
           {
            "bin_start": 0.4,
            "bin_end": 0.5,
            "count": 0
           }
          ]
         }
        },
        {
         "name": "Woomera",
         "dtype": "uint8",
         "stats": {
          "unique_count": 1,
          "nan_count": 0,
          "min": "0",
          "max": "0",
          "histogram": [
           {
            "bin_start": -0.5,
            "bin_end": -0.4,
            "count": 0
           },
           {
            "bin_start": -0.4,
            "bin_end": -0.3,
            "count": 0
           },
           {
            "bin_start": -0.3,
            "bin_end": -0.19999999999999996,
            "count": 0
           },
           {
            "bin_start": -0.19999999999999996,
            "bin_end": -0.09999999999999998,
            "count": 0
           },
           {
            "bin_start": -0.09999999999999998,
            "bin_end": 0,
            "count": 0
           },
           {
            "bin_start": 0,
            "bin_end": 0.10000000000000009,
            "count": 5
           },
           {
            "bin_start": 0.10000000000000009,
            "bin_end": 0.20000000000000007,
            "count": 0
           },
           {
            "bin_start": 0.20000000000000007,
            "bin_end": 0.30000000000000004,
            "count": 0
           },
           {
            "bin_start": 0.30000000000000004,
            "bin_end": 0.4,
            "count": 0
           },
           {
            "bin_start": 0.4,
            "bin_end": 0.5,
            "count": 0
           }
          ]
         }
        },
        {
         "name": "_deepnote_index_column",
         "dtype": "int64"
        }
       ],
       "rows": [
        {
         "Albany": 0,
         "Albury": 1,
         "AliceSprings": 0,
         "BadgerysCreek": 0,
         "Ballarat": 0,
         "Bendigo": 0,
         "Brisbane": 0,
         "Cairns": 0,
         "Canberra": 0,
         "Cobar": 0,
         "CoffsHarbour": 0,
         "Dartmoor": 0,
         "Darwin": 0,
         "GoldCoast": 0,
         "Hobart": 0,
         "Katherine": 0,
         "Launceston": 0,
         "Melbourne": 0,
         "MelbourneAirport": 0,
         "Mildura": 0,
         "Moree": 0,
         "MountGambier": 0,
         "MountGinini": 0,
         "Newcastle": 0,
         "Nhil": 0,
         "NorahHead": 0,
         "NorfolkIsland": 0,
         "Nuriootpa": 0,
         "PearceRAAF": 0,
         "Penrith": 0,
         "Perth": 0,
         "PerthAirport": 0,
         "Portland": 0,
         "Richmond": 0,
         "Sale": 0,
         "SalmonGums": 0,
         "Sydney": 0,
         "SydneyAirport": 0,
         "Townsville": 0,
         "Tuggeranong": 0,
         "Uluru": 0,
         "WaggaWagga": 0,
         "Walpole": 0,
         "Watsonia": 0,
         "Williamtown": 0,
         "Witchcliffe": 0,
         "Wollongong": 0,
         "Woomera": 0,
         "_deepnote_index_column": 0
        },
        {
         "Albany": 0,
         "Albury": 1,
         "AliceSprings": 0,
         "BadgerysCreek": 0,
         "Ballarat": 0,
         "Bendigo": 0,
         "Brisbane": 0,
         "Cairns": 0,
         "Canberra": 0,
         "Cobar": 0,
         "CoffsHarbour": 0,
         "Dartmoor": 0,
         "Darwin": 0,
         "GoldCoast": 0,
         "Hobart": 0,
         "Katherine": 0,
         "Launceston": 0,
         "Melbourne": 0,
         "MelbourneAirport": 0,
         "Mildura": 0,
         "Moree": 0,
         "MountGambier": 0,
         "MountGinini": 0,
         "Newcastle": 0,
         "Nhil": 0,
         "NorahHead": 0,
         "NorfolkIsland": 0,
         "Nuriootpa": 0,
         "PearceRAAF": 0,
         "Penrith": 0,
         "Perth": 0,
         "PerthAirport": 0,
         "Portland": 0,
         "Richmond": 0,
         "Sale": 0,
         "SalmonGums": 0,
         "Sydney": 0,
         "SydneyAirport": 0,
         "Townsville": 0,
         "Tuggeranong": 0,
         "Uluru": 0,
         "WaggaWagga": 0,
         "Walpole": 0,
         "Watsonia": 0,
         "Williamtown": 0,
         "Witchcliffe": 0,
         "Wollongong": 0,
         "Woomera": 0,
         "_deepnote_index_column": 1
        },
        {
         "Albany": 0,
         "Albury": 1,
         "AliceSprings": 0,
         "BadgerysCreek": 0,
         "Ballarat": 0,
         "Bendigo": 0,
         "Brisbane": 0,
         "Cairns": 0,
         "Canberra": 0,
         "Cobar": 0,
         "CoffsHarbour": 0,
         "Dartmoor": 0,
         "Darwin": 0,
         "GoldCoast": 0,
         "Hobart": 0,
         "Katherine": 0,
         "Launceston": 0,
         "Melbourne": 0,
         "MelbourneAirport": 0,
         "Mildura": 0,
         "Moree": 0,
         "MountGambier": 0,
         "MountGinini": 0,
         "Newcastle": 0,
         "Nhil": 0,
         "NorahHead": 0,
         "NorfolkIsland": 0,
         "Nuriootpa": 0,
         "PearceRAAF": 0,
         "Penrith": 0,
         "Perth": 0,
         "PerthAirport": 0,
         "Portland": 0,
         "Richmond": 0,
         "Sale": 0,
         "SalmonGums": 0,
         "Sydney": 0,
         "SydneyAirport": 0,
         "Townsville": 0,
         "Tuggeranong": 0,
         "Uluru": 0,
         "WaggaWagga": 0,
         "Walpole": 0,
         "Watsonia": 0,
         "Williamtown": 0,
         "Witchcliffe": 0,
         "Wollongong": 0,
         "Woomera": 0,
         "_deepnote_index_column": 2
        },
        {
         "Albany": 0,
         "Albury": 1,
         "AliceSprings": 0,
         "BadgerysCreek": 0,
         "Ballarat": 0,
         "Bendigo": 0,
         "Brisbane": 0,
         "Cairns": 0,
         "Canberra": 0,
         "Cobar": 0,
         "CoffsHarbour": 0,
         "Dartmoor": 0,
         "Darwin": 0,
         "GoldCoast": 0,
         "Hobart": 0,
         "Katherine": 0,
         "Launceston": 0,
         "Melbourne": 0,
         "MelbourneAirport": 0,
         "Mildura": 0,
         "Moree": 0,
         "MountGambier": 0,
         "MountGinini": 0,
         "Newcastle": 0,
         "Nhil": 0,
         "NorahHead": 0,
         "NorfolkIsland": 0,
         "Nuriootpa": 0,
         "PearceRAAF": 0,
         "Penrith": 0,
         "Perth": 0,
         "PerthAirport": 0,
         "Portland": 0,
         "Richmond": 0,
         "Sale": 0,
         "SalmonGums": 0,
         "Sydney": 0,
         "SydneyAirport": 0,
         "Townsville": 0,
         "Tuggeranong": 0,
         "Uluru": 0,
         "WaggaWagga": 0,
         "Walpole": 0,
         "Watsonia": 0,
         "Williamtown": 0,
         "Witchcliffe": 0,
         "Wollongong": 0,
         "Woomera": 0,
         "_deepnote_index_column": 3
        },
        {
         "Albany": 0,
         "Albury": 1,
         "AliceSprings": 0,
         "BadgerysCreek": 0,
         "Ballarat": 0,
         "Bendigo": 0,
         "Brisbane": 0,
         "Cairns": 0,
         "Canberra": 0,
         "Cobar": 0,
         "CoffsHarbour": 0,
         "Dartmoor": 0,
         "Darwin": 0,
         "GoldCoast": 0,
         "Hobart": 0,
         "Katherine": 0,
         "Launceston": 0,
         "Melbourne": 0,
         "MelbourneAirport": 0,
         "Mildura": 0,
         "Moree": 0,
         "MountGambier": 0,
         "MountGinini": 0,
         "Newcastle": 0,
         "Nhil": 0,
         "NorahHead": 0,
         "NorfolkIsland": 0,
         "Nuriootpa": 0,
         "PearceRAAF": 0,
         "Penrith": 0,
         "Perth": 0,
         "PerthAirport": 0,
         "Portland": 0,
         "Richmond": 0,
         "Sale": 0,
         "SalmonGums": 0,
         "Sydney": 0,
         "SydneyAirport": 0,
         "Townsville": 0,
         "Tuggeranong": 0,
         "Uluru": 0,
         "WaggaWagga": 0,
         "Walpole": 0,
         "Watsonia": 0,
         "Williamtown": 0,
         "Witchcliffe": 0,
         "Wollongong": 0,
         "Woomera": 0,
         "_deepnote_index_column": 4
        }
       ]
      },
      "text/plain": "   Albany  Albury  AliceSprings  BadgerysCreek  Ballarat  Bendigo  Brisbane  \\\n0       0       1             0              0         0        0         0   \n1       0       1             0              0         0        0         0   \n2       0       1             0              0         0        0         0   \n3       0       1             0              0         0        0         0   \n4       0       1             0              0         0        0         0   \n\n   Cairns  Canberra  Cobar  ...  Townsville  Tuggeranong  Uluru  WaggaWagga  \\\n0       0         0      0  ...           0            0      0           0   \n1       0         0      0  ...           0            0      0           0   \n2       0         0      0  ...           0            0      0           0   \n3       0         0      0  ...           0            0      0           0   \n4       0         0      0  ...           0            0      0           0   \n\n   Walpole  Watsonia  Williamtown  Witchcliffe  Wollongong  Woomera  \n0        0         0            0            0           0        0  \n1        0         0            0            0           0        0  \n2        0         0            0            0           0        0  \n3        0         0            0            0           0        0  \n4        0         0            0            0           0        0  \n\n[5 rows x 48 columns]",
      "text/html": "<div>\n<style scoped>\n    .dataframe tbody tr th:only-of-type {\n        vertical-align: middle;\n    }\n\n    .dataframe tbody tr th {\n        vertical-align: top;\n    }\n\n    .dataframe thead th {\n        text-align: right;\n    }\n</style>\n<table border=\"1\" class=\"dataframe\">\n  <thead>\n    <tr style=\"text-align: right;\">\n      <th></th>\n      <th>Albany</th>\n      <th>Albury</th>\n      <th>AliceSprings</th>\n      <th>BadgerysCreek</th>\n      <th>Ballarat</th>\n      <th>Bendigo</th>\n      <th>Brisbane</th>\n      <th>Cairns</th>\n      <th>Canberra</th>\n      <th>Cobar</th>\n      <th>...</th>\n      <th>Townsville</th>\n      <th>Tuggeranong</th>\n      <th>Uluru</th>\n      <th>WaggaWagga</th>\n      <th>Walpole</th>\n      <th>Watsonia</th>\n      <th>Williamtown</th>\n      <th>Witchcliffe</th>\n      <th>Wollongong</th>\n      <th>Woomera</th>\n    </tr>\n  </thead>\n  <tbody>\n    <tr>\n      <th>0</th>\n      <td>0</td>\n      <td>1</td>\n      <td>0</td>\n      <td>0</td>\n      <td>0</td>\n      <td>0</td>\n      <td>0</td>\n      <td>0</td>\n      <td>0</td>\n      <td>0</td>\n      <td>...</td>\n      <td>0</td>\n      <td>0</td>\n      <td>0</td>\n      <td>0</td>\n      <td>0</td>\n      <td>0</td>\n      <td>0</td>\n      <td>0</td>\n      <td>0</td>\n      <td>0</td>\n    </tr>\n    <tr>\n      <th>1</th>\n      <td>0</td>\n      <td>1</td>\n      <td>0</td>\n      <td>0</td>\n      <td>0</td>\n      <td>0</td>\n      <td>0</td>\n      <td>0</td>\n      <td>0</td>\n      <td>0</td>\n      <td>...</td>\n      <td>0</td>\n      <td>0</td>\n      <td>0</td>\n      <td>0</td>\n      <td>0</td>\n      <td>0</td>\n      <td>0</td>\n      <td>0</td>\n      <td>0</td>\n      <td>0</td>\n    </tr>\n    <tr>\n      <th>2</th>\n      <td>0</td>\n      <td>1</td>\n      <td>0</td>\n      <td>0</td>\n      <td>0</td>\n      <td>0</td>\n      <td>0</td>\n      <td>0</td>\n      <td>0</td>\n      <td>0</td>\n      <td>...</td>\n      <td>0</td>\n      <td>0</td>\n      <td>0</td>\n      <td>0</td>\n      <td>0</td>\n      <td>0</td>\n      <td>0</td>\n      <td>0</td>\n      <td>0</td>\n      <td>0</td>\n    </tr>\n    <tr>\n      <th>3</th>\n      <td>0</td>\n      <td>1</td>\n      <td>0</td>\n      <td>0</td>\n      <td>0</td>\n      <td>0</td>\n      <td>0</td>\n      <td>0</td>\n      <td>0</td>\n      <td>0</td>\n      <td>...</td>\n      <td>0</td>\n      <td>0</td>\n      <td>0</td>\n      <td>0</td>\n      <td>0</td>\n      <td>0</td>\n      <td>0</td>\n      <td>0</td>\n      <td>0</td>\n      <td>0</td>\n    </tr>\n    <tr>\n      <th>4</th>\n      <td>0</td>\n      <td>1</td>\n      <td>0</td>\n      <td>0</td>\n      <td>0</td>\n      <td>0</td>\n      <td>0</td>\n      <td>0</td>\n      <td>0</td>\n      <td>0</td>\n      <td>...</td>\n      <td>0</td>\n      <td>0</td>\n      <td>0</td>\n      <td>0</td>\n      <td>0</td>\n      <td>0</td>\n      <td>0</td>\n      <td>0</td>\n      <td>0</td>\n      <td>0</td>\n    </tr>\n  </tbody>\n</table>\n<p>5 rows × 48 columns</p>\n</div>"
     },
     "metadata": {}
    }
   ]
  },
  {
   "cell_type": "code",
   "source": "rain.WindGustDir.value_counts()",
   "metadata": {
    "cell_id": "d02a256299a94043aba9e06e287cc8b6",
    "tags": [],
    "deepnote_to_be_reexecuted": false,
    "source_hash": "b6b1b256",
    "execution_start": 1649251110889,
    "execution_millis": 29,
    "deepnote_cell_type": "code",
    "deepnote_cell_height": 66.65625
   },
   "outputs": [
    {
     "output_type": "execute_result",
     "execution_count": 31,
     "data": {
      "text/plain": "W      9780\nSE     9309\nE      9071\nN      9033\nSSE    8993\nS      8949\nWSW    8901\nSW     8797\nSSW    8610\nWNW    8066\nNW     8003\nENE    7992\nESE    7305\nNE     7060\nNNW    6561\nNNE    6433\nName: WindGustDir, dtype: int64"
     },
     "metadata": {}
    }
   ],
   "execution_count": 31
  },
  {
   "cell_type": "code",
   "source": "pd.get_dummies(rain.WindGustDir, drop_first=True, dummy_na=True).head()",
   "metadata": {
    "cell_id": "10fb6074811547059e4528cdce593516",
    "tags": [],
    "deepnote_to_be_reexecuted": false,
    "source_hash": "511ab838",
    "execution_start": 1649251110912,
    "execution_millis": 61,
    "deepnote_cell_type": "code",
    "deepnote_cell_height": 66.65625
   },
   "outputs": [
    {
     "output_type": "execute_result",
     "execution_count": 32,
     "data": {
      "application/vnd.deepnote.dataframe.v3+json": {
       "column_count": 16,
       "row_count": 5,
       "columns": [
        {
         "name": "ENE",
         "dtype": "uint8",
         "stats": {
          "unique_count": 1,
          "nan_count": 0,
          "min": "0",
          "max": "0",
          "histogram": [
           {
            "bin_start": -0.5,
            "bin_end": -0.4,
            "count": 0
           },
           {
            "bin_start": -0.4,
            "bin_end": -0.3,
            "count": 0
           },
           {
            "bin_start": -0.3,
            "bin_end": -0.19999999999999996,
            "count": 0
           },
           {
            "bin_start": -0.19999999999999996,
            "bin_end": -0.09999999999999998,
            "count": 0
           },
           {
            "bin_start": -0.09999999999999998,
            "bin_end": 0,
            "count": 0
           },
           {
            "bin_start": 0,
            "bin_end": 0.10000000000000009,
            "count": 5
           },
           {
            "bin_start": 0.10000000000000009,
            "bin_end": 0.20000000000000007,
            "count": 0
           },
           {
            "bin_start": 0.20000000000000007,
            "bin_end": 0.30000000000000004,
            "count": 0
           },
           {
            "bin_start": 0.30000000000000004,
            "bin_end": 0.4,
            "count": 0
           },
           {
            "bin_start": 0.4,
            "bin_end": 0.5,
            "count": 0
           }
          ]
         }
        },
        {
         "name": "ESE",
         "dtype": "uint8",
         "stats": {
          "unique_count": 1,
          "nan_count": 0,
          "min": "0",
          "max": "0",
          "histogram": [
           {
            "bin_start": -0.5,
            "bin_end": -0.4,
            "count": 0
           },
           {
            "bin_start": -0.4,
            "bin_end": -0.3,
            "count": 0
           },
           {
            "bin_start": -0.3,
            "bin_end": -0.19999999999999996,
            "count": 0
           },
           {
            "bin_start": -0.19999999999999996,
            "bin_end": -0.09999999999999998,
            "count": 0
           },
           {
            "bin_start": -0.09999999999999998,
            "bin_end": 0,
            "count": 0
           },
           {
            "bin_start": 0,
            "bin_end": 0.10000000000000009,
            "count": 5
           },
           {
            "bin_start": 0.10000000000000009,
            "bin_end": 0.20000000000000007,
            "count": 0
           },
           {
            "bin_start": 0.20000000000000007,
            "bin_end": 0.30000000000000004,
            "count": 0
           },
           {
            "bin_start": 0.30000000000000004,
            "bin_end": 0.4,
            "count": 0
           },
           {
            "bin_start": 0.4,
            "bin_end": 0.5,
            "count": 0
           }
          ]
         }
        },
        {
         "name": "N",
         "dtype": "uint8",
         "stats": {
          "unique_count": 1,
          "nan_count": 0,
          "min": "0",
          "max": "0",
          "histogram": [
           {
            "bin_start": -0.5,
            "bin_end": -0.4,
            "count": 0
           },
           {
            "bin_start": -0.4,
            "bin_end": -0.3,
            "count": 0
           },
           {
            "bin_start": -0.3,
            "bin_end": -0.19999999999999996,
            "count": 0
           },
           {
            "bin_start": -0.19999999999999996,
            "bin_end": -0.09999999999999998,
            "count": 0
           },
           {
            "bin_start": -0.09999999999999998,
            "bin_end": 0,
            "count": 0
           },
           {
            "bin_start": 0,
            "bin_end": 0.10000000000000009,
            "count": 5
           },
           {
            "bin_start": 0.10000000000000009,
            "bin_end": 0.20000000000000007,
            "count": 0
           },
           {
            "bin_start": 0.20000000000000007,
            "bin_end": 0.30000000000000004,
            "count": 0
           },
           {
            "bin_start": 0.30000000000000004,
            "bin_end": 0.4,
            "count": 0
           },
           {
            "bin_start": 0.4,
            "bin_end": 0.5,
            "count": 0
           }
          ]
         }
        },
        {
         "name": "NE",
         "dtype": "uint8",
         "stats": {
          "unique_count": 2,
          "nan_count": 0,
          "min": "0",
          "max": "1",
          "histogram": [
           {
            "bin_start": 0,
            "bin_end": 0.1,
            "count": 4
           },
           {
            "bin_start": 0.1,
            "bin_end": 0.2,
            "count": 0
           },
           {
            "bin_start": 0.2,
            "bin_end": 0.30000000000000004,
            "count": 0
           },
           {
            "bin_start": 0.30000000000000004,
            "bin_end": 0.4,
            "count": 0
           },
           {
            "bin_start": 0.4,
            "bin_end": 0.5,
            "count": 0
           },
           {
            "bin_start": 0.5,
            "bin_end": 0.6000000000000001,
            "count": 0
           },
           {
            "bin_start": 0.6000000000000001,
            "bin_end": 0.7000000000000001,
            "count": 0
           },
           {
            "bin_start": 0.7000000000000001,
            "bin_end": 0.8,
            "count": 0
           },
           {
            "bin_start": 0.8,
            "bin_end": 0.9,
            "count": 0
           },
           {
            "bin_start": 0.9,
            "bin_end": 1,
            "count": 1
           }
          ]
         }
        },
        {
         "name": "NNE",
         "dtype": "uint8",
         "stats": {
          "unique_count": 1,
          "nan_count": 0,
          "min": "0",
          "max": "0",
          "histogram": [
           {
            "bin_start": -0.5,
            "bin_end": -0.4,
            "count": 0
           },
           {
            "bin_start": -0.4,
            "bin_end": -0.3,
            "count": 0
           },
           {
            "bin_start": -0.3,
            "bin_end": -0.19999999999999996,
            "count": 0
           },
           {
            "bin_start": -0.19999999999999996,
            "bin_end": -0.09999999999999998,
            "count": 0
           },
           {
            "bin_start": -0.09999999999999998,
            "bin_end": 0,
            "count": 0
           },
           {
            "bin_start": 0,
            "bin_end": 0.10000000000000009,
            "count": 5
           },
           {
            "bin_start": 0.10000000000000009,
            "bin_end": 0.20000000000000007,
            "count": 0
           },
           {
            "bin_start": 0.20000000000000007,
            "bin_end": 0.30000000000000004,
            "count": 0
           },
           {
            "bin_start": 0.30000000000000004,
            "bin_end": 0.4,
            "count": 0
           },
           {
            "bin_start": 0.4,
            "bin_end": 0.5,
            "count": 0
           }
          ]
         }
        },
        {
         "name": "NNW",
         "dtype": "uint8",
         "stats": {
          "unique_count": 1,
          "nan_count": 0,
          "min": "0",
          "max": "0",
          "histogram": [
           {
            "bin_start": -0.5,
            "bin_end": -0.4,
            "count": 0
           },
           {
            "bin_start": -0.4,
            "bin_end": -0.3,
            "count": 0
           },
           {
            "bin_start": -0.3,
            "bin_end": -0.19999999999999996,
            "count": 0
           },
           {
            "bin_start": -0.19999999999999996,
            "bin_end": -0.09999999999999998,
            "count": 0
           },
           {
            "bin_start": -0.09999999999999998,
            "bin_end": 0,
            "count": 0
           },
           {
            "bin_start": 0,
            "bin_end": 0.10000000000000009,
            "count": 5
           },
           {
            "bin_start": 0.10000000000000009,
            "bin_end": 0.20000000000000007,
            "count": 0
           },
           {
            "bin_start": 0.20000000000000007,
            "bin_end": 0.30000000000000004,
            "count": 0
           },
           {
            "bin_start": 0.30000000000000004,
            "bin_end": 0.4,
            "count": 0
           },
           {
            "bin_start": 0.4,
            "bin_end": 0.5,
            "count": 0
           }
          ]
         }
        },
        {
         "name": "NW",
         "dtype": "uint8",
         "stats": {
          "unique_count": 1,
          "nan_count": 0,
          "min": "0",
          "max": "0",
          "histogram": [
           {
            "bin_start": -0.5,
            "bin_end": -0.4,
            "count": 0
           },
           {
            "bin_start": -0.4,
            "bin_end": -0.3,
            "count": 0
           },
           {
            "bin_start": -0.3,
            "bin_end": -0.19999999999999996,
            "count": 0
           },
           {
            "bin_start": -0.19999999999999996,
            "bin_end": -0.09999999999999998,
            "count": 0
           },
           {
            "bin_start": -0.09999999999999998,
            "bin_end": 0,
            "count": 0
           },
           {
            "bin_start": 0,
            "bin_end": 0.10000000000000009,
            "count": 5
           },
           {
            "bin_start": 0.10000000000000009,
            "bin_end": 0.20000000000000007,
            "count": 0
           },
           {
            "bin_start": 0.20000000000000007,
            "bin_end": 0.30000000000000004,
            "count": 0
           },
           {
            "bin_start": 0.30000000000000004,
            "bin_end": 0.4,
            "count": 0
           },
           {
            "bin_start": 0.4,
            "bin_end": 0.5,
            "count": 0
           }
          ]
         }
        },
        {
         "name": "S",
         "dtype": "uint8",
         "stats": {
          "unique_count": 1,
          "nan_count": 0,
          "min": "0",
          "max": "0",
          "histogram": [
           {
            "bin_start": -0.5,
            "bin_end": -0.4,
            "count": 0
           },
           {
            "bin_start": -0.4,
            "bin_end": -0.3,
            "count": 0
           },
           {
            "bin_start": -0.3,
            "bin_end": -0.19999999999999996,
            "count": 0
           },
           {
            "bin_start": -0.19999999999999996,
            "bin_end": -0.09999999999999998,
            "count": 0
           },
           {
            "bin_start": -0.09999999999999998,
            "bin_end": 0,
            "count": 0
           },
           {
            "bin_start": 0,
            "bin_end": 0.10000000000000009,
            "count": 5
           },
           {
            "bin_start": 0.10000000000000009,
            "bin_end": 0.20000000000000007,
            "count": 0
           },
           {
            "bin_start": 0.20000000000000007,
            "bin_end": 0.30000000000000004,
            "count": 0
           },
           {
            "bin_start": 0.30000000000000004,
            "bin_end": 0.4,
            "count": 0
           },
           {
            "bin_start": 0.4,
            "bin_end": 0.5,
            "count": 0
           }
          ]
         }
        },
        {
         "name": "SE",
         "dtype": "uint8",
         "stats": {
          "unique_count": 1,
          "nan_count": 0,
          "min": "0",
          "max": "0",
          "histogram": [
           {
            "bin_start": -0.5,
            "bin_end": -0.4,
            "count": 0
           },
           {
            "bin_start": -0.4,
            "bin_end": -0.3,
            "count": 0
           },
           {
            "bin_start": -0.3,
            "bin_end": -0.19999999999999996,
            "count": 0
           },
           {
            "bin_start": -0.19999999999999996,
            "bin_end": -0.09999999999999998,
            "count": 0
           },
           {
            "bin_start": -0.09999999999999998,
            "bin_end": 0,
            "count": 0
           },
           {
            "bin_start": 0,
            "bin_end": 0.10000000000000009,
            "count": 5
           },
           {
            "bin_start": 0.10000000000000009,
            "bin_end": 0.20000000000000007,
            "count": 0
           },
           {
            "bin_start": 0.20000000000000007,
            "bin_end": 0.30000000000000004,
            "count": 0
           },
           {
            "bin_start": 0.30000000000000004,
            "bin_end": 0.4,
            "count": 0
           },
           {
            "bin_start": 0.4,
            "bin_end": 0.5,
            "count": 0
           }
          ]
         }
        },
        {
         "name": "SSE",
         "dtype": "uint8",
         "stats": {
          "unique_count": 1,
          "nan_count": 0,
          "min": "0",
          "max": "0",
          "histogram": [
           {
            "bin_start": -0.5,
            "bin_end": -0.4,
            "count": 0
           },
           {
            "bin_start": -0.4,
            "bin_end": -0.3,
            "count": 0
           },
           {
            "bin_start": -0.3,
            "bin_end": -0.19999999999999996,
            "count": 0
           },
           {
            "bin_start": -0.19999999999999996,
            "bin_end": -0.09999999999999998,
            "count": 0
           },
           {
            "bin_start": -0.09999999999999998,
            "bin_end": 0,
            "count": 0
           },
           {
            "bin_start": 0,
            "bin_end": 0.10000000000000009,
            "count": 5
           },
           {
            "bin_start": 0.10000000000000009,
            "bin_end": 0.20000000000000007,
            "count": 0
           },
           {
            "bin_start": 0.20000000000000007,
            "bin_end": 0.30000000000000004,
            "count": 0
           },
           {
            "bin_start": 0.30000000000000004,
            "bin_end": 0.4,
            "count": 0
           },
           {
            "bin_start": 0.4,
            "bin_end": 0.5,
            "count": 0
           }
          ]
         }
        },
        {
         "name": "SSW",
         "dtype": "uint8",
         "stats": {
          "unique_count": 1,
          "nan_count": 0,
          "min": "0",
          "max": "0",
          "histogram": [
           {
            "bin_start": -0.5,
            "bin_end": -0.4,
            "count": 0
           },
           {
            "bin_start": -0.4,
            "bin_end": -0.3,
            "count": 0
           },
           {
            "bin_start": -0.3,
            "bin_end": -0.19999999999999996,
            "count": 0
           },
           {
            "bin_start": -0.19999999999999996,
            "bin_end": -0.09999999999999998,
            "count": 0
           },
           {
            "bin_start": -0.09999999999999998,
            "bin_end": 0,
            "count": 0
           },
           {
            "bin_start": 0,
            "bin_end": 0.10000000000000009,
            "count": 5
           },
           {
            "bin_start": 0.10000000000000009,
            "bin_end": 0.20000000000000007,
            "count": 0
           },
           {
            "bin_start": 0.20000000000000007,
            "bin_end": 0.30000000000000004,
            "count": 0
           },
           {
            "bin_start": 0.30000000000000004,
            "bin_end": 0.4,
            "count": 0
           },
           {
            "bin_start": 0.4,
            "bin_end": 0.5,
            "count": 0
           }
          ]
         }
        },
        {
         "name": "SW",
         "dtype": "uint8",
         "stats": {
          "unique_count": 1,
          "nan_count": 0,
          "min": "0",
          "max": "0",
          "histogram": [
           {
            "bin_start": -0.5,
            "bin_end": -0.4,
            "count": 0
           },
           {
            "bin_start": -0.4,
            "bin_end": -0.3,
            "count": 0
           },
           {
            "bin_start": -0.3,
            "bin_end": -0.19999999999999996,
            "count": 0
           },
           {
            "bin_start": -0.19999999999999996,
            "bin_end": -0.09999999999999998,
            "count": 0
           },
           {
            "bin_start": -0.09999999999999998,
            "bin_end": 0,
            "count": 0
           },
           {
            "bin_start": 0,
            "bin_end": 0.10000000000000009,
            "count": 5
           },
           {
            "bin_start": 0.10000000000000009,
            "bin_end": 0.20000000000000007,
            "count": 0
           },
           {
            "bin_start": 0.20000000000000007,
            "bin_end": 0.30000000000000004,
            "count": 0
           },
           {
            "bin_start": 0.30000000000000004,
            "bin_end": 0.4,
            "count": 0
           },
           {
            "bin_start": 0.4,
            "bin_end": 0.5,
            "count": 0
           }
          ]
         }
        },
        {
         "name": "W",
         "dtype": "uint8",
         "stats": {
          "unique_count": 2,
          "nan_count": 0,
          "min": "0",
          "max": "1",
          "histogram": [
           {
            "bin_start": 0,
            "bin_end": 0.1,
            "count": 3
           },
           {
            "bin_start": 0.1,
            "bin_end": 0.2,
            "count": 0
           },
           {
            "bin_start": 0.2,
            "bin_end": 0.30000000000000004,
            "count": 0
           },
           {
            "bin_start": 0.30000000000000004,
            "bin_end": 0.4,
            "count": 0
           },
           {
            "bin_start": 0.4,
            "bin_end": 0.5,
            "count": 0
           },
           {
            "bin_start": 0.5,
            "bin_end": 0.6000000000000001,
            "count": 0
           },
           {
            "bin_start": 0.6000000000000001,
            "bin_end": 0.7000000000000001,
            "count": 0
           },
           {
            "bin_start": 0.7000000000000001,
            "bin_end": 0.8,
            "count": 0
           },
           {
            "bin_start": 0.8,
            "bin_end": 0.9,
            "count": 0
           },
           {
            "bin_start": 0.9,
            "bin_end": 1,
            "count": 2
           }
          ]
         }
        },
        {
         "name": "WNW",
         "dtype": "uint8",
         "stats": {
          "unique_count": 2,
          "nan_count": 0,
          "min": "0",
          "max": "1",
          "histogram": [
           {
            "bin_start": 0,
            "bin_end": 0.1,
            "count": 4
           },
           {
            "bin_start": 0.1,
            "bin_end": 0.2,
            "count": 0
           },
           {
            "bin_start": 0.2,
            "bin_end": 0.30000000000000004,
            "count": 0
           },
           {
            "bin_start": 0.30000000000000004,
            "bin_end": 0.4,
            "count": 0
           },
           {
            "bin_start": 0.4,
            "bin_end": 0.5,
            "count": 0
           },
           {
            "bin_start": 0.5,
            "bin_end": 0.6000000000000001,
            "count": 0
           },
           {
            "bin_start": 0.6000000000000001,
            "bin_end": 0.7000000000000001,
            "count": 0
           },
           {
            "bin_start": 0.7000000000000001,
            "bin_end": 0.8,
            "count": 0
           },
           {
            "bin_start": 0.8,
            "bin_end": 0.9,
            "count": 0
           },
           {
            "bin_start": 0.9,
            "bin_end": 1,
            "count": 1
           }
          ]
         }
        },
        {
         "name": "WSW",
         "dtype": "uint8",
         "stats": {
          "unique_count": 2,
          "nan_count": 0,
          "min": "0",
          "max": "1",
          "histogram": [
           {
            "bin_start": 0,
            "bin_end": 0.1,
            "count": 4
           },
           {
            "bin_start": 0.1,
            "bin_end": 0.2,
            "count": 0
           },
           {
            "bin_start": 0.2,
            "bin_end": 0.30000000000000004,
            "count": 0
           },
           {
            "bin_start": 0.30000000000000004,
            "bin_end": 0.4,
            "count": 0
           },
           {
            "bin_start": 0.4,
            "bin_end": 0.5,
            "count": 0
           },
           {
            "bin_start": 0.5,
            "bin_end": 0.6000000000000001,
            "count": 0
           },
           {
            "bin_start": 0.6000000000000001,
            "bin_end": 0.7000000000000001,
            "count": 0
           },
           {
            "bin_start": 0.7000000000000001,
            "bin_end": 0.8,
            "count": 0
           },
           {
            "bin_start": 0.8,
            "bin_end": 0.9,
            "count": 0
           },
           {
            "bin_start": 0.9,
            "bin_end": 1,
            "count": 1
           }
          ]
         }
        },
        {
         "name": "nan",
         "dtype": "uint8",
         "stats": {
          "unique_count": 1,
          "nan_count": 0,
          "min": "0",
          "max": "0",
          "histogram": [
           {
            "bin_start": -0.5,
            "bin_end": -0.4,
            "count": 0
           },
           {
            "bin_start": -0.4,
            "bin_end": -0.3,
            "count": 0
           },
           {
            "bin_start": -0.3,
            "bin_end": -0.19999999999999996,
            "count": 0
           },
           {
            "bin_start": -0.19999999999999996,
            "bin_end": -0.09999999999999998,
            "count": 0
           },
           {
            "bin_start": -0.09999999999999998,
            "bin_end": 0,
            "count": 0
           },
           {
            "bin_start": 0,
            "bin_end": 0.10000000000000009,
            "count": 5
           },
           {
            "bin_start": 0.10000000000000009,
            "bin_end": 0.20000000000000007,
            "count": 0
           },
           {
            "bin_start": 0.20000000000000007,
            "bin_end": 0.30000000000000004,
            "count": 0
           },
           {
            "bin_start": 0.30000000000000004,
            "bin_end": 0.4,
            "count": 0
           },
           {
            "bin_start": 0.4,
            "bin_end": 0.5,
            "count": 0
           }
          ]
         }
        },
        {
         "name": "_deepnote_index_column",
         "dtype": "int64"
        }
       ],
       "rows": [
        {
         "ENE": 0,
         "ESE": 0,
         "N": 0,
         "NE": 0,
         "NNE": 0,
         "NNW": 0,
         "NW": 0,
         "S": 0,
         "SE": 0,
         "SSE": 0,
         "SSW": 0,
         "SW": 0,
         "W": 1,
         "WNW": 0,
         "WSW": 0,
         "nan": 0,
         "_deepnote_index_column": 0
        },
        {
         "ENE": 0,
         "ESE": 0,
         "N": 0,
         "NE": 0,
         "NNE": 0,
         "NNW": 0,
         "NW": 0,
         "S": 0,
         "SE": 0,
         "SSE": 0,
         "SSW": 0,
         "SW": 0,
         "W": 0,
         "WNW": 1,
         "WSW": 0,
         "nan": 0,
         "_deepnote_index_column": 1
        },
        {
         "ENE": 0,
         "ESE": 0,
         "N": 0,
         "NE": 0,
         "NNE": 0,
         "NNW": 0,
         "NW": 0,
         "S": 0,
         "SE": 0,
         "SSE": 0,
         "SSW": 0,
         "SW": 0,
         "W": 0,
         "WNW": 0,
         "WSW": 1,
         "nan": 0,
         "_deepnote_index_column": 2
        },
        {
         "ENE": 0,
         "ESE": 0,
         "N": 0,
         "NE": 1,
         "NNE": 0,
         "NNW": 0,
         "NW": 0,
         "S": 0,
         "SE": 0,
         "SSE": 0,
         "SSW": 0,
         "SW": 0,
         "W": 0,
         "WNW": 0,
         "WSW": 0,
         "nan": 0,
         "_deepnote_index_column": 3
        },
        {
         "ENE": 0,
         "ESE": 0,
         "N": 0,
         "NE": 0,
         "NNE": 0,
         "NNW": 0,
         "NW": 0,
         "S": 0,
         "SE": 0,
         "SSE": 0,
         "SSW": 0,
         "SW": 0,
         "W": 1,
         "WNW": 0,
         "WSW": 0,
         "nan": 0,
         "_deepnote_index_column": 4
        }
       ]
      },
      "text/plain": "   ENE  ESE  N  NE  NNE  NNW  NW  S  SE  SSE  SSW  SW  W  WNW  WSW  NaN\n0    0    0  0   0    0    0   0  0   0    0    0   0  1    0    0    0\n1    0    0  0   0    0    0   0  0   0    0    0   0  0    1    0    0\n2    0    0  0   0    0    0   0  0   0    0    0   0  0    0    1    0\n3    0    0  0   1    0    0   0  0   0    0    0   0  0    0    0    0\n4    0    0  0   0    0    0   0  0   0    0    0   0  1    0    0    0",
      "text/html": "<div>\n<style scoped>\n    .dataframe tbody tr th:only-of-type {\n        vertical-align: middle;\n    }\n\n    .dataframe tbody tr th {\n        vertical-align: top;\n    }\n\n    .dataframe thead th {\n        text-align: right;\n    }\n</style>\n<table border=\"1\" class=\"dataframe\">\n  <thead>\n    <tr style=\"text-align: right;\">\n      <th></th>\n      <th>ENE</th>\n      <th>ESE</th>\n      <th>N</th>\n      <th>NE</th>\n      <th>NNE</th>\n      <th>NNW</th>\n      <th>NW</th>\n      <th>S</th>\n      <th>SE</th>\n      <th>SSE</th>\n      <th>SSW</th>\n      <th>SW</th>\n      <th>W</th>\n      <th>WNW</th>\n      <th>WSW</th>\n      <th>NaN</th>\n    </tr>\n  </thead>\n  <tbody>\n    <tr>\n      <th>0</th>\n      <td>0</td>\n      <td>0</td>\n      <td>0</td>\n      <td>0</td>\n      <td>0</td>\n      <td>0</td>\n      <td>0</td>\n      <td>0</td>\n      <td>0</td>\n      <td>0</td>\n      <td>0</td>\n      <td>0</td>\n      <td>1</td>\n      <td>0</td>\n      <td>0</td>\n      <td>0</td>\n    </tr>\n    <tr>\n      <th>1</th>\n      <td>0</td>\n      <td>0</td>\n      <td>0</td>\n      <td>0</td>\n      <td>0</td>\n      <td>0</td>\n      <td>0</td>\n      <td>0</td>\n      <td>0</td>\n      <td>0</td>\n      <td>0</td>\n      <td>0</td>\n      <td>0</td>\n      <td>1</td>\n      <td>0</td>\n      <td>0</td>\n    </tr>\n    <tr>\n      <th>2</th>\n      <td>0</td>\n      <td>0</td>\n      <td>0</td>\n      <td>0</td>\n      <td>0</td>\n      <td>0</td>\n      <td>0</td>\n      <td>0</td>\n      <td>0</td>\n      <td>0</td>\n      <td>0</td>\n      <td>0</td>\n      <td>0</td>\n      <td>0</td>\n      <td>1</td>\n      <td>0</td>\n    </tr>\n    <tr>\n      <th>3</th>\n      <td>0</td>\n      <td>0</td>\n      <td>0</td>\n      <td>1</td>\n      <td>0</td>\n      <td>0</td>\n      <td>0</td>\n      <td>0</td>\n      <td>0</td>\n      <td>0</td>\n      <td>0</td>\n      <td>0</td>\n      <td>0</td>\n      <td>0</td>\n      <td>0</td>\n      <td>0</td>\n    </tr>\n    <tr>\n      <th>4</th>\n      <td>0</td>\n      <td>0</td>\n      <td>0</td>\n      <td>0</td>\n      <td>0</td>\n      <td>0</td>\n      <td>0</td>\n      <td>0</td>\n      <td>0</td>\n      <td>0</td>\n      <td>0</td>\n      <td>0</td>\n      <td>1</td>\n      <td>0</td>\n      <td>0</td>\n      <td>0</td>\n    </tr>\n  </tbody>\n</table>\n</div>"
     },
     "metadata": {}
    }
   ],
   "execution_count": 32
  },
  {
   "cell_type": "code",
   "source": "rain.WindDir9am.value_counts()",
   "metadata": {
    "cell_id": "fb21f1542fa9489e9fa4fb52e150b596",
    "tags": [],
    "deepnote_to_be_reexecuted": false,
    "source_hash": "b3ac76f6",
    "execution_start": 1649251110993,
    "execution_millis": 7,
    "deepnote_cell_type": "code",
    "deepnote_cell_height": 66.65625
   },
   "outputs": [
    {
     "output_type": "execute_result",
     "execution_count": 33,
     "data": {
      "text/plain": "N      11393\nSE      9162\nE       9024\nSSE     8966\nNW      8552\nS       8493\nW       8260\nSW      8237\nNNE     7948\nNNW     7840\nENE     7735\nESE     7558\nNE      7527\nSSW     7448\nWNW     7194\nWSW     6843\nName: WindDir9am, dtype: int64"
     },
     "metadata": {}
    }
   ],
   "execution_count": 33
  },
  {
   "cell_type": "code",
   "source": "pd.get_dummies(rain.WindDir9am, drop_first=True, dummy_na=True).head()",
   "metadata": {
    "cell_id": "4a7cb38e4cc14a2094606b75d54b9250",
    "tags": [],
    "deepnote_to_be_reexecuted": false,
    "source_hash": "c21c5f6",
    "execution_start": 1649251111001,
    "execution_millis": 40,
    "deepnote_cell_type": "code",
    "deepnote_cell_height": 66.65625
   },
   "outputs": [
    {
     "output_type": "execute_result",
     "execution_count": 34,
     "data": {
      "application/vnd.deepnote.dataframe.v3+json": {
       "column_count": 16,
       "row_count": 5,
       "columns": [
        {
         "name": "ENE",
         "dtype": "uint8",
         "stats": {
          "unique_count": 2,
          "nan_count": 0,
          "min": "0",
          "max": "1",
          "histogram": [
           {
            "bin_start": 0,
            "bin_end": 0.1,
            "count": 4
           },
           {
            "bin_start": 0.1,
            "bin_end": 0.2,
            "count": 0
           },
           {
            "bin_start": 0.2,
            "bin_end": 0.30000000000000004,
            "count": 0
           },
           {
            "bin_start": 0.30000000000000004,
            "bin_end": 0.4,
            "count": 0
           },
           {
            "bin_start": 0.4,
            "bin_end": 0.5,
            "count": 0
           },
           {
            "bin_start": 0.5,
            "bin_end": 0.6000000000000001,
            "count": 0
           },
           {
            "bin_start": 0.6000000000000001,
            "bin_end": 0.7000000000000001,
            "count": 0
           },
           {
            "bin_start": 0.7000000000000001,
            "bin_end": 0.8,
            "count": 0
           },
           {
            "bin_start": 0.8,
            "bin_end": 0.9,
            "count": 0
           },
           {
            "bin_start": 0.9,
            "bin_end": 1,
            "count": 1
           }
          ]
         }
        },
        {
         "name": "ESE",
         "dtype": "uint8",
         "stats": {
          "unique_count": 1,
          "nan_count": 0,
          "min": "0",
          "max": "0",
          "histogram": [
           {
            "bin_start": -0.5,
            "bin_end": -0.4,
            "count": 0
           },
           {
            "bin_start": -0.4,
            "bin_end": -0.3,
            "count": 0
           },
           {
            "bin_start": -0.3,
            "bin_end": -0.19999999999999996,
            "count": 0
           },
           {
            "bin_start": -0.19999999999999996,
            "bin_end": -0.09999999999999998,
            "count": 0
           },
           {
            "bin_start": -0.09999999999999998,
            "bin_end": 0,
            "count": 0
           },
           {
            "bin_start": 0,
            "bin_end": 0.10000000000000009,
            "count": 5
           },
           {
            "bin_start": 0.10000000000000009,
            "bin_end": 0.20000000000000007,
            "count": 0
           },
           {
            "bin_start": 0.20000000000000007,
            "bin_end": 0.30000000000000004,
            "count": 0
           },
           {
            "bin_start": 0.30000000000000004,
            "bin_end": 0.4,
            "count": 0
           },
           {
            "bin_start": 0.4,
            "bin_end": 0.5,
            "count": 0
           }
          ]
         }
        },
        {
         "name": "N",
         "dtype": "uint8",
         "stats": {
          "unique_count": 1,
          "nan_count": 0,
          "min": "0",
          "max": "0",
          "histogram": [
           {
            "bin_start": -0.5,
            "bin_end": -0.4,
            "count": 0
           },
           {
            "bin_start": -0.4,
            "bin_end": -0.3,
            "count": 0
           },
           {
            "bin_start": -0.3,
            "bin_end": -0.19999999999999996,
            "count": 0
           },
           {
            "bin_start": -0.19999999999999996,
            "bin_end": -0.09999999999999998,
            "count": 0
           },
           {
            "bin_start": -0.09999999999999998,
            "bin_end": 0,
            "count": 0
           },
           {
            "bin_start": 0,
            "bin_end": 0.10000000000000009,
            "count": 5
           },
           {
            "bin_start": 0.10000000000000009,
            "bin_end": 0.20000000000000007,
            "count": 0
           },
           {
            "bin_start": 0.20000000000000007,
            "bin_end": 0.30000000000000004,
            "count": 0
           },
           {
            "bin_start": 0.30000000000000004,
            "bin_end": 0.4,
            "count": 0
           },
           {
            "bin_start": 0.4,
            "bin_end": 0.5,
            "count": 0
           }
          ]
         }
        },
        {
         "name": "NE",
         "dtype": "uint8",
         "stats": {
          "unique_count": 1,
          "nan_count": 0,
          "min": "0",
          "max": "0",
          "histogram": [
           {
            "bin_start": -0.5,
            "bin_end": -0.4,
            "count": 0
           },
           {
            "bin_start": -0.4,
            "bin_end": -0.3,
            "count": 0
           },
           {
            "bin_start": -0.3,
            "bin_end": -0.19999999999999996,
            "count": 0
           },
           {
            "bin_start": -0.19999999999999996,
            "bin_end": -0.09999999999999998,
            "count": 0
           },
           {
            "bin_start": -0.09999999999999998,
            "bin_end": 0,
            "count": 0
           },
           {
            "bin_start": 0,
            "bin_end": 0.10000000000000009,
            "count": 5
           },
           {
            "bin_start": 0.10000000000000009,
            "bin_end": 0.20000000000000007,
            "count": 0
           },
           {
            "bin_start": 0.20000000000000007,
            "bin_end": 0.30000000000000004,
            "count": 0
           },
           {
            "bin_start": 0.30000000000000004,
            "bin_end": 0.4,
            "count": 0
           },
           {
            "bin_start": 0.4,
            "bin_end": 0.5,
            "count": 0
           }
          ]
         }
        },
        {
         "name": "NNE",
         "dtype": "uint8",
         "stats": {
          "unique_count": 1,
          "nan_count": 0,
          "min": "0",
          "max": "0",
          "histogram": [
           {
            "bin_start": -0.5,
            "bin_end": -0.4,
            "count": 0
           },
           {
            "bin_start": -0.4,
            "bin_end": -0.3,
            "count": 0
           },
           {
            "bin_start": -0.3,
            "bin_end": -0.19999999999999996,
            "count": 0
           },
           {
            "bin_start": -0.19999999999999996,
            "bin_end": -0.09999999999999998,
            "count": 0
           },
           {
            "bin_start": -0.09999999999999998,
            "bin_end": 0,
            "count": 0
           },
           {
            "bin_start": 0,
            "bin_end": 0.10000000000000009,
            "count": 5
           },
           {
            "bin_start": 0.10000000000000009,
            "bin_end": 0.20000000000000007,
            "count": 0
           },
           {
            "bin_start": 0.20000000000000007,
            "bin_end": 0.30000000000000004,
            "count": 0
           },
           {
            "bin_start": 0.30000000000000004,
            "bin_end": 0.4,
            "count": 0
           },
           {
            "bin_start": 0.4,
            "bin_end": 0.5,
            "count": 0
           }
          ]
         }
        },
        {
         "name": "NNW",
         "dtype": "uint8",
         "stats": {
          "unique_count": 2,
          "nan_count": 0,
          "min": "0",
          "max": "1",
          "histogram": [
           {
            "bin_start": 0,
            "bin_end": 0.1,
            "count": 4
           },
           {
            "bin_start": 0.1,
            "bin_end": 0.2,
            "count": 0
           },
           {
            "bin_start": 0.2,
            "bin_end": 0.30000000000000004,
            "count": 0
           },
           {
            "bin_start": 0.30000000000000004,
            "bin_end": 0.4,
            "count": 0
           },
           {
            "bin_start": 0.4,
            "bin_end": 0.5,
            "count": 0
           },
           {
            "bin_start": 0.5,
            "bin_end": 0.6000000000000001,
            "count": 0
           },
           {
            "bin_start": 0.6000000000000001,
            "bin_end": 0.7000000000000001,
            "count": 0
           },
           {
            "bin_start": 0.7000000000000001,
            "bin_end": 0.8,
            "count": 0
           },
           {
            "bin_start": 0.8,
            "bin_end": 0.9,
            "count": 0
           },
           {
            "bin_start": 0.9,
            "bin_end": 1,
            "count": 1
           }
          ]
         }
        },
        {
         "name": "NW",
         "dtype": "uint8",
         "stats": {
          "unique_count": 1,
          "nan_count": 0,
          "min": "0",
          "max": "0",
          "histogram": [
           {
            "bin_start": -0.5,
            "bin_end": -0.4,
            "count": 0
           },
           {
            "bin_start": -0.4,
            "bin_end": -0.3,
            "count": 0
           },
           {
            "bin_start": -0.3,
            "bin_end": -0.19999999999999996,
            "count": 0
           },
           {
            "bin_start": -0.19999999999999996,
            "bin_end": -0.09999999999999998,
            "count": 0
           },
           {
            "bin_start": -0.09999999999999998,
            "bin_end": 0,
            "count": 0
           },
           {
            "bin_start": 0,
            "bin_end": 0.10000000000000009,
            "count": 5
           },
           {
            "bin_start": 0.10000000000000009,
            "bin_end": 0.20000000000000007,
            "count": 0
           },
           {
            "bin_start": 0.20000000000000007,
            "bin_end": 0.30000000000000004,
            "count": 0
           },
           {
            "bin_start": 0.30000000000000004,
            "bin_end": 0.4,
            "count": 0
           },
           {
            "bin_start": 0.4,
            "bin_end": 0.5,
            "count": 0
           }
          ]
         }
        },
        {
         "name": "S",
         "dtype": "uint8",
         "stats": {
          "unique_count": 1,
          "nan_count": 0,
          "min": "0",
          "max": "0",
          "histogram": [
           {
            "bin_start": -0.5,
            "bin_end": -0.4,
            "count": 0
           },
           {
            "bin_start": -0.4,
            "bin_end": -0.3,
            "count": 0
           },
           {
            "bin_start": -0.3,
            "bin_end": -0.19999999999999996,
            "count": 0
           },
           {
            "bin_start": -0.19999999999999996,
            "bin_end": -0.09999999999999998,
            "count": 0
           },
           {
            "bin_start": -0.09999999999999998,
            "bin_end": 0,
            "count": 0
           },
           {
            "bin_start": 0,
            "bin_end": 0.10000000000000009,
            "count": 5
           },
           {
            "bin_start": 0.10000000000000009,
            "bin_end": 0.20000000000000007,
            "count": 0
           },
           {
            "bin_start": 0.20000000000000007,
            "bin_end": 0.30000000000000004,
            "count": 0
           },
           {
            "bin_start": 0.30000000000000004,
            "bin_end": 0.4,
            "count": 0
           },
           {
            "bin_start": 0.4,
            "bin_end": 0.5,
            "count": 0
           }
          ]
         }
        },
        {
         "name": "SE",
         "dtype": "uint8",
         "stats": {
          "unique_count": 2,
          "nan_count": 0,
          "min": "0",
          "max": "1",
          "histogram": [
           {
            "bin_start": 0,
            "bin_end": 0.1,
            "count": 4
           },
           {
            "bin_start": 0.1,
            "bin_end": 0.2,
            "count": 0
           },
           {
            "bin_start": 0.2,
            "bin_end": 0.30000000000000004,
            "count": 0
           },
           {
            "bin_start": 0.30000000000000004,
            "bin_end": 0.4,
            "count": 0
           },
           {
            "bin_start": 0.4,
            "bin_end": 0.5,
            "count": 0
           },
           {
            "bin_start": 0.5,
            "bin_end": 0.6000000000000001,
            "count": 0
           },
           {
            "bin_start": 0.6000000000000001,
            "bin_end": 0.7000000000000001,
            "count": 0
           },
           {
            "bin_start": 0.7000000000000001,
            "bin_end": 0.8,
            "count": 0
           },
           {
            "bin_start": 0.8,
            "bin_end": 0.9,
            "count": 0
           },
           {
            "bin_start": 0.9,
            "bin_end": 1,
            "count": 1
           }
          ]
         }
        },
        {
         "name": "SSE",
         "dtype": "uint8",
         "stats": {
          "unique_count": 1,
          "nan_count": 0,
          "min": "0",
          "max": "0",
          "histogram": [
           {
            "bin_start": -0.5,
            "bin_end": -0.4,
            "count": 0
           },
           {
            "bin_start": -0.4,
            "bin_end": -0.3,
            "count": 0
           },
           {
            "bin_start": -0.3,
            "bin_end": -0.19999999999999996,
            "count": 0
           },
           {
            "bin_start": -0.19999999999999996,
            "bin_end": -0.09999999999999998,
            "count": 0
           },
           {
            "bin_start": -0.09999999999999998,
            "bin_end": 0,
            "count": 0
           },
           {
            "bin_start": 0,
            "bin_end": 0.10000000000000009,
            "count": 5
           },
           {
            "bin_start": 0.10000000000000009,
            "bin_end": 0.20000000000000007,
            "count": 0
           },
           {
            "bin_start": 0.20000000000000007,
            "bin_end": 0.30000000000000004,
            "count": 0
           },
           {
            "bin_start": 0.30000000000000004,
            "bin_end": 0.4,
            "count": 0
           },
           {
            "bin_start": 0.4,
            "bin_end": 0.5,
            "count": 0
           }
          ]
         }
        },
        {
         "name": "SSW",
         "dtype": "uint8",
         "stats": {
          "unique_count": 1,
          "nan_count": 0,
          "min": "0",
          "max": "0",
          "histogram": [
           {
            "bin_start": -0.5,
            "bin_end": -0.4,
            "count": 0
           },
           {
            "bin_start": -0.4,
            "bin_end": -0.3,
            "count": 0
           },
           {
            "bin_start": -0.3,
            "bin_end": -0.19999999999999996,
            "count": 0
           },
           {
            "bin_start": -0.19999999999999996,
            "bin_end": -0.09999999999999998,
            "count": 0
           },
           {
            "bin_start": -0.09999999999999998,
            "bin_end": 0,
            "count": 0
           },
           {
            "bin_start": 0,
            "bin_end": 0.10000000000000009,
            "count": 5
           },
           {
            "bin_start": 0.10000000000000009,
            "bin_end": 0.20000000000000007,
            "count": 0
           },
           {
            "bin_start": 0.20000000000000007,
            "bin_end": 0.30000000000000004,
            "count": 0
           },
           {
            "bin_start": 0.30000000000000004,
            "bin_end": 0.4,
            "count": 0
           },
           {
            "bin_start": 0.4,
            "bin_end": 0.5,
            "count": 0
           }
          ]
         }
        },
        {
         "name": "SW",
         "dtype": "uint8",
         "stats": {
          "unique_count": 1,
          "nan_count": 0,
          "min": "0",
          "max": "0",
          "histogram": [
           {
            "bin_start": -0.5,
            "bin_end": -0.4,
            "count": 0
           },
           {
            "bin_start": -0.4,
            "bin_end": -0.3,
            "count": 0
           },
           {
            "bin_start": -0.3,
            "bin_end": -0.19999999999999996,
            "count": 0
           },
           {
            "bin_start": -0.19999999999999996,
            "bin_end": -0.09999999999999998,
            "count": 0
           },
           {
            "bin_start": -0.09999999999999998,
            "bin_end": 0,
            "count": 0
           },
           {
            "bin_start": 0,
            "bin_end": 0.10000000000000009,
            "count": 5
           },
           {
            "bin_start": 0.10000000000000009,
            "bin_end": 0.20000000000000007,
            "count": 0
           },
           {
            "bin_start": 0.20000000000000007,
            "bin_end": 0.30000000000000004,
            "count": 0
           },
           {
            "bin_start": 0.30000000000000004,
            "bin_end": 0.4,
            "count": 0
           },
           {
            "bin_start": 0.4,
            "bin_end": 0.5,
            "count": 0
           }
          ]
         }
        },
        {
         "name": "W",
         "dtype": "uint8",
         "stats": {
          "unique_count": 2,
          "nan_count": 0,
          "min": "0",
          "max": "1",
          "histogram": [
           {
            "bin_start": 0,
            "bin_end": 0.1,
            "count": 3
           },
           {
            "bin_start": 0.1,
            "bin_end": 0.2,
            "count": 0
           },
           {
            "bin_start": 0.2,
            "bin_end": 0.30000000000000004,
            "count": 0
           },
           {
            "bin_start": 0.30000000000000004,
            "bin_end": 0.4,
            "count": 0
           },
           {
            "bin_start": 0.4,
            "bin_end": 0.5,
            "count": 0
           },
           {
            "bin_start": 0.5,
            "bin_end": 0.6000000000000001,
            "count": 0
           },
           {
            "bin_start": 0.6000000000000001,
            "bin_end": 0.7000000000000001,
            "count": 0
           },
           {
            "bin_start": 0.7000000000000001,
            "bin_end": 0.8,
            "count": 0
           },
           {
            "bin_start": 0.8,
            "bin_end": 0.9,
            "count": 0
           },
           {
            "bin_start": 0.9,
            "bin_end": 1,
            "count": 2
           }
          ]
         }
        },
        {
         "name": "WNW",
         "dtype": "uint8",
         "stats": {
          "unique_count": 1,
          "nan_count": 0,
          "min": "0",
          "max": "0",
          "histogram": [
           {
            "bin_start": -0.5,
            "bin_end": -0.4,
            "count": 0
           },
           {
            "bin_start": -0.4,
            "bin_end": -0.3,
            "count": 0
           },
           {
            "bin_start": -0.3,
            "bin_end": -0.19999999999999996,
            "count": 0
           },
           {
            "bin_start": -0.19999999999999996,
            "bin_end": -0.09999999999999998,
            "count": 0
           },
           {
            "bin_start": -0.09999999999999998,
            "bin_end": 0,
            "count": 0
           },
           {
            "bin_start": 0,
            "bin_end": 0.10000000000000009,
            "count": 5
           },
           {
            "bin_start": 0.10000000000000009,
            "bin_end": 0.20000000000000007,
            "count": 0
           },
           {
            "bin_start": 0.20000000000000007,
            "bin_end": 0.30000000000000004,
            "count": 0
           },
           {
            "bin_start": 0.30000000000000004,
            "bin_end": 0.4,
            "count": 0
           },
           {
            "bin_start": 0.4,
            "bin_end": 0.5,
            "count": 0
           }
          ]
         }
        },
        {
         "name": "WSW",
         "dtype": "uint8",
         "stats": {
          "unique_count": 1,
          "nan_count": 0,
          "min": "0",
          "max": "0",
          "histogram": [
           {
            "bin_start": -0.5,
            "bin_end": -0.4,
            "count": 0
           },
           {
            "bin_start": -0.4,
            "bin_end": -0.3,
            "count": 0
           },
           {
            "bin_start": -0.3,
            "bin_end": -0.19999999999999996,
            "count": 0
           },
           {
            "bin_start": -0.19999999999999996,
            "bin_end": -0.09999999999999998,
            "count": 0
           },
           {
            "bin_start": -0.09999999999999998,
            "bin_end": 0,
            "count": 0
           },
           {
            "bin_start": 0,
            "bin_end": 0.10000000000000009,
            "count": 5
           },
           {
            "bin_start": 0.10000000000000009,
            "bin_end": 0.20000000000000007,
            "count": 0
           },
           {
            "bin_start": 0.20000000000000007,
            "bin_end": 0.30000000000000004,
            "count": 0
           },
           {
            "bin_start": 0.30000000000000004,
            "bin_end": 0.4,
            "count": 0
           },
           {
            "bin_start": 0.4,
            "bin_end": 0.5,
            "count": 0
           }
          ]
         }
        },
        {
         "name": "nan",
         "dtype": "uint8",
         "stats": {
          "unique_count": 1,
          "nan_count": 0,
          "min": "0",
          "max": "0",
          "histogram": [
           {
            "bin_start": -0.5,
            "bin_end": -0.4,
            "count": 0
           },
           {
            "bin_start": -0.4,
            "bin_end": -0.3,
            "count": 0
           },
           {
            "bin_start": -0.3,
            "bin_end": -0.19999999999999996,
            "count": 0
           },
           {
            "bin_start": -0.19999999999999996,
            "bin_end": -0.09999999999999998,
            "count": 0
           },
           {
            "bin_start": -0.09999999999999998,
            "bin_end": 0,
            "count": 0
           },
           {
            "bin_start": 0,
            "bin_end": 0.10000000000000009,
            "count": 5
           },
           {
            "bin_start": 0.10000000000000009,
            "bin_end": 0.20000000000000007,
            "count": 0
           },
           {
            "bin_start": 0.20000000000000007,
            "bin_end": 0.30000000000000004,
            "count": 0
           },
           {
            "bin_start": 0.30000000000000004,
            "bin_end": 0.4,
            "count": 0
           },
           {
            "bin_start": 0.4,
            "bin_end": 0.5,
            "count": 0
           }
          ]
         }
        },
        {
         "name": "_deepnote_index_column",
         "dtype": "int64"
        }
       ],
       "rows": [
        {
         "ENE": 0,
         "ESE": 0,
         "N": 0,
         "NE": 0,
         "NNE": 0,
         "NNW": 0,
         "NW": 0,
         "S": 0,
         "SE": 0,
         "SSE": 0,
         "SSW": 0,
         "SW": 0,
         "W": 1,
         "WNW": 0,
         "WSW": 0,
         "nan": 0,
         "_deepnote_index_column": 0
        },
        {
         "ENE": 0,
         "ESE": 0,
         "N": 0,
         "NE": 0,
         "NNE": 0,
         "NNW": 1,
         "NW": 0,
         "S": 0,
         "SE": 0,
         "SSE": 0,
         "SSW": 0,
         "SW": 0,
         "W": 0,
         "WNW": 0,
         "WSW": 0,
         "nan": 0,
         "_deepnote_index_column": 1
        },
        {
         "ENE": 0,
         "ESE": 0,
         "N": 0,
         "NE": 0,
         "NNE": 0,
         "NNW": 0,
         "NW": 0,
         "S": 0,
         "SE": 0,
         "SSE": 0,
         "SSW": 0,
         "SW": 0,
         "W": 1,
         "WNW": 0,
         "WSW": 0,
         "nan": 0,
         "_deepnote_index_column": 2
        },
        {
         "ENE": 0,
         "ESE": 0,
         "N": 0,
         "NE": 0,
         "NNE": 0,
         "NNW": 0,
         "NW": 0,
         "S": 0,
         "SE": 1,
         "SSE": 0,
         "SSW": 0,
         "SW": 0,
         "W": 0,
         "WNW": 0,
         "WSW": 0,
         "nan": 0,
         "_deepnote_index_column": 3
        },
        {
         "ENE": 1,
         "ESE": 0,
         "N": 0,
         "NE": 0,
         "NNE": 0,
         "NNW": 0,
         "NW": 0,
         "S": 0,
         "SE": 0,
         "SSE": 0,
         "SSW": 0,
         "SW": 0,
         "W": 0,
         "WNW": 0,
         "WSW": 0,
         "nan": 0,
         "_deepnote_index_column": 4
        }
       ]
      },
      "text/plain": "   ENE  ESE  N  NE  NNE  NNW  NW  S  SE  SSE  SSW  SW  W  WNW  WSW  NaN\n0    0    0  0   0    0    0   0  0   0    0    0   0  1    0    0    0\n1    0    0  0   0    0    1   0  0   0    0    0   0  0    0    0    0\n2    0    0  0   0    0    0   0  0   0    0    0   0  1    0    0    0\n3    0    0  0   0    0    0   0  0   1    0    0   0  0    0    0    0\n4    1    0  0   0    0    0   0  0   0    0    0   0  0    0    0    0",
      "text/html": "<div>\n<style scoped>\n    .dataframe tbody tr th:only-of-type {\n        vertical-align: middle;\n    }\n\n    .dataframe tbody tr th {\n        vertical-align: top;\n    }\n\n    .dataframe thead th {\n        text-align: right;\n    }\n</style>\n<table border=\"1\" class=\"dataframe\">\n  <thead>\n    <tr style=\"text-align: right;\">\n      <th></th>\n      <th>ENE</th>\n      <th>ESE</th>\n      <th>N</th>\n      <th>NE</th>\n      <th>NNE</th>\n      <th>NNW</th>\n      <th>NW</th>\n      <th>S</th>\n      <th>SE</th>\n      <th>SSE</th>\n      <th>SSW</th>\n      <th>SW</th>\n      <th>W</th>\n      <th>WNW</th>\n      <th>WSW</th>\n      <th>NaN</th>\n    </tr>\n  </thead>\n  <tbody>\n    <tr>\n      <th>0</th>\n      <td>0</td>\n      <td>0</td>\n      <td>0</td>\n      <td>0</td>\n      <td>0</td>\n      <td>0</td>\n      <td>0</td>\n      <td>0</td>\n      <td>0</td>\n      <td>0</td>\n      <td>0</td>\n      <td>0</td>\n      <td>1</td>\n      <td>0</td>\n      <td>0</td>\n      <td>0</td>\n    </tr>\n    <tr>\n      <th>1</th>\n      <td>0</td>\n      <td>0</td>\n      <td>0</td>\n      <td>0</td>\n      <td>0</td>\n      <td>1</td>\n      <td>0</td>\n      <td>0</td>\n      <td>0</td>\n      <td>0</td>\n      <td>0</td>\n      <td>0</td>\n      <td>0</td>\n      <td>0</td>\n      <td>0</td>\n      <td>0</td>\n    </tr>\n    <tr>\n      <th>2</th>\n      <td>0</td>\n      <td>0</td>\n      <td>0</td>\n      <td>0</td>\n      <td>0</td>\n      <td>0</td>\n      <td>0</td>\n      <td>0</td>\n      <td>0</td>\n      <td>0</td>\n      <td>0</td>\n      <td>0</td>\n      <td>1</td>\n      <td>0</td>\n      <td>0</td>\n      <td>0</td>\n    </tr>\n    <tr>\n      <th>3</th>\n      <td>0</td>\n      <td>0</td>\n      <td>0</td>\n      <td>0</td>\n      <td>0</td>\n      <td>0</td>\n      <td>0</td>\n      <td>0</td>\n      <td>1</td>\n      <td>0</td>\n      <td>0</td>\n      <td>0</td>\n      <td>0</td>\n      <td>0</td>\n      <td>0</td>\n      <td>0</td>\n    </tr>\n    <tr>\n      <th>4</th>\n      <td>1</td>\n      <td>0</td>\n      <td>0</td>\n      <td>0</td>\n      <td>0</td>\n      <td>0</td>\n      <td>0</td>\n      <td>0</td>\n      <td>0</td>\n      <td>0</td>\n      <td>0</td>\n      <td>0</td>\n      <td>0</td>\n      <td>0</td>\n      <td>0</td>\n      <td>0</td>\n    </tr>\n  </tbody>\n</table>\n</div>"
     },
     "metadata": {}
    }
   ],
   "execution_count": 34
  },
  {
   "cell_type": "code",
   "source": "rain.WindDir3pm.value_counts()",
   "metadata": {
    "cell_id": "21c44f6b31f546fd98aceb0937ba020c",
    "tags": [],
    "deepnote_to_be_reexecuted": false,
    "source_hash": "6bdb7d",
    "execution_start": 1649251111042,
    "execution_millis": 19,
    "deepnote_cell_type": "code",
    "deepnote_cell_height": 66.65625
   },
   "outputs": [
    {
     "output_type": "execute_result",
     "execution_count": 35,
     "data": {
      "text/plain": "SE     10663\nW       9911\nS       9598\nWSW     9329\nSW      9182\nSSE     9142\nN       8667\nWNW     8656\nNW      8468\nESE     8382\nE       8342\nNE      8164\nSSW     8010\nNNW     7733\nENE     7724\nNNE     6444\nName: WindDir3pm, dtype: int64"
     },
     "metadata": {}
    }
   ],
   "execution_count": 35
  },
  {
   "cell_type": "code",
   "source": "pd.get_dummies(rain.WindDir3pm, drop_first=True, dummy_na=True).head()",
   "metadata": {
    "cell_id": "ee49d1a105054d94aa652919cfc5cff2",
    "tags": [],
    "deepnote_to_be_reexecuted": false,
    "source_hash": "8b552e3",
    "execution_start": 1649251111063,
    "execution_millis": 59,
    "deepnote_cell_type": "code",
    "deepnote_cell_height": 66.65625
   },
   "outputs": [
    {
     "output_type": "execute_result",
     "execution_count": 36,
     "data": {
      "application/vnd.deepnote.dataframe.v3+json": {
       "column_count": 16,
       "row_count": 5,
       "columns": [
        {
         "name": "ENE",
         "dtype": "uint8",
         "stats": {
          "unique_count": 1,
          "nan_count": 0,
          "min": "0",
          "max": "0",
          "histogram": [
           {
            "bin_start": -0.5,
            "bin_end": -0.4,
            "count": 0
           },
           {
            "bin_start": -0.4,
            "bin_end": -0.3,
            "count": 0
           },
           {
            "bin_start": -0.3,
            "bin_end": -0.19999999999999996,
            "count": 0
           },
           {
            "bin_start": -0.19999999999999996,
            "bin_end": -0.09999999999999998,
            "count": 0
           },
           {
            "bin_start": -0.09999999999999998,
            "bin_end": 0,
            "count": 0
           },
           {
            "bin_start": 0,
            "bin_end": 0.10000000000000009,
            "count": 5
           },
           {
            "bin_start": 0.10000000000000009,
            "bin_end": 0.20000000000000007,
            "count": 0
           },
           {
            "bin_start": 0.20000000000000007,
            "bin_end": 0.30000000000000004,
            "count": 0
           },
           {
            "bin_start": 0.30000000000000004,
            "bin_end": 0.4,
            "count": 0
           },
           {
            "bin_start": 0.4,
            "bin_end": 0.5,
            "count": 0
           }
          ]
         }
        },
        {
         "name": "ESE",
         "dtype": "uint8",
         "stats": {
          "unique_count": 1,
          "nan_count": 0,
          "min": "0",
          "max": "0",
          "histogram": [
           {
            "bin_start": -0.5,
            "bin_end": -0.4,
            "count": 0
           },
           {
            "bin_start": -0.4,
            "bin_end": -0.3,
            "count": 0
           },
           {
            "bin_start": -0.3,
            "bin_end": -0.19999999999999996,
            "count": 0
           },
           {
            "bin_start": -0.19999999999999996,
            "bin_end": -0.09999999999999998,
            "count": 0
           },
           {
            "bin_start": -0.09999999999999998,
            "bin_end": 0,
            "count": 0
           },
           {
            "bin_start": 0,
            "bin_end": 0.10000000000000009,
            "count": 5
           },
           {
            "bin_start": 0.10000000000000009,
            "bin_end": 0.20000000000000007,
            "count": 0
           },
           {
            "bin_start": 0.20000000000000007,
            "bin_end": 0.30000000000000004,
            "count": 0
           },
           {
            "bin_start": 0.30000000000000004,
            "bin_end": 0.4,
            "count": 0
           },
           {
            "bin_start": 0.4,
            "bin_end": 0.5,
            "count": 0
           }
          ]
         }
        },
        {
         "name": "N",
         "dtype": "uint8",
         "stats": {
          "unique_count": 1,
          "nan_count": 0,
          "min": "0",
          "max": "0",
          "histogram": [
           {
            "bin_start": -0.5,
            "bin_end": -0.4,
            "count": 0
           },
           {
            "bin_start": -0.4,
            "bin_end": -0.3,
            "count": 0
           },
           {
            "bin_start": -0.3,
            "bin_end": -0.19999999999999996,
            "count": 0
           },
           {
            "bin_start": -0.19999999999999996,
            "bin_end": -0.09999999999999998,
            "count": 0
           },
           {
            "bin_start": -0.09999999999999998,
            "bin_end": 0,
            "count": 0
           },
           {
            "bin_start": 0,
            "bin_end": 0.10000000000000009,
            "count": 5
           },
           {
            "bin_start": 0.10000000000000009,
            "bin_end": 0.20000000000000007,
            "count": 0
           },
           {
            "bin_start": 0.20000000000000007,
            "bin_end": 0.30000000000000004,
            "count": 0
           },
           {
            "bin_start": 0.30000000000000004,
            "bin_end": 0.4,
            "count": 0
           },
           {
            "bin_start": 0.4,
            "bin_end": 0.5,
            "count": 0
           }
          ]
         }
        },
        {
         "name": "NE",
         "dtype": "uint8",
         "stats": {
          "unique_count": 1,
          "nan_count": 0,
          "min": "0",
          "max": "0",
          "histogram": [
           {
            "bin_start": -0.5,
            "bin_end": -0.4,
            "count": 0
           },
           {
            "bin_start": -0.4,
            "bin_end": -0.3,
            "count": 0
           },
           {
            "bin_start": -0.3,
            "bin_end": -0.19999999999999996,
            "count": 0
           },
           {
            "bin_start": -0.19999999999999996,
            "bin_end": -0.09999999999999998,
            "count": 0
           },
           {
            "bin_start": -0.09999999999999998,
            "bin_end": 0,
            "count": 0
           },
           {
            "bin_start": 0,
            "bin_end": 0.10000000000000009,
            "count": 5
           },
           {
            "bin_start": 0.10000000000000009,
            "bin_end": 0.20000000000000007,
            "count": 0
           },
           {
            "bin_start": 0.20000000000000007,
            "bin_end": 0.30000000000000004,
            "count": 0
           },
           {
            "bin_start": 0.30000000000000004,
            "bin_end": 0.4,
            "count": 0
           },
           {
            "bin_start": 0.4,
            "bin_end": 0.5,
            "count": 0
           }
          ]
         }
        },
        {
         "name": "NNE",
         "dtype": "uint8",
         "stats": {
          "unique_count": 1,
          "nan_count": 0,
          "min": "0",
          "max": "0",
          "histogram": [
           {
            "bin_start": -0.5,
            "bin_end": -0.4,
            "count": 0
           },
           {
            "bin_start": -0.4,
            "bin_end": -0.3,
            "count": 0
           },
           {
            "bin_start": -0.3,
            "bin_end": -0.19999999999999996,
            "count": 0
           },
           {
            "bin_start": -0.19999999999999996,
            "bin_end": -0.09999999999999998,
            "count": 0
           },
           {
            "bin_start": -0.09999999999999998,
            "bin_end": 0,
            "count": 0
           },
           {
            "bin_start": 0,
            "bin_end": 0.10000000000000009,
            "count": 5
           },
           {
            "bin_start": 0.10000000000000009,
            "bin_end": 0.20000000000000007,
            "count": 0
           },
           {
            "bin_start": 0.20000000000000007,
            "bin_end": 0.30000000000000004,
            "count": 0
           },
           {
            "bin_start": 0.30000000000000004,
            "bin_end": 0.4,
            "count": 0
           },
           {
            "bin_start": 0.4,
            "bin_end": 0.5,
            "count": 0
           }
          ]
         }
        },
        {
         "name": "NNW",
         "dtype": "uint8",
         "stats": {
          "unique_count": 1,
          "nan_count": 0,
          "min": "0",
          "max": "0",
          "histogram": [
           {
            "bin_start": -0.5,
            "bin_end": -0.4,
            "count": 0
           },
           {
            "bin_start": -0.4,
            "bin_end": -0.3,
            "count": 0
           },
           {
            "bin_start": -0.3,
            "bin_end": -0.19999999999999996,
            "count": 0
           },
           {
            "bin_start": -0.19999999999999996,
            "bin_end": -0.09999999999999998,
            "count": 0
           },
           {
            "bin_start": -0.09999999999999998,
            "bin_end": 0,
            "count": 0
           },
           {
            "bin_start": 0,
            "bin_end": 0.10000000000000009,
            "count": 5
           },
           {
            "bin_start": 0.10000000000000009,
            "bin_end": 0.20000000000000007,
            "count": 0
           },
           {
            "bin_start": 0.20000000000000007,
            "bin_end": 0.30000000000000004,
            "count": 0
           },
           {
            "bin_start": 0.30000000000000004,
            "bin_end": 0.4,
            "count": 0
           },
           {
            "bin_start": 0.4,
            "bin_end": 0.5,
            "count": 0
           }
          ]
         }
        },
        {
         "name": "NW",
         "dtype": "uint8",
         "stats": {
          "unique_count": 2,
          "nan_count": 0,
          "min": "0",
          "max": "1",
          "histogram": [
           {
            "bin_start": 0,
            "bin_end": 0.1,
            "count": 4
           },
           {
            "bin_start": 0.1,
            "bin_end": 0.2,
            "count": 0
           },
           {
            "bin_start": 0.2,
            "bin_end": 0.30000000000000004,
            "count": 0
           },
           {
            "bin_start": 0.30000000000000004,
            "bin_end": 0.4,
            "count": 0
           },
           {
            "bin_start": 0.4,
            "bin_end": 0.5,
            "count": 0
           },
           {
            "bin_start": 0.5,
            "bin_end": 0.6000000000000001,
            "count": 0
           },
           {
            "bin_start": 0.6000000000000001,
            "bin_end": 0.7000000000000001,
            "count": 0
           },
           {
            "bin_start": 0.7000000000000001,
            "bin_end": 0.8,
            "count": 0
           },
           {
            "bin_start": 0.8,
            "bin_end": 0.9,
            "count": 0
           },
           {
            "bin_start": 0.9,
            "bin_end": 1,
            "count": 1
           }
          ]
         }
        },
        {
         "name": "S",
         "dtype": "uint8",
         "stats": {
          "unique_count": 1,
          "nan_count": 0,
          "min": "0",
          "max": "0",
          "histogram": [
           {
            "bin_start": -0.5,
            "bin_end": -0.4,
            "count": 0
           },
           {
            "bin_start": -0.4,
            "bin_end": -0.3,
            "count": 0
           },
           {
            "bin_start": -0.3,
            "bin_end": -0.19999999999999996,
            "count": 0
           },
           {
            "bin_start": -0.19999999999999996,
            "bin_end": -0.09999999999999998,
            "count": 0
           },
           {
            "bin_start": -0.09999999999999998,
            "bin_end": 0,
            "count": 0
           },
           {
            "bin_start": 0,
            "bin_end": 0.10000000000000009,
            "count": 5
           },
           {
            "bin_start": 0.10000000000000009,
            "bin_end": 0.20000000000000007,
            "count": 0
           },
           {
            "bin_start": 0.20000000000000007,
            "bin_end": 0.30000000000000004,
            "count": 0
           },
           {
            "bin_start": 0.30000000000000004,
            "bin_end": 0.4,
            "count": 0
           },
           {
            "bin_start": 0.4,
            "bin_end": 0.5,
            "count": 0
           }
          ]
         }
        },
        {
         "name": "SE",
         "dtype": "uint8",
         "stats": {
          "unique_count": 1,
          "nan_count": 0,
          "min": "0",
          "max": "0",
          "histogram": [
           {
            "bin_start": -0.5,
            "bin_end": -0.4,
            "count": 0
           },
           {
            "bin_start": -0.4,
            "bin_end": -0.3,
            "count": 0
           },
           {
            "bin_start": -0.3,
            "bin_end": -0.19999999999999996,
            "count": 0
           },
           {
            "bin_start": -0.19999999999999996,
            "bin_end": -0.09999999999999998,
            "count": 0
           },
           {
            "bin_start": -0.09999999999999998,
            "bin_end": 0,
            "count": 0
           },
           {
            "bin_start": 0,
            "bin_end": 0.10000000000000009,
            "count": 5
           },
           {
            "bin_start": 0.10000000000000009,
            "bin_end": 0.20000000000000007,
            "count": 0
           },
           {
            "bin_start": 0.20000000000000007,
            "bin_end": 0.30000000000000004,
            "count": 0
           },
           {
            "bin_start": 0.30000000000000004,
            "bin_end": 0.4,
            "count": 0
           },
           {
            "bin_start": 0.4,
            "bin_end": 0.5,
            "count": 0
           }
          ]
         }
        },
        {
         "name": "SSE",
         "dtype": "uint8",
         "stats": {
          "unique_count": 1,
          "nan_count": 0,
          "min": "0",
          "max": "0",
          "histogram": [
           {
            "bin_start": -0.5,
            "bin_end": -0.4,
            "count": 0
           },
           {
            "bin_start": -0.4,
            "bin_end": -0.3,
            "count": 0
           },
           {
            "bin_start": -0.3,
            "bin_end": -0.19999999999999996,
            "count": 0
           },
           {
            "bin_start": -0.19999999999999996,
            "bin_end": -0.09999999999999998,
            "count": 0
           },
           {
            "bin_start": -0.09999999999999998,
            "bin_end": 0,
            "count": 0
           },
           {
            "bin_start": 0,
            "bin_end": 0.10000000000000009,
            "count": 5
           },
           {
            "bin_start": 0.10000000000000009,
            "bin_end": 0.20000000000000007,
            "count": 0
           },
           {
            "bin_start": 0.20000000000000007,
            "bin_end": 0.30000000000000004,
            "count": 0
           },
           {
            "bin_start": 0.30000000000000004,
            "bin_end": 0.4,
            "count": 0
           },
           {
            "bin_start": 0.4,
            "bin_end": 0.5,
            "count": 0
           }
          ]
         }
        },
        {
         "name": "SSW",
         "dtype": "uint8",
         "stats": {
          "unique_count": 1,
          "nan_count": 0,
          "min": "0",
          "max": "0",
          "histogram": [
           {
            "bin_start": -0.5,
            "bin_end": -0.4,
            "count": 0
           },
           {
            "bin_start": -0.4,
            "bin_end": -0.3,
            "count": 0
           },
           {
            "bin_start": -0.3,
            "bin_end": -0.19999999999999996,
            "count": 0
           },
           {
            "bin_start": -0.19999999999999996,
            "bin_end": -0.09999999999999998,
            "count": 0
           },
           {
            "bin_start": -0.09999999999999998,
            "bin_end": 0,
            "count": 0
           },
           {
            "bin_start": 0,
            "bin_end": 0.10000000000000009,
            "count": 5
           },
           {
            "bin_start": 0.10000000000000009,
            "bin_end": 0.20000000000000007,
            "count": 0
           },
           {
            "bin_start": 0.20000000000000007,
            "bin_end": 0.30000000000000004,
            "count": 0
           },
           {
            "bin_start": 0.30000000000000004,
            "bin_end": 0.4,
            "count": 0
           },
           {
            "bin_start": 0.4,
            "bin_end": 0.5,
            "count": 0
           }
          ]
         }
        },
        {
         "name": "SW",
         "dtype": "uint8",
         "stats": {
          "unique_count": 1,
          "nan_count": 0,
          "min": "0",
          "max": "0",
          "histogram": [
           {
            "bin_start": -0.5,
            "bin_end": -0.4,
            "count": 0
           },
           {
            "bin_start": -0.4,
            "bin_end": -0.3,
            "count": 0
           },
           {
            "bin_start": -0.3,
            "bin_end": -0.19999999999999996,
            "count": 0
           },
           {
            "bin_start": -0.19999999999999996,
            "bin_end": -0.09999999999999998,
            "count": 0
           },
           {
            "bin_start": -0.09999999999999998,
            "bin_end": 0,
            "count": 0
           },
           {
            "bin_start": 0,
            "bin_end": 0.10000000000000009,
            "count": 5
           },
           {
            "bin_start": 0.10000000000000009,
            "bin_end": 0.20000000000000007,
            "count": 0
           },
           {
            "bin_start": 0.20000000000000007,
            "bin_end": 0.30000000000000004,
            "count": 0
           },
           {
            "bin_start": 0.30000000000000004,
            "bin_end": 0.4,
            "count": 0
           },
           {
            "bin_start": 0.4,
            "bin_end": 0.5,
            "count": 0
           }
          ]
         }
        },
        {
         "name": "W",
         "dtype": "uint8",
         "stats": {
          "unique_count": 1,
          "nan_count": 0,
          "min": "0",
          "max": "0",
          "histogram": [
           {
            "bin_start": -0.5,
            "bin_end": -0.4,
            "count": 0
           },
           {
            "bin_start": -0.4,
            "bin_end": -0.3,
            "count": 0
           },
           {
            "bin_start": -0.3,
            "bin_end": -0.19999999999999996,
            "count": 0
           },
           {
            "bin_start": -0.19999999999999996,
            "bin_end": -0.09999999999999998,
            "count": 0
           },
           {
            "bin_start": -0.09999999999999998,
            "bin_end": 0,
            "count": 0
           },
           {
            "bin_start": 0,
            "bin_end": 0.10000000000000009,
            "count": 5
           },
           {
            "bin_start": 0.10000000000000009,
            "bin_end": 0.20000000000000007,
            "count": 0
           },
           {
            "bin_start": 0.20000000000000007,
            "bin_end": 0.30000000000000004,
            "count": 0
           },
           {
            "bin_start": 0.30000000000000004,
            "bin_end": 0.4,
            "count": 0
           },
           {
            "bin_start": 0.4,
            "bin_end": 0.5,
            "count": 0
           }
          ]
         }
        },
        {
         "name": "WNW",
         "dtype": "uint8",
         "stats": {
          "unique_count": 2,
          "nan_count": 0,
          "min": "0",
          "max": "1",
          "histogram": [
           {
            "bin_start": 0,
            "bin_end": 0.1,
            "count": 4
           },
           {
            "bin_start": 0.1,
            "bin_end": 0.2,
            "count": 0
           },
           {
            "bin_start": 0.2,
            "bin_end": 0.30000000000000004,
            "count": 0
           },
           {
            "bin_start": 0.30000000000000004,
            "bin_end": 0.4,
            "count": 0
           },
           {
            "bin_start": 0.4,
            "bin_end": 0.5,
            "count": 0
           },
           {
            "bin_start": 0.5,
            "bin_end": 0.6000000000000001,
            "count": 0
           },
           {
            "bin_start": 0.6000000000000001,
            "bin_end": 0.7000000000000001,
            "count": 0
           },
           {
            "bin_start": 0.7000000000000001,
            "bin_end": 0.8,
            "count": 0
           },
           {
            "bin_start": 0.8,
            "bin_end": 0.9,
            "count": 0
           },
           {
            "bin_start": 0.9,
            "bin_end": 1,
            "count": 1
           }
          ]
         }
        },
        {
         "name": "WSW",
         "dtype": "uint8",
         "stats": {
          "unique_count": 2,
          "nan_count": 0,
          "min": "0",
          "max": "1",
          "histogram": [
           {
            "bin_start": 0,
            "bin_end": 0.1,
            "count": 3
           },
           {
            "bin_start": 0.1,
            "bin_end": 0.2,
            "count": 0
           },
           {
            "bin_start": 0.2,
            "bin_end": 0.30000000000000004,
            "count": 0
           },
           {
            "bin_start": 0.30000000000000004,
            "bin_end": 0.4,
            "count": 0
           },
           {
            "bin_start": 0.4,
            "bin_end": 0.5,
            "count": 0
           },
           {
            "bin_start": 0.5,
            "bin_end": 0.6000000000000001,
            "count": 0
           },
           {
            "bin_start": 0.6000000000000001,
            "bin_end": 0.7000000000000001,
            "count": 0
           },
           {
            "bin_start": 0.7000000000000001,
            "bin_end": 0.8,
            "count": 0
           },
           {
            "bin_start": 0.8,
            "bin_end": 0.9,
            "count": 0
           },
           {
            "bin_start": 0.9,
            "bin_end": 1,
            "count": 2
           }
          ]
         }
        },
        {
         "name": "nan",
         "dtype": "uint8",
         "stats": {
          "unique_count": 1,
          "nan_count": 0,
          "min": "0",
          "max": "0",
          "histogram": [
           {
            "bin_start": -0.5,
            "bin_end": -0.4,
            "count": 0
           },
           {
            "bin_start": -0.4,
            "bin_end": -0.3,
            "count": 0
           },
           {
            "bin_start": -0.3,
            "bin_end": -0.19999999999999996,
            "count": 0
           },
           {
            "bin_start": -0.19999999999999996,
            "bin_end": -0.09999999999999998,
            "count": 0
           },
           {
            "bin_start": -0.09999999999999998,
            "bin_end": 0,
            "count": 0
           },
           {
            "bin_start": 0,
            "bin_end": 0.10000000000000009,
            "count": 5
           },
           {
            "bin_start": 0.10000000000000009,
            "bin_end": 0.20000000000000007,
            "count": 0
           },
           {
            "bin_start": 0.20000000000000007,
            "bin_end": 0.30000000000000004,
            "count": 0
           },
           {
            "bin_start": 0.30000000000000004,
            "bin_end": 0.4,
            "count": 0
           },
           {
            "bin_start": 0.4,
            "bin_end": 0.5,
            "count": 0
           }
          ]
         }
        },
        {
         "name": "_deepnote_index_column",
         "dtype": "int64"
        }
       ],
       "rows": [
        {
         "ENE": 0,
         "ESE": 0,
         "N": 0,
         "NE": 0,
         "NNE": 0,
         "NNW": 0,
         "NW": 0,
         "S": 0,
         "SE": 0,
         "SSE": 0,
         "SSW": 0,
         "SW": 0,
         "W": 0,
         "WNW": 1,
         "WSW": 0,
         "nan": 0,
         "_deepnote_index_column": 0
        },
        {
         "ENE": 0,
         "ESE": 0,
         "N": 0,
         "NE": 0,
         "NNE": 0,
         "NNW": 0,
         "NW": 0,
         "S": 0,
         "SE": 0,
         "SSE": 0,
         "SSW": 0,
         "SW": 0,
         "W": 0,
         "WNW": 0,
         "WSW": 1,
         "nan": 0,
         "_deepnote_index_column": 1
        },
        {
         "ENE": 0,
         "ESE": 0,
         "N": 0,
         "NE": 0,
         "NNE": 0,
         "NNW": 0,
         "NW": 0,
         "S": 0,
         "SE": 0,
         "SSE": 0,
         "SSW": 0,
         "SW": 0,
         "W": 0,
         "WNW": 0,
         "WSW": 1,
         "nan": 0,
         "_deepnote_index_column": 2
        },
        {
         "ENE": 0,
         "ESE": 0,
         "N": 0,
         "NE": 0,
         "NNE": 0,
         "NNW": 0,
         "NW": 0,
         "S": 0,
         "SE": 0,
         "SSE": 0,
         "SSW": 0,
         "SW": 0,
         "W": 0,
         "WNW": 0,
         "WSW": 0,
         "nan": 0,
         "_deepnote_index_column": 3
        },
        {
         "ENE": 0,
         "ESE": 0,
         "N": 0,
         "NE": 0,
         "NNE": 0,
         "NNW": 0,
         "NW": 1,
         "S": 0,
         "SE": 0,
         "SSE": 0,
         "SSW": 0,
         "SW": 0,
         "W": 0,
         "WNW": 0,
         "WSW": 0,
         "nan": 0,
         "_deepnote_index_column": 4
        }
       ]
      },
      "text/plain": "   ENE  ESE  N  NE  NNE  NNW  NW  S  SE  SSE  SSW  SW  W  WNW  WSW  NaN\n0    0    0  0   0    0    0   0  0   0    0    0   0  0    1    0    0\n1    0    0  0   0    0    0   0  0   0    0    0   0  0    0    1    0\n2    0    0  0   0    0    0   0  0   0    0    0   0  0    0    1    0\n3    0    0  0   0    0    0   0  0   0    0    0   0  0    0    0    0\n4    0    0  0   0    0    0   1  0   0    0    0   0  0    0    0    0",
      "text/html": "<div>\n<style scoped>\n    .dataframe tbody tr th:only-of-type {\n        vertical-align: middle;\n    }\n\n    .dataframe tbody tr th {\n        vertical-align: top;\n    }\n\n    .dataframe thead th {\n        text-align: right;\n    }\n</style>\n<table border=\"1\" class=\"dataframe\">\n  <thead>\n    <tr style=\"text-align: right;\">\n      <th></th>\n      <th>ENE</th>\n      <th>ESE</th>\n      <th>N</th>\n      <th>NE</th>\n      <th>NNE</th>\n      <th>NNW</th>\n      <th>NW</th>\n      <th>S</th>\n      <th>SE</th>\n      <th>SSE</th>\n      <th>SSW</th>\n      <th>SW</th>\n      <th>W</th>\n      <th>WNW</th>\n      <th>WSW</th>\n      <th>NaN</th>\n    </tr>\n  </thead>\n  <tbody>\n    <tr>\n      <th>0</th>\n      <td>0</td>\n      <td>0</td>\n      <td>0</td>\n      <td>0</td>\n      <td>0</td>\n      <td>0</td>\n      <td>0</td>\n      <td>0</td>\n      <td>0</td>\n      <td>0</td>\n      <td>0</td>\n      <td>0</td>\n      <td>0</td>\n      <td>1</td>\n      <td>0</td>\n      <td>0</td>\n    </tr>\n    <tr>\n      <th>1</th>\n      <td>0</td>\n      <td>0</td>\n      <td>0</td>\n      <td>0</td>\n      <td>0</td>\n      <td>0</td>\n      <td>0</td>\n      <td>0</td>\n      <td>0</td>\n      <td>0</td>\n      <td>0</td>\n      <td>0</td>\n      <td>0</td>\n      <td>0</td>\n      <td>1</td>\n      <td>0</td>\n    </tr>\n    <tr>\n      <th>2</th>\n      <td>0</td>\n      <td>0</td>\n      <td>0</td>\n      <td>0</td>\n      <td>0</td>\n      <td>0</td>\n      <td>0</td>\n      <td>0</td>\n      <td>0</td>\n      <td>0</td>\n      <td>0</td>\n      <td>0</td>\n      <td>0</td>\n      <td>0</td>\n      <td>1</td>\n      <td>0</td>\n    </tr>\n    <tr>\n      <th>3</th>\n      <td>0</td>\n      <td>0</td>\n      <td>0</td>\n      <td>0</td>\n      <td>0</td>\n      <td>0</td>\n      <td>0</td>\n      <td>0</td>\n      <td>0</td>\n      <td>0</td>\n      <td>0</td>\n      <td>0</td>\n      <td>0</td>\n      <td>0</td>\n      <td>0</td>\n      <td>0</td>\n    </tr>\n    <tr>\n      <th>4</th>\n      <td>0</td>\n      <td>0</td>\n      <td>0</td>\n      <td>0</td>\n      <td>0</td>\n      <td>0</td>\n      <td>1</td>\n      <td>0</td>\n      <td>0</td>\n      <td>0</td>\n      <td>0</td>\n      <td>0</td>\n      <td>0</td>\n      <td>0</td>\n      <td>0</td>\n      <td>0</td>\n    </tr>\n  </tbody>\n</table>\n</div>"
     },
     "metadata": {}
    }
   ],
   "execution_count": 36
  },
  {
   "cell_type": "code",
   "source": "rain.RainToday.value_counts()",
   "metadata": {
    "cell_id": "a2c83fbf235c4c4ba9699c6d02238415",
    "tags": [],
    "deepnote_to_be_reexecuted": false,
    "source_hash": "b6d6a752",
    "execution_start": 1649251111120,
    "execution_millis": 18,
    "deepnote_cell_type": "code",
    "deepnote_cell_height": 66.65625
   },
   "outputs": [
    {
     "output_type": "execute_result",
     "execution_count": 37,
     "data": {
      "text/plain": "No     109332\nYes     31455\nName: RainToday, dtype: int64"
     },
     "metadata": {}
    }
   ],
   "execution_count": 37
  },
  {
   "cell_type": "code",
   "source": "pd.get_dummies(rain.RainToday, drop_first=True, dummy_na=True).head()",
   "metadata": {
    "cell_id": "c246b12df4b14aff896bf8ea60642ff5",
    "tags": [],
    "deepnote_to_be_reexecuted": false,
    "source_hash": "c11e8954",
    "execution_start": 1649251111146,
    "execution_millis": 28,
    "deepnote_cell_type": "code",
    "deepnote_cell_height": 66.65625
   },
   "outputs": [
    {
     "output_type": "execute_result",
     "execution_count": 38,
     "data": {
      "application/vnd.deepnote.dataframe.v3+json": {
       "column_count": 2,
       "row_count": 5,
       "columns": [
        {
         "name": "Yes",
         "dtype": "uint8",
         "stats": {
          "unique_count": 1,
          "nan_count": 0,
          "min": "0",
          "max": "0",
          "histogram": [
           {
            "bin_start": -0.5,
            "bin_end": -0.4,
            "count": 0
           },
           {
            "bin_start": -0.4,
            "bin_end": -0.3,
            "count": 0
           },
           {
            "bin_start": -0.3,
            "bin_end": -0.19999999999999996,
            "count": 0
           },
           {
            "bin_start": -0.19999999999999996,
            "bin_end": -0.09999999999999998,
            "count": 0
           },
           {
            "bin_start": -0.09999999999999998,
            "bin_end": 0,
            "count": 0
           },
           {
            "bin_start": 0,
            "bin_end": 0.10000000000000009,
            "count": 5
           },
           {
            "bin_start": 0.10000000000000009,
            "bin_end": 0.20000000000000007,
            "count": 0
           },
           {
            "bin_start": 0.20000000000000007,
            "bin_end": 0.30000000000000004,
            "count": 0
           },
           {
            "bin_start": 0.30000000000000004,
            "bin_end": 0.4,
            "count": 0
           },
           {
            "bin_start": 0.4,
            "bin_end": 0.5,
            "count": 0
           }
          ]
         }
        },
        {
         "name": "nan",
         "dtype": "uint8",
         "stats": {
          "unique_count": 1,
          "nan_count": 0,
          "min": "0",
          "max": "0",
          "histogram": [
           {
            "bin_start": -0.5,
            "bin_end": -0.4,
            "count": 0
           },
           {
            "bin_start": -0.4,
            "bin_end": -0.3,
            "count": 0
           },
           {
            "bin_start": -0.3,
            "bin_end": -0.19999999999999996,
            "count": 0
           },
           {
            "bin_start": -0.19999999999999996,
            "bin_end": -0.09999999999999998,
            "count": 0
           },
           {
            "bin_start": -0.09999999999999998,
            "bin_end": 0,
            "count": 0
           },
           {
            "bin_start": 0,
            "bin_end": 0.10000000000000009,
            "count": 5
           },
           {
            "bin_start": 0.10000000000000009,
            "bin_end": 0.20000000000000007,
            "count": 0
           },
           {
            "bin_start": 0.20000000000000007,
            "bin_end": 0.30000000000000004,
            "count": 0
           },
           {
            "bin_start": 0.30000000000000004,
            "bin_end": 0.4,
            "count": 0
           },
           {
            "bin_start": 0.4,
            "bin_end": 0.5,
            "count": 0
           }
          ]
         }
        },
        {
         "name": "_deepnote_index_column",
         "dtype": "int64"
        }
       ],
       "rows": [
        {
         "Yes": 0,
         "nan": 0,
         "_deepnote_index_column": 0
        },
        {
         "Yes": 0,
         "nan": 0,
         "_deepnote_index_column": 1
        },
        {
         "Yes": 0,
         "nan": 0,
         "_deepnote_index_column": 2
        },
        {
         "Yes": 0,
         "nan": 0,
         "_deepnote_index_column": 3
        },
        {
         "Yes": 0,
         "nan": 0,
         "_deepnote_index_column": 4
        }
       ]
      },
      "text/plain": "   Yes  NaN\n0    0    0\n1    0    0\n2    0    0\n3    0    0\n4    0    0",
      "text/html": "<div>\n<style scoped>\n    .dataframe tbody tr th:only-of-type {\n        vertical-align: middle;\n    }\n\n    .dataframe tbody tr th {\n        vertical-align: top;\n    }\n\n    .dataframe thead th {\n        text-align: right;\n    }\n</style>\n<table border=\"1\" class=\"dataframe\">\n  <thead>\n    <tr style=\"text-align: right;\">\n      <th></th>\n      <th>Yes</th>\n      <th>NaN</th>\n    </tr>\n  </thead>\n  <tbody>\n    <tr>\n      <th>0</th>\n      <td>0</td>\n      <td>0</td>\n    </tr>\n    <tr>\n      <th>1</th>\n      <td>0</td>\n      <td>0</td>\n    </tr>\n    <tr>\n      <th>2</th>\n      <td>0</td>\n      <td>0</td>\n    </tr>\n    <tr>\n      <th>3</th>\n      <td>0</td>\n      <td>0</td>\n    </tr>\n    <tr>\n      <th>4</th>\n      <td>0</td>\n      <td>0</td>\n    </tr>\n  </tbody>\n</table>\n</div>"
     },
     "metadata": {}
    }
   ],
   "execution_count": 38
  },
  {
   "cell_type": "markdown",
   "source": "## Visualización efectiva de Datos",
   "metadata": {
    "cell_id": "c10a68ed9e5a4695b1c93af4eeb27aae",
    "tags": [],
    "is_collapsed": false,
    "deepnote_cell_type": "text-cell-h2"
   }
  },
  {
   "cell_type": "code",
   "metadata": {
    "cell_id": "c9e1d83e530645f39d6812bae16808da",
    "tags": [],
    "deepnote_to_be_reexecuted": false,
    "source_hash": "9f644521",
    "execution_start": 1649251111175,
    "execution_millis": 579,
    "deepnote_cell_type": "code",
    "deepnote_cell_height": 217.65625
   },
   "source": "#Mostrar el tamaño del dataset filtrado con el que se va a trabajar el proyecto\nfig = make_subplots(rows=1, cols=2)\nfig.add_trace(go.Indicator(mode = \"number\", value = df_filtrado.shape[0], number={'font':{'color': '#E58F65','size':100}}, title = {\"text\": \"🧾 Rows<br><span style='font-size:0.8em;color:gray'>In the Dataframe</span>\"}, domain = {'x': [0, 0.5], 'y': [0.6, 1]}))\nfig.add_trace(go.Indicator(mode = \"number\", value = df_filtrado.shape[1], number={'font':{'color': '#E58F65','size':100}}, title = {\"text\": \"⭕ Columns<br><span style='font-size:0.8em;color:gray'>In the Dataframe</span>\"}, domain = {'x': [0.5, 1], 'y': [0, 0.4]}))\nfig.show()",
   "execution_count": 39,
   "outputs": [
    {
     "output_type": "error",
     "ename": "NameError",
     "evalue": "name 'df_filtrado' is not defined",
     "traceback": [
      "\u001b[0;31m---------------------------------------------------------------------------\u001b[0m",
      "\u001b[0;31mNameError\u001b[0m                                 Traceback (most recent call last)",
      "\u001b[0;32m<ipython-input-39-5cbec898d097>\u001b[0m in \u001b[0;36m<cell line: 3>\u001b[0;34m()\u001b[0m\n\u001b[1;32m      1\u001b[0m \u001b[0;31m#Mostrar el tamaño del dataset filtrado con el que se va a trabajar el proyecto\u001b[0m\u001b[0;34m\u001b[0m\u001b[0;34m\u001b[0m\u001b[0m\n\u001b[1;32m      2\u001b[0m \u001b[0mfig\u001b[0m \u001b[0;34m=\u001b[0m \u001b[0mmake_subplots\u001b[0m\u001b[0;34m(\u001b[0m\u001b[0mrows\u001b[0m\u001b[0;34m=\u001b[0m\u001b[0;36m1\u001b[0m\u001b[0;34m,\u001b[0m \u001b[0mcols\u001b[0m\u001b[0;34m=\u001b[0m\u001b[0;36m2\u001b[0m\u001b[0;34m)\u001b[0m\u001b[0;34m\u001b[0m\u001b[0;34m\u001b[0m\u001b[0m\n\u001b[0;32m----> 3\u001b[0;31m \u001b[0mfig\u001b[0m\u001b[0;34m.\u001b[0m\u001b[0madd_trace\u001b[0m\u001b[0;34m(\u001b[0m\u001b[0mgo\u001b[0m\u001b[0;34m.\u001b[0m\u001b[0mIndicator\u001b[0m\u001b[0;34m(\u001b[0m\u001b[0mmode\u001b[0m \u001b[0;34m=\u001b[0m \u001b[0;34m\"number\"\u001b[0m\u001b[0;34m,\u001b[0m \u001b[0mvalue\u001b[0m \u001b[0;34m=\u001b[0m \u001b[0mdf_filtrado\u001b[0m\u001b[0;34m.\u001b[0m\u001b[0mshape\u001b[0m\u001b[0;34m[\u001b[0m\u001b[0;36m0\u001b[0m\u001b[0;34m]\u001b[0m\u001b[0;34m,\u001b[0m \u001b[0mnumber\u001b[0m\u001b[0;34m=\u001b[0m\u001b[0;34m{\u001b[0m\u001b[0;34m'font'\u001b[0m\u001b[0;34m:\u001b[0m\u001b[0;34m{\u001b[0m\u001b[0;34m'color'\u001b[0m\u001b[0;34m:\u001b[0m \u001b[0;34m'#E58F65'\u001b[0m\u001b[0;34m,\u001b[0m\u001b[0;34m'size'\u001b[0m\u001b[0;34m:\u001b[0m\u001b[0;36m100\u001b[0m\u001b[0;34m}\u001b[0m\u001b[0;34m}\u001b[0m\u001b[0;34m,\u001b[0m \u001b[0mtitle\u001b[0m \u001b[0;34m=\u001b[0m \u001b[0;34m{\u001b[0m\u001b[0;34m\"text\"\u001b[0m\u001b[0;34m:\u001b[0m \u001b[0;34m\"🧾 Rows<br><span style='font-size:0.8em;color:gray'>In the Dataframe</span>\"\u001b[0m\u001b[0;34m}\u001b[0m\u001b[0;34m,\u001b[0m \u001b[0mdomain\u001b[0m \u001b[0;34m=\u001b[0m \u001b[0;34m{\u001b[0m\u001b[0;34m'x'\u001b[0m\u001b[0;34m:\u001b[0m \u001b[0;34m[\u001b[0m\u001b[0;36m0\u001b[0m\u001b[0;34m,\u001b[0m \u001b[0;36m0.5\u001b[0m\u001b[0;34m]\u001b[0m\u001b[0;34m,\u001b[0m \u001b[0;34m'y'\u001b[0m\u001b[0;34m:\u001b[0m \u001b[0;34m[\u001b[0m\u001b[0;36m0.6\u001b[0m\u001b[0;34m,\u001b[0m \u001b[0;36m1\u001b[0m\u001b[0;34m]\u001b[0m\u001b[0;34m}\u001b[0m\u001b[0;34m)\u001b[0m\u001b[0;34m)\u001b[0m\u001b[0;34m\u001b[0m\u001b[0;34m\u001b[0m\u001b[0m\n\u001b[0m\u001b[1;32m      4\u001b[0m \u001b[0mfig\u001b[0m\u001b[0;34m.\u001b[0m\u001b[0madd_trace\u001b[0m\u001b[0;34m(\u001b[0m\u001b[0mgo\u001b[0m\u001b[0;34m.\u001b[0m\u001b[0mIndicator\u001b[0m\u001b[0;34m(\u001b[0m\u001b[0mmode\u001b[0m \u001b[0;34m=\u001b[0m \u001b[0;34m\"number\"\u001b[0m\u001b[0;34m,\u001b[0m \u001b[0mvalue\u001b[0m \u001b[0;34m=\u001b[0m \u001b[0mdf_filtrado\u001b[0m\u001b[0;34m.\u001b[0m\u001b[0mshape\u001b[0m\u001b[0;34m[\u001b[0m\u001b[0;36m1\u001b[0m\u001b[0;34m]\u001b[0m\u001b[0;34m,\u001b[0m \u001b[0mnumber\u001b[0m\u001b[0;34m=\u001b[0m\u001b[0;34m{\u001b[0m\u001b[0;34m'font'\u001b[0m\u001b[0;34m:\u001b[0m\u001b[0;34m{\u001b[0m\u001b[0;34m'color'\u001b[0m\u001b[0;34m:\u001b[0m \u001b[0;34m'#E58F65'\u001b[0m\u001b[0;34m,\u001b[0m\u001b[0;34m'size'\u001b[0m\u001b[0;34m:\u001b[0m\u001b[0;36m100\u001b[0m\u001b[0;34m}\u001b[0m\u001b[0;34m}\u001b[0m\u001b[0;34m,\u001b[0m \u001b[0mtitle\u001b[0m \u001b[0;34m=\u001b[0m \u001b[0;34m{\u001b[0m\u001b[0;34m\"text\"\u001b[0m\u001b[0;34m:\u001b[0m \u001b[0;34m\"⭕ Columns<br><span style='font-size:0.8em;color:gray'>In the Dataframe</span>\"\u001b[0m\u001b[0;34m}\u001b[0m\u001b[0;34m,\u001b[0m \u001b[0mdomain\u001b[0m \u001b[0;34m=\u001b[0m \u001b[0;34m{\u001b[0m\u001b[0;34m'x'\u001b[0m\u001b[0;34m:\u001b[0m \u001b[0;34m[\u001b[0m\u001b[0;36m0.5\u001b[0m\u001b[0;34m,\u001b[0m \u001b[0;36m1\u001b[0m\u001b[0;34m]\u001b[0m\u001b[0;34m,\u001b[0m \u001b[0;34m'y'\u001b[0m\u001b[0;34m:\u001b[0m \u001b[0;34m[\u001b[0m\u001b[0;36m0\u001b[0m\u001b[0;34m,\u001b[0m \u001b[0;36m0.4\u001b[0m\u001b[0;34m]\u001b[0m\u001b[0;34m}\u001b[0m\u001b[0;34m)\u001b[0m\u001b[0;34m)\u001b[0m\u001b[0;34m\u001b[0m\u001b[0;34m\u001b[0m\u001b[0m\n\u001b[1;32m      5\u001b[0m \u001b[0mfig\u001b[0m\u001b[0;34m.\u001b[0m\u001b[0mshow\u001b[0m\u001b[0;34m(\u001b[0m\u001b[0;34m)\u001b[0m\u001b[0;34m\u001b[0m\u001b[0;34m\u001b[0m\u001b[0m\n",
      "\u001b[0;31mNameError\u001b[0m: name 'df_filtrado' is not defined"
     ]
    }
   ]
  },
  {
   "cell_type": "code",
   "metadata": {
    "cell_id": "53412b1012674ca9bd2186f27c6e025b",
    "tags": [],
    "deepnote_to_be_reexecuted": true,
    "source_hash": "b13ea6d8",
    "execution_start": 1649198070846,
    "execution_millis": 24,
    "deepnote_cell_type": "code",
    "deepnote_cell_height": 709.65625,
    "deepnote_output_heights": [
     611
    ]
   },
   "source": "Ciudades.tolist()",
   "execution_count": null,
   "outputs": [
    {
     "output_type": "execute_result",
     "execution_count": 34,
     "data": {
      "text/plain": "['Albury',\n 'BadgerysCreek',\n 'Cobar',\n 'CoffsHarbour',\n 'Moree',\n 'Newcastle',\n 'NorahHead',\n 'NorfolkIsland',\n 'Penrith',\n 'Richmond',\n 'Sydney',\n 'SydneyAirport',\n 'WaggaWagga',\n 'Williamtown',\n 'Wollongong',\n 'Canberra',\n 'Tuggeranong',\n 'MountGinini',\n 'Ballarat',\n 'Bendigo',\n 'Sale',\n 'MelbourneAirport',\n 'Melbourne',\n 'Mildura',\n 'Nhil',\n 'Portland',\n 'Watsonia',\n 'Dartmoor',\n 'Brisbane',\n 'Cairns',\n 'GoldCoast',\n 'Townsville',\n 'Adelaide',\n 'MountGambier',\n 'Nuriootpa',\n 'Woomera',\n 'Albany',\n 'Witchcliffe',\n 'PearceRAAF',\n 'PerthAirport',\n 'Perth',\n 'SalmonGums',\n 'Walpole',\n 'Hobart',\n 'Launceston',\n 'AliceSprings',\n 'Darwin',\n 'Katherine',\n 'Uluru']"
     },
     "metadata": {}
    }
   ]
  },
  {
   "cell_type": "code",
   "metadata": {
    "cell_id": "498add61f328420ea499db1adaa099c3",
    "tags": [],
    "deepnote_to_be_reexecuted": true,
    "source_hash": "164b2d26",
    "execution_start": 1649200196577,
    "execution_millis": 54912,
    "deepnote_cell_type": "code",
    "deepnote_cell_height": 351.65625,
    "deepnote_output_heights": [
     null,
     174.640625
    ]
   },
   "source": "#¿Donde están ubicadas las viviendas?\n# Crear Objeto Nominatim\ngeolocator = Nominatim(user_agent=\"AppMap\")#\n\nlocation_lista = ['Albury','Badgerys Creek','Cobar','Coffs Harbour','Moree','Newcastle','Norah Head','Norfolk Island','Penrith',\n 'Richmond','Sydney','Sydney Airport','Wagga Wagga','Williamtown','Wollongong','Canberra','Tuggeranong','Mount Ginini','Ballarat',\n 'Bendigo','Sale','Melbourne Airport','Melbourne','Mildura','Nhil','Portland','Watsonia','Dartmoor','Brisbane','Cairns','GoldCoast',\n 'Townsville','Adelaide','Mount Gambier','Nuriootpa','Woomera','Albany','Witchcliffe','Pearce RAAF','Perth Airport','Perth','SalmonGums',\n 'Walpole','Hobart','Launceston','Alice Springs','Darwin','Katherine','Uluru']\n\n#Recorremos la lista\nfor i in location_lista:\n    address = geolocator.geocode(i, timeout=10)\n    #print (\"Ciudad de \"+ i + \" : \" + str(address.longitude) + \",\" + str(address.latitude))\n    #print (\"Ciudad de \"+ i)\n    time.sleep(1)",
   "execution_count": null,
   "outputs": []
  },
  {
   "cell_type": "code",
   "metadata": {
    "cell_id": "c2e45a1b7e3c43d1bf765a3bc99b9684",
    "tags": [],
    "deepnote_to_be_reexecuted": true,
    "source_hash": "88087de9",
    "execution_start": 1649199009150,
    "execution_millis": 119,
    "deepnote_cell_type": "code",
    "deepnote_cell_height": 485.703125,
    "deepnote_output_heights": [
     null,
     21.1875
    ]
   },
   "source": "#Dimensiónd de la figura\nplt.figure(figsize=(16,12))\n\n#Distribución lines costeras\neq_map=Basemap(projection='robin',lon_0=0,lat_0=0)\n#Dibujar lineas costeras y paises\neq_map.drawcoastlines()\neq_map.drawcountries()\n#Definir colores\neq_map.fillcontinents(color=\"brown\")\neq_map.drawmapboundary(fill_color=\"aqua\")\n\nfor i in location_lista:\n    address = geolocator.geocode(i, timeout=2)    \n    time.sleep(0.5)\n    x,y = eq_map(address.longitude,address.latitude)\n    eq_map.plot(x,y, color= 'g',marker='o', markersize=17, alpha=0.8)",
   "execution_count": null,
   "outputs": [
    {
     "output_type": "error",
     "ename": "NameError",
     "evalue": "name 'Basemap' is not defined",
     "traceback": [
      "\u001b[0;31m---------------------------------------------------------------------------\u001b[0m",
      "\u001b[0;31mNameError\u001b[0m                                 Traceback (most recent call last)",
      "\u001b[0;32m<ipython-input-47-90f0a41e7cd9>\u001b[0m in \u001b[0;36m<module>\u001b[0;34m\u001b[0m\n\u001b[1;32m      3\u001b[0m \u001b[0;34m\u001b[0m\u001b[0m\n\u001b[1;32m      4\u001b[0m \u001b[0;31m#Distribución lines costeras\u001b[0m\u001b[0;34m\u001b[0m\u001b[0;34m\u001b[0m\u001b[0;34m\u001b[0m\u001b[0m\n\u001b[0;32m----> 5\u001b[0;31m \u001b[0meq_map\u001b[0m\u001b[0;34m=\u001b[0m\u001b[0mBasemap\u001b[0m\u001b[0;34m(\u001b[0m\u001b[0mprojection\u001b[0m\u001b[0;34m=\u001b[0m\u001b[0;34m'robin'\u001b[0m\u001b[0;34m,\u001b[0m\u001b[0mlon_0\u001b[0m\u001b[0;34m=\u001b[0m\u001b[0;36m0\u001b[0m\u001b[0;34m,\u001b[0m\u001b[0mlat_0\u001b[0m\u001b[0;34m=\u001b[0m\u001b[0;36m0\u001b[0m\u001b[0;34m)\u001b[0m\u001b[0;34m\u001b[0m\u001b[0;34m\u001b[0m\u001b[0m\n\u001b[0m\u001b[1;32m      6\u001b[0m \u001b[0;31m#Dibujar lineas costeras y paises\u001b[0m\u001b[0;34m\u001b[0m\u001b[0;34m\u001b[0m\u001b[0;34m\u001b[0m\u001b[0m\n\u001b[1;32m      7\u001b[0m \u001b[0meq_map\u001b[0m\u001b[0;34m.\u001b[0m\u001b[0mdrawcoastlines\u001b[0m\u001b[0;34m(\u001b[0m\u001b[0;34m)\u001b[0m\u001b[0;34m\u001b[0m\u001b[0;34m\u001b[0m\u001b[0m\n",
      "\u001b[0;31mNameError\u001b[0m: name 'Basemap' is not defined"
     ]
    },
    {
     "data": {
      "text/plain": "<Figure size 1152x864 with 0 Axes>"
     },
     "metadata": {},
     "output_type": "display_data"
    }
   ]
  },
  {
   "cell_type": "code",
   "metadata": {
    "cell_id": "ea8c9f3cbae24d60bc0bb966f5314a2d",
    "tags": [],
    "deepnote_to_be_reexecuted": true,
    "source_hash": "90cc660",
    "deepnote_cell_type": "code",
    "deepnote_cell_height": 192.65625
   },
   "source": "#Generar el mapa original\nm_5 = folium.Map(location=[5.170035, -74.914305], tiles='cartodbpositron', zoom_start=6)\n\n# Añadir el mapa de calor con las cordenadas al mapa original\nHeatMap(data=df_filtrado[['lat', 'lon']], radius=10).add_to(m_5)\n\n# Mostrar el mapa\nm_5",
   "execution_count": null,
   "outputs": []
  },
  {
   "cell_type": "markdown",
   "source": "## Ingeniería de características",
   "metadata": {
    "cell_id": "b93588d061754a4ea396a02080ac9806",
    "tags": [],
    "is_collapsed": false,
    "deepnote_cell_type": "text-cell-h2"
   }
  },
  {
   "cell_type": "markdown",
   "source": "<a style='text-decoration:none;line-height:16px;display:flex;color:#5B5B62;padding:10px;justify-content:end;' href='https://deepnote.com?utm_source=created-in-deepnote-cell&projectId=0fa0bc36-8b95-4938-8cdb-b0779e978154' target=\"_blank\">\n<img alt='Created in deepnote.com' style='display:inline;max-height:16px;margin:0px;margin-right:7.5px;' src='data:image/svg+xml;base64,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' > </img>\nCreated in <span style='font-weight:600;margin-left:4px;'>Deepnote</span></a>",
   "metadata": {
    "tags": [],
    "created_in_deepnote_cell": true,
    "deepnote_cell_type": "markdown"
   }
  }
 ],
 "nbformat": 4,
 "nbformat_minor": 2,
 "metadata": {
  "orig_nbformat": 2,
  "deepnote": {
   "is_reactive": false
  },
  "deepnote_notebook_id": "45d22b66-d1e6-4526-92e5-706b061c5223",
  "deepnote_execution_queue": []
 }
}